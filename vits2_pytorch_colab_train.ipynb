{
  "nbformat": 4,
  "nbformat_minor": 0,
  "metadata": {
    "colab": {
      "provenance": [],
      "gpuType": "T4",
      "include_colab_link": true
    },
    "kernelspec": {
      "name": "python3",
      "display_name": "Python 3"
    },
    "language_info": {
      "name": "python"
    },
    "accelerator": "GPU"
  },
  "cells": [
    {
      "cell_type": "markdown",
      "metadata": {
        "id": "view-in-github",
        "colab_type": "text"
      },
      "source": [
        "<a href=\"https://colab.research.google.com/github/research-clone/notebook_tutorials/blob/main/vits2_pytorch_colab_train.ipynb\" target=\"_parent\"><img src=\"https://colab.research.google.com/assets/colab-badge.svg\" alt=\"Open In Colab\"/></a>"
      ]
    },
    {
      "cell_type": "code",
      "source": [
        "# restart the runtime after installing any dependencies"
      ],
      "metadata": {
        "id": "nHgS_xYz1H-c"
      },
      "execution_count": 1,
      "outputs": []
    },
    {
      "cell_type": "code",
      "execution_count": 2,
      "metadata": {
        "id": "kys2jeeG3DNp",
        "outputId": "ccf09247-3b8e-43e9-8ccf-d448003cc89d",
        "colab": {
          "base_uri": "https://localhost:8080/"
        }
      },
      "outputs": [
        {
          "output_type": "execute_result",
          "data": {
            "text/plain": [
              "True"
            ]
          },
          "metadata": {},
          "execution_count": 2
        }
      ],
      "source": [
        "import torch\n",
        "torch.cuda.is_available()"
      ]
    },
    {
      "cell_type": "code",
      "source": [
        "torch.__version__"
      ],
      "metadata": {
        "id": "ZnCXDLuxTC6F",
        "outputId": "d9542165-af51-41db-ea6f-01a27c2f2a4b",
        "colab": {
          "base_uri": "https://localhost:8080/",
          "height": 38
        }
      },
      "execution_count": 3,
      "outputs": [
        {
          "output_type": "execute_result",
          "data": {
            "text/plain": [
              "'2.1.0+cu118'"
            ],
            "application/vnd.google.colaboratory.intrinsic+json": {
              "type": "string"
            }
          },
          "metadata": {},
          "execution_count": 3
        }
      ]
    },
    {
      "cell_type": "code",
      "source": [
        "!git clone https://github.com/p0p4k/vits2_pytorch.git"
      ],
      "metadata": {
        "id": "cd1L_Cig0bQr",
        "outputId": "2b2e26ea-98e2-42c5-d158-2a87e14d2a06",
        "colab": {
          "base_uri": "https://localhost:8080/"
        }
      },
      "execution_count": 4,
      "outputs": [
        {
          "output_type": "stream",
          "name": "stdout",
          "text": [
            "fatal: destination path 'vits2_pytorch' already exists and is not an empty directory.\n"
          ]
        }
      ]
    },
    {
      "cell_type": "code",
      "source": [
        "!pwd\n",
        "%cd \"/content/vits2_pytorch/\"\n",
        "!pip install -r requirements.txt"
      ],
      "metadata": {
        "id": "sv1ZvoJe1UTn",
        "outputId": "57cfbb41-04be-4573-f4d5-9595ef39eccb",
        "colab": {
          "base_uri": "https://localhost:8080/"
        }
      },
      "execution_count": 5,
      "outputs": [
        {
          "output_type": "stream",
          "name": "stdout",
          "text": [
            "/content\n",
            "/content/vits2_pytorch\n",
            "Requirement already satisfied: Cython==3.0.2 in /usr/local/lib/python3.10/dist-packages (from -r requirements.txt (line 1)) (3.0.2)\n",
            "Requirement already satisfied: librosa==0.10.1 in /usr/local/lib/python3.10/dist-packages (from -r requirements.txt (line 2)) (0.10.1)\n",
            "Requirement already satisfied: matplotlib==3.7.2 in /usr/local/lib/python3.10/dist-packages (from -r requirements.txt (line 3)) (3.7.2)\n",
            "Requirement already satisfied: numpy==1.24.4 in /usr/local/lib/python3.10/dist-packages (from -r requirements.txt (line 4)) (1.24.4)\n",
            "Requirement already satisfied: phonemizer==3.2.1 in /usr/local/lib/python3.10/dist-packages (from -r requirements.txt (line 5)) (3.2.1)\n",
            "Requirement already satisfied: scipy==1.11.2 in /usr/local/lib/python3.10/dist-packages (from -r requirements.txt (line 6)) (1.11.2)\n",
            "Requirement already satisfied: Unidecode==1.3.6 in /usr/local/lib/python3.10/dist-packages (from -r requirements.txt (line 10)) (1.3.6)\n",
            "Requirement already satisfied: tensorboard==2.14.0 in /usr/local/lib/python3.10/dist-packages (from -r requirements.txt (line 11)) (2.14.0)\n",
            "Requirement already satisfied: onnx==1.14.1 in /usr/local/lib/python3.10/dist-packages (from -r requirements.txt (line 12)) (1.14.1)\n",
            "Requirement already satisfied: onnxruntime==1.15.1 in /usr/local/lib/python3.10/dist-packages (from -r requirements.txt (line 13)) (1.15.1)\n",
            "Requirement already satisfied: gradio in /usr/local/lib/python3.10/dist-packages (from -r requirements.txt (line 14)) (3.50.2)\n",
            "Requirement already satisfied: audioread>=2.1.9 in /usr/local/lib/python3.10/dist-packages (from librosa==0.10.1->-r requirements.txt (line 2)) (3.0.1)\n",
            "Requirement already satisfied: scikit-learn>=0.20.0 in /usr/local/lib/python3.10/dist-packages (from librosa==0.10.1->-r requirements.txt (line 2)) (1.2.2)\n",
            "Requirement already satisfied: joblib>=0.14 in /usr/local/lib/python3.10/dist-packages (from librosa==0.10.1->-r requirements.txt (line 2)) (1.3.2)\n",
            "Requirement already satisfied: decorator>=4.3.0 in /usr/local/lib/python3.10/dist-packages (from librosa==0.10.1->-r requirements.txt (line 2)) (4.4.2)\n",
            "Requirement already satisfied: numba>=0.51.0 in /usr/local/lib/python3.10/dist-packages (from librosa==0.10.1->-r requirements.txt (line 2)) (0.58.1)\n",
            "Requirement already satisfied: soundfile>=0.12.1 in /usr/local/lib/python3.10/dist-packages (from librosa==0.10.1->-r requirements.txt (line 2)) (0.12.1)\n",
            "Requirement already satisfied: pooch>=1.0 in /usr/local/lib/python3.10/dist-packages (from librosa==0.10.1->-r requirements.txt (line 2)) (1.8.0)\n",
            "Requirement already satisfied: soxr>=0.3.2 in /usr/local/lib/python3.10/dist-packages (from librosa==0.10.1->-r requirements.txt (line 2)) (0.3.7)\n",
            "Requirement already satisfied: typing-extensions>=4.1.1 in /usr/local/lib/python3.10/dist-packages (from librosa==0.10.1->-r requirements.txt (line 2)) (4.8.0)\n",
            "Requirement already satisfied: lazy-loader>=0.1 in /usr/local/lib/python3.10/dist-packages (from librosa==0.10.1->-r requirements.txt (line 2)) (0.3)\n",
            "Requirement already satisfied: msgpack>=1.0 in /usr/local/lib/python3.10/dist-packages (from librosa==0.10.1->-r requirements.txt (line 2)) (1.0.7)\n",
            "Requirement already satisfied: contourpy>=1.0.1 in /usr/local/lib/python3.10/dist-packages (from matplotlib==3.7.2->-r requirements.txt (line 3)) (1.1.1)\n",
            "Requirement already satisfied: cycler>=0.10 in /usr/local/lib/python3.10/dist-packages (from matplotlib==3.7.2->-r requirements.txt (line 3)) (0.12.1)\n",
            "Requirement already satisfied: fonttools>=4.22.0 in /usr/local/lib/python3.10/dist-packages (from matplotlib==3.7.2->-r requirements.txt (line 3)) (4.43.1)\n",
            "Requirement already satisfied: kiwisolver>=1.0.1 in /usr/local/lib/python3.10/dist-packages (from matplotlib==3.7.2->-r requirements.txt (line 3)) (1.4.5)\n",
            "Requirement already satisfied: packaging>=20.0 in /usr/local/lib/python3.10/dist-packages (from matplotlib==3.7.2->-r requirements.txt (line 3)) (23.2)\n",
            "Requirement already satisfied: pillow>=6.2.0 in /usr/local/lib/python3.10/dist-packages (from matplotlib==3.7.2->-r requirements.txt (line 3)) (9.4.0)\n",
            "Requirement already satisfied: pyparsing<3.1,>=2.3.1 in /usr/local/lib/python3.10/dist-packages (from matplotlib==3.7.2->-r requirements.txt (line 3)) (3.0.9)\n",
            "Requirement already satisfied: python-dateutil>=2.7 in /usr/local/lib/python3.10/dist-packages (from matplotlib==3.7.2->-r requirements.txt (line 3)) (2.8.2)\n",
            "Requirement already satisfied: segments in /usr/local/lib/python3.10/dist-packages (from phonemizer==3.2.1->-r requirements.txt (line 5)) (2.2.1)\n",
            "Requirement already satisfied: attrs>=18.1 in /usr/local/lib/python3.10/dist-packages (from phonemizer==3.2.1->-r requirements.txt (line 5)) (23.1.0)\n",
            "Requirement already satisfied: dlinfo in /usr/local/lib/python3.10/dist-packages (from phonemizer==3.2.1->-r requirements.txt (line 5)) (1.2.1)\n",
            "Requirement already satisfied: absl-py>=0.4 in /usr/local/lib/python3.10/dist-packages (from tensorboard==2.14.0->-r requirements.txt (line 11)) (1.4.0)\n",
            "Requirement already satisfied: grpcio>=1.48.2 in /usr/local/lib/python3.10/dist-packages (from tensorboard==2.14.0->-r requirements.txt (line 11)) (1.59.0)\n",
            "Requirement already satisfied: google-auth<3,>=1.6.3 in /usr/local/lib/python3.10/dist-packages (from tensorboard==2.14.0->-r requirements.txt (line 11)) (2.17.3)\n",
            "Requirement already satisfied: google-auth-oauthlib<1.1,>=0.5 in /usr/local/lib/python3.10/dist-packages (from tensorboard==2.14.0->-r requirements.txt (line 11)) (1.0.0)\n",
            "Requirement already satisfied: markdown>=2.6.8 in /usr/local/lib/python3.10/dist-packages (from tensorboard==2.14.0->-r requirements.txt (line 11)) (3.5)\n",
            "Requirement already satisfied: protobuf>=3.19.6 in /usr/local/lib/python3.10/dist-packages (from tensorboard==2.14.0->-r requirements.txt (line 11)) (3.20.3)\n",
            "Requirement already satisfied: requests<3,>=2.21.0 in /usr/local/lib/python3.10/dist-packages (from tensorboard==2.14.0->-r requirements.txt (line 11)) (2.31.0)\n",
            "Requirement already satisfied: setuptools>=41.0.0 in /usr/local/lib/python3.10/dist-packages (from tensorboard==2.14.0->-r requirements.txt (line 11)) (67.7.2)\n",
            "Requirement already satisfied: tensorboard-data-server<0.8.0,>=0.7.0 in /usr/local/lib/python3.10/dist-packages (from tensorboard==2.14.0->-r requirements.txt (line 11)) (0.7.2)\n",
            "Requirement already satisfied: werkzeug>=1.0.1 in /usr/local/lib/python3.10/dist-packages (from tensorboard==2.14.0->-r requirements.txt (line 11)) (3.0.1)\n",
            "Requirement already satisfied: wheel>=0.26 in /usr/local/lib/python3.10/dist-packages (from tensorboard==2.14.0->-r requirements.txt (line 11)) (0.41.2)\n",
            "Requirement already satisfied: coloredlogs in /usr/local/lib/python3.10/dist-packages (from onnxruntime==1.15.1->-r requirements.txt (line 13)) (15.0.1)\n",
            "Requirement already satisfied: flatbuffers in /usr/local/lib/python3.10/dist-packages (from onnxruntime==1.15.1->-r requirements.txt (line 13)) (23.5.26)\n",
            "Requirement already satisfied: sympy in /usr/local/lib/python3.10/dist-packages (from onnxruntime==1.15.1->-r requirements.txt (line 13)) (1.12)\n",
            "Requirement already satisfied: aiofiles<24.0,>=22.0 in /usr/local/lib/python3.10/dist-packages (from gradio->-r requirements.txt (line 14)) (23.2.1)\n",
            "Requirement already satisfied: altair<6.0,>=4.2.0 in /usr/local/lib/python3.10/dist-packages (from gradio->-r requirements.txt (line 14)) (4.2.2)\n",
            "Requirement already satisfied: fastapi in /usr/local/lib/python3.10/dist-packages (from gradio->-r requirements.txt (line 14)) (0.104.0)\n",
            "Requirement already satisfied: ffmpy in /usr/local/lib/python3.10/dist-packages (from gradio->-r requirements.txt (line 14)) (0.3.1)\n",
            "Requirement already satisfied: gradio-client==0.6.1 in /usr/local/lib/python3.10/dist-packages (from gradio->-r requirements.txt (line 14)) (0.6.1)\n",
            "Requirement already satisfied: httpx in /usr/local/lib/python3.10/dist-packages (from gradio->-r requirements.txt (line 14)) (0.25.0)\n",
            "Requirement already satisfied: huggingface-hub>=0.14.0 in /usr/local/lib/python3.10/dist-packages (from gradio->-r requirements.txt (line 14)) (0.18.0)\n",
            "Requirement already satisfied: importlib-resources<7.0,>=1.3 in /usr/local/lib/python3.10/dist-packages (from gradio->-r requirements.txt (line 14)) (6.1.0)\n",
            "Requirement already satisfied: jinja2<4.0 in /usr/local/lib/python3.10/dist-packages (from gradio->-r requirements.txt (line 14)) (3.1.2)\n",
            "Requirement already satisfied: markupsafe~=2.0 in /usr/local/lib/python3.10/dist-packages (from gradio->-r requirements.txt (line 14)) (2.1.3)\n",
            "Requirement already satisfied: orjson~=3.0 in /usr/local/lib/python3.10/dist-packages (from gradio->-r requirements.txt (line 14)) (3.9.10)\n",
            "Requirement already satisfied: pandas<3.0,>=1.0 in /usr/local/lib/python3.10/dist-packages (from gradio->-r requirements.txt (line 14)) (1.5.3)\n",
            "Requirement already satisfied: pydantic!=1.8,!=1.8.1,!=2.0.0,!=2.0.1,<3.0.0,>=1.7.4 in /usr/local/lib/python3.10/dist-packages (from gradio->-r requirements.txt (line 14)) (1.10.13)\n",
            "Requirement already satisfied: pydub in /usr/local/lib/python3.10/dist-packages (from gradio->-r requirements.txt (line 14)) (0.25.1)\n",
            "Requirement already satisfied: python-multipart in /usr/local/lib/python3.10/dist-packages (from gradio->-r requirements.txt (line 14)) (0.0.6)\n",
            "Requirement already satisfied: pyyaml<7.0,>=5.0 in /usr/local/lib/python3.10/dist-packages (from gradio->-r requirements.txt (line 14)) (6.0.1)\n",
            "Requirement already satisfied: semantic-version~=2.0 in /usr/local/lib/python3.10/dist-packages (from gradio->-r requirements.txt (line 14)) (2.10.0)\n",
            "Requirement already satisfied: uvicorn>=0.14.0 in /usr/local/lib/python3.10/dist-packages (from gradio->-r requirements.txt (line 14)) (0.23.2)\n",
            "Requirement already satisfied: websockets<12.0,>=10.0 in /usr/local/lib/python3.10/dist-packages (from gradio->-r requirements.txt (line 14)) (11.0.3)\n",
            "Requirement already satisfied: fsspec in /usr/local/lib/python3.10/dist-packages (from gradio-client==0.6.1->gradio->-r requirements.txt (line 14)) (2023.6.0)\n",
            "Requirement already satisfied: entrypoints in /usr/local/lib/python3.10/dist-packages (from altair<6.0,>=4.2.0->gradio->-r requirements.txt (line 14)) (0.4)\n",
            "Requirement already satisfied: jsonschema>=3.0 in /usr/local/lib/python3.10/dist-packages (from altair<6.0,>=4.2.0->gradio->-r requirements.txt (line 14)) (4.19.1)\n",
            "Requirement already satisfied: toolz in /usr/local/lib/python3.10/dist-packages (from altair<6.0,>=4.2.0->gradio->-r requirements.txt (line 14)) (0.12.0)\n",
            "Requirement already satisfied: cachetools<6.0,>=2.0.0 in /usr/local/lib/python3.10/dist-packages (from google-auth<3,>=1.6.3->tensorboard==2.14.0->-r requirements.txt (line 11)) (5.3.2)\n",
            "Requirement already satisfied: pyasn1-modules>=0.2.1 in /usr/local/lib/python3.10/dist-packages (from google-auth<3,>=1.6.3->tensorboard==2.14.0->-r requirements.txt (line 11)) (0.3.0)\n",
            "Requirement already satisfied: six>=1.9.0 in /usr/local/lib/python3.10/dist-packages (from google-auth<3,>=1.6.3->tensorboard==2.14.0->-r requirements.txt (line 11)) (1.16.0)\n",
            "Requirement already satisfied: rsa<5,>=3.1.4 in /usr/local/lib/python3.10/dist-packages (from google-auth<3,>=1.6.3->tensorboard==2.14.0->-r requirements.txt (line 11)) (4.9)\n",
            "Requirement already satisfied: requests-oauthlib>=0.7.0 in /usr/local/lib/python3.10/dist-packages (from google-auth-oauthlib<1.1,>=0.5->tensorboard==2.14.0->-r requirements.txt (line 11)) (1.3.1)\n",
            "Requirement already satisfied: filelock in /usr/local/lib/python3.10/dist-packages (from huggingface-hub>=0.14.0->gradio->-r requirements.txt (line 14)) (3.12.4)\n",
            "Requirement already satisfied: tqdm>=4.42.1 in /usr/local/lib/python3.10/dist-packages (from huggingface-hub>=0.14.0->gradio->-r requirements.txt (line 14)) (4.66.1)\n",
            "Requirement already satisfied: llvmlite<0.42,>=0.41.0dev0 in /usr/local/lib/python3.10/dist-packages (from numba>=0.51.0->librosa==0.10.1->-r requirements.txt (line 2)) (0.41.1)\n",
            "Requirement already satisfied: pytz>=2020.1 in /usr/local/lib/python3.10/dist-packages (from pandas<3.0,>=1.0->gradio->-r requirements.txt (line 14)) (2023.3.post1)\n",
            "Requirement already satisfied: platformdirs>=2.5.0 in /usr/local/lib/python3.10/dist-packages (from pooch>=1.0->librosa==0.10.1->-r requirements.txt (line 2)) (3.11.0)\n",
            "Requirement already satisfied: charset-normalizer<4,>=2 in /usr/local/lib/python3.10/dist-packages (from requests<3,>=2.21.0->tensorboard==2.14.0->-r requirements.txt (line 11)) (3.3.1)\n",
            "Requirement already satisfied: idna<4,>=2.5 in /usr/local/lib/python3.10/dist-packages (from requests<3,>=2.21.0->tensorboard==2.14.0->-r requirements.txt (line 11)) (3.4)\n",
            "Requirement already satisfied: urllib3<3,>=1.21.1 in /usr/local/lib/python3.10/dist-packages (from requests<3,>=2.21.0->tensorboard==2.14.0->-r requirements.txt (line 11)) (2.0.7)\n",
            "Requirement already satisfied: certifi>=2017.4.17 in /usr/local/lib/python3.10/dist-packages (from requests<3,>=2.21.0->tensorboard==2.14.0->-r requirements.txt (line 11)) (2023.7.22)\n",
            "Requirement already satisfied: threadpoolctl>=2.0.0 in /usr/local/lib/python3.10/dist-packages (from scikit-learn>=0.20.0->librosa==0.10.1->-r requirements.txt (line 2)) (3.2.0)\n",
            "Requirement already satisfied: cffi>=1.0 in /usr/local/lib/python3.10/dist-packages (from soundfile>=0.12.1->librosa==0.10.1->-r requirements.txt (line 2)) (1.16.0)\n",
            "Requirement already satisfied: click>=7.0 in /usr/local/lib/python3.10/dist-packages (from uvicorn>=0.14.0->gradio->-r requirements.txt (line 14)) (8.1.7)\n",
            "Requirement already satisfied: h11>=0.8 in /usr/local/lib/python3.10/dist-packages (from uvicorn>=0.14.0->gradio->-r requirements.txt (line 14)) (0.14.0)\n",
            "Requirement already satisfied: humanfriendly>=9.1 in /usr/local/lib/python3.10/dist-packages (from coloredlogs->onnxruntime==1.15.1->-r requirements.txt (line 13)) (10.0)\n",
            "Requirement already satisfied: anyio<4.0.0,>=3.7.1 in /usr/local/lib/python3.10/dist-packages (from fastapi->gradio->-r requirements.txt (line 14)) (3.7.1)\n",
            "Requirement already satisfied: starlette<0.28.0,>=0.27.0 in /usr/local/lib/python3.10/dist-packages (from fastapi->gradio->-r requirements.txt (line 14)) (0.27.0)\n",
            "Requirement already satisfied: httpcore<0.19.0,>=0.18.0 in /usr/local/lib/python3.10/dist-packages (from httpx->gradio->-r requirements.txt (line 14)) (0.18.0)\n",
            "Requirement already satisfied: sniffio in /usr/local/lib/python3.10/dist-packages (from httpx->gradio->-r requirements.txt (line 14)) (1.3.0)\n",
            "Requirement already satisfied: clldutils>=1.7.3 in /usr/local/lib/python3.10/dist-packages (from segments->phonemizer==3.2.1->-r requirements.txt (line 5)) (3.20.0)\n",
            "Requirement already satisfied: csvw>=1.5.6 in /usr/local/lib/python3.10/dist-packages (from segments->phonemizer==3.2.1->-r requirements.txt (line 5)) (3.1.3)\n",
            "Requirement already satisfied: regex in /usr/local/lib/python3.10/dist-packages (from segments->phonemizer==3.2.1->-r requirements.txt (line 5)) (2023.6.3)\n",
            "Requirement already satisfied: mpmath>=0.19 in /usr/local/lib/python3.10/dist-packages (from sympy->onnxruntime==1.15.1->-r requirements.txt (line 13)) (1.3.0)\n",
            "Requirement already satisfied: exceptiongroup in /usr/local/lib/python3.10/dist-packages (from anyio<4.0.0,>=3.7.1->fastapi->gradio->-r requirements.txt (line 14)) (1.1.3)\n",
            "Requirement already satisfied: pycparser in /usr/local/lib/python3.10/dist-packages (from cffi>=1.0->soundfile>=0.12.1->librosa==0.10.1->-r requirements.txt (line 2)) (2.21)\n",
            "Requirement already satisfied: tabulate>=0.7.7 in /usr/local/lib/python3.10/dist-packages (from clldutils>=1.7.3->segments->phonemizer==3.2.1->-r requirements.txt (line 5)) (0.9.0)\n",
            "Requirement already satisfied: colorlog in /usr/local/lib/python3.10/dist-packages (from clldutils>=1.7.3->segments->phonemizer==3.2.1->-r requirements.txt (line 5)) (6.7.0)\n",
            "Requirement already satisfied: pylatexenc in /usr/local/lib/python3.10/dist-packages (from clldutils>=1.7.3->segments->phonemizer==3.2.1->-r requirements.txt (line 5)) (2.10)\n",
            "Requirement already satisfied: lxml in /usr/local/lib/python3.10/dist-packages (from clldutils>=1.7.3->segments->phonemizer==3.2.1->-r requirements.txt (line 5)) (4.9.3)\n",
            "Requirement already satisfied: babel in /usr/local/lib/python3.10/dist-packages (from csvw>=1.5.6->segments->phonemizer==3.2.1->-r requirements.txt (line 5)) (2.13.1)\n",
            "Requirement already satisfied: colorama in /usr/local/lib/python3.10/dist-packages (from csvw>=1.5.6->segments->phonemizer==3.2.1->-r requirements.txt (line 5)) (0.4.6)\n",
            "Requirement already satisfied: isodate in /usr/local/lib/python3.10/dist-packages (from csvw>=1.5.6->segments->phonemizer==3.2.1->-r requirements.txt (line 5)) (0.6.1)\n",
            "Requirement already satisfied: language-tags in /usr/local/lib/python3.10/dist-packages (from csvw>=1.5.6->segments->phonemizer==3.2.1->-r requirements.txt (line 5)) (1.2.0)\n",
            "Requirement already satisfied: rdflib in /usr/local/lib/python3.10/dist-packages (from csvw>=1.5.6->segments->phonemizer==3.2.1->-r requirements.txt (line 5)) (7.0.0)\n",
            "Requirement already satisfied: rfc3986<2 in /usr/local/lib/python3.10/dist-packages (from csvw>=1.5.6->segments->phonemizer==3.2.1->-r requirements.txt (line 5)) (1.5.0)\n",
            "Requirement already satisfied: uritemplate>=3.0.0 in /usr/local/lib/python3.10/dist-packages (from csvw>=1.5.6->segments->phonemizer==3.2.1->-r requirements.txt (line 5)) (4.1.1)\n",
            "Requirement already satisfied: jsonschema-specifications>=2023.03.6 in /usr/local/lib/python3.10/dist-packages (from jsonschema>=3.0->altair<6.0,>=4.2.0->gradio->-r requirements.txt (line 14)) (2023.7.1)\n",
            "Requirement already satisfied: referencing>=0.28.4 in /usr/local/lib/python3.10/dist-packages (from jsonschema>=3.0->altair<6.0,>=4.2.0->gradio->-r requirements.txt (line 14)) (0.30.2)\n",
            "Requirement already satisfied: rpds-py>=0.7.1 in /usr/local/lib/python3.10/dist-packages (from jsonschema>=3.0->altair<6.0,>=4.2.0->gradio->-r requirements.txt (line 14)) (0.10.6)\n",
            "Requirement already satisfied: pyasn1<0.6.0,>=0.4.6 in /usr/local/lib/python3.10/dist-packages (from pyasn1-modules>=0.2.1->google-auth<3,>=1.6.3->tensorboard==2.14.0->-r requirements.txt (line 11)) (0.5.0)\n",
            "Requirement already satisfied: oauthlib>=3.0.0 in /usr/local/lib/python3.10/dist-packages (from requests-oauthlib>=0.7.0->google-auth-oauthlib<1.1,>=0.5->tensorboard==2.14.0->-r requirements.txt (line 11)) (3.2.2)\n"
          ]
        }
      ]
    },
    {
      "cell_type": "code",
      "source": [
        "!wget -P /content/ https://data.keithito.com/data/speech/LJSpeech-1.1.tar.bz2"
      ],
      "metadata": {
        "id": "ECd7PZZZ1y6a",
        "outputId": "89e39ae7-8dbb-421d-c06c-482a7ddbb307",
        "colab": {
          "base_uri": "https://localhost:8080/"
        }
      },
      "execution_count": 6,
      "outputs": [
        {
          "output_type": "stream",
          "name": "stdout",
          "text": [
            "--2023-10-29 10:00:48--  https://data.keithito.com/data/speech/LJSpeech-1.1.tar.bz2\n",
            "Resolving data.keithito.com (data.keithito.com)... 24.199.73.137\n",
            "Connecting to data.keithito.com (data.keithito.com)|24.199.73.137|:443... connected.\n",
            "HTTP request sent, awaiting response... 200 OK\n",
            "Length: 2748572632 (2.6G) [text/plain]\n",
            "Saving to: ‘/content/LJSpeech-1.1.tar.bz2.1’\n",
            "\n",
            "LJSpeech-1.1.tar.bz 100%[===================>]   2.56G  82.5MB/s    in 34s     \n",
            "\n",
            "2023-10-29 10:01:22 (77.2 MB/s) - ‘/content/LJSpeech-1.1.tar.bz2.1’ saved [2748572632/2748572632]\n",
            "\n"
          ]
        }
      ]
    },
    {
      "cell_type": "code",
      "source": [
        "!tar -xf /content/LJSpeech-1.1.tar.bz2 -C /content/"
      ],
      "metadata": {
        "id": "BTxWcsUX3PaL"
      },
      "execution_count": 7,
      "outputs": []
    },
    {
      "cell_type": "code",
      "source": [
        "!ln -s /content/LJSpeech-1.1/wavs /content/vits2_pytorch/DUMMY1"
      ],
      "metadata": {
        "id": "0fI6X8E_4qKA"
      },
      "execution_count": 8,
      "outputs": []
    },
    {
      "cell_type": "code",
      "source": [
        "import os\n"
      ],
      "metadata": {
        "id": "kbMhaz_uB_l7"
      },
      "execution_count": 9,
      "outputs": []
    },
    {
      "cell_type": "code",
      "source": [
        "%cd"
      ],
      "metadata": {
        "id": "bGboWsFO06qU",
        "outputId": "2d5aeff9-81cd-41b4-f2c2-80e11624b2c9",
        "colab": {
          "base_uri": "https://localhost:8080/"
        }
      },
      "execution_count": 10,
      "outputs": [
        {
          "output_type": "stream",
          "name": "stdout",
          "text": [
            "/root\n"
          ]
        }
      ]
    },
    {
      "cell_type": "code",
      "source": [
        "os.chdir('/content/vits2_pytorch/monotonic_align')\n",
        "import shutil\n",
        "shutil.rmtree(\"/content/vits2_pytorch/monotonic_align/monotonic_align\")\n",
        "\n",
        "os.makedirs('/content/vits2_pytorch/monotonic_align/monotonic_align', exist_ok = False)\n",
        "!python setup.py build_ext --inplace"
      ],
      "metadata": {
        "id": "wslAfPiT51gz",
        "outputId": "70f4613a-adfc-47a4-a4a6-5c61c6089add",
        "colab": {
          "base_uri": "https://localhost:8080/"
        }
      },
      "execution_count": 17,
      "outputs": [
        {
          "output_type": "stream",
          "name": "stdout",
          "text": [
            "Compiling core.pyx because it changed.\n",
            "[1/1] Cythonizing core.pyx\n",
            "/usr/local/lib/python3.10/dist-packages/Cython/Compiler/Main.py:384: FutureWarning: Cython directive 'language_level' not set, using '3str' for now (Py3). This has changed from earlier releases! File: /content/vits2_pytorch/monotonic_align/core.pyx\n",
            "  tree = Parsing.p_module(s, pxd, full_module_name)\n"
          ]
        }
      ]
    },
    {
      "cell_type": "code",
      "source": [
        "from google.colab import drive\n",
        "drive.mount('/content/drive')"
      ],
      "metadata": {
        "id": "7PSZBaGL80St"
      },
      "execution_count": null,
      "outputs": []
    },
    {
      "cell_type": "code",
      "source": [
        "!pip install torch torchvision torchaudio --index-url https://download.pytorch.org/whl/cu118"
      ],
      "metadata": {
        "id": "qlc4ztRJJdkX",
        "outputId": "31f92b16-1a95-4627-91a0-ea898a146fef",
        "colab": {
          "base_uri": "https://localhost:8080/"
        }
      },
      "execution_count": 12,
      "outputs": [
        {
          "output_type": "stream",
          "name": "stdout",
          "text": [
            "Looking in indexes: https://download.pytorch.org/whl/cu118\n",
            "Requirement already satisfied: torch in /usr/local/lib/python3.10/dist-packages (2.1.0+cu118)\n",
            "Requirement already satisfied: torchvision in /usr/local/lib/python3.10/dist-packages (0.16.0+cu118)\n",
            "Requirement already satisfied: torchaudio in /usr/local/lib/python3.10/dist-packages (2.1.0+cu118)\n",
            "Requirement already satisfied: filelock in /usr/local/lib/python3.10/dist-packages (from torch) (3.12.4)\n",
            "Requirement already satisfied: typing-extensions in /usr/local/lib/python3.10/dist-packages (from torch) (4.8.0)\n",
            "Requirement already satisfied: sympy in /usr/local/lib/python3.10/dist-packages (from torch) (1.12)\n",
            "Requirement already satisfied: networkx in /usr/local/lib/python3.10/dist-packages (from torch) (3.2)\n",
            "Requirement already satisfied: jinja2 in /usr/local/lib/python3.10/dist-packages (from torch) (3.1.2)\n",
            "Requirement already satisfied: fsspec in /usr/local/lib/python3.10/dist-packages (from torch) (2023.6.0)\n",
            "Requirement already satisfied: triton==2.1.0 in /usr/local/lib/python3.10/dist-packages (from torch) (2.1.0)\n",
            "Requirement already satisfied: numpy in /usr/local/lib/python3.10/dist-packages (from torchvision) (1.24.4)\n",
            "Requirement already satisfied: requests in /usr/local/lib/python3.10/dist-packages (from torchvision) (2.31.0)\n",
            "Requirement already satisfied: pillow!=8.3.*,>=5.3.0 in /usr/local/lib/python3.10/dist-packages (from torchvision) (9.4.0)\n",
            "Requirement already satisfied: MarkupSafe>=2.0 in /usr/local/lib/python3.10/dist-packages (from jinja2->torch) (2.1.3)\n",
            "Requirement already satisfied: charset-normalizer<4,>=2 in /usr/local/lib/python3.10/dist-packages (from requests->torchvision) (3.3.1)\n",
            "Requirement already satisfied: idna<4,>=2.5 in /usr/local/lib/python3.10/dist-packages (from requests->torchvision) (3.4)\n",
            "Requirement already satisfied: urllib3<3,>=1.21.1 in /usr/local/lib/python3.10/dist-packages (from requests->torchvision) (2.0.7)\n",
            "Requirement already satisfied: certifi>=2017.4.17 in /usr/local/lib/python3.10/dist-packages (from requests->torchvision) (2023.7.22)\n",
            "Requirement already satisfied: mpmath>=0.19 in /usr/local/lib/python3.10/dist-packages (from sympy->torch) (1.3.0)\n"
          ]
        }
      ]
    },
    {
      "cell_type": "code",
      "source": [
        "!apt install espeak"
      ],
      "metadata": {
        "id": "5-jFe9Yo7u1q",
        "outputId": "223fdcb0-3bba-4cee-a57b-b2af88cc7de9",
        "colab": {
          "base_uri": "https://localhost:8080/"
        }
      },
      "execution_count": 14,
      "outputs": [
        {
          "output_type": "stream",
          "name": "stdout",
          "text": [
            "Reading package lists... Done\n",
            "Building dependency tree... Done\n",
            "Reading state information... Done\n",
            "The following additional packages will be installed:\n",
            "  espeak-data libespeak1 libportaudio2 libsonic0\n",
            "The following NEW packages will be installed:\n",
            "  espeak espeak-data libespeak1 libportaudio2 libsonic0\n",
            "0 upgraded, 5 newly installed, 0 to remove and 19 not upgraded.\n",
            "Need to get 1,382 kB of archives.\n",
            "After this operation, 3,178 kB of additional disk space will be used.\n",
            "Get:1 http://archive.ubuntu.com/ubuntu jammy/universe amd64 libportaudio2 amd64 19.6.0-1.1 [65.3 kB]\n",
            "Get:2 http://archive.ubuntu.com/ubuntu jammy/main amd64 libsonic0 amd64 0.2.0-11build1 [10.3 kB]\n",
            "Get:3 http://archive.ubuntu.com/ubuntu jammy/universe amd64 espeak-data amd64 1.48.15+dfsg-3 [1,085 kB]\n",
            "Get:4 http://archive.ubuntu.com/ubuntu jammy/universe amd64 libespeak1 amd64 1.48.15+dfsg-3 [156 kB]\n",
            "Get:5 http://archive.ubuntu.com/ubuntu jammy/universe amd64 espeak amd64 1.48.15+dfsg-3 [64.2 kB]\n",
            "Fetched 1,382 kB in 1s (1,210 kB/s)\n",
            "Selecting previously unselected package libportaudio2:amd64.\n",
            "(Reading database ... 120874 files and directories currently installed.)\n",
            "Preparing to unpack .../libportaudio2_19.6.0-1.1_amd64.deb ...\n",
            "Unpacking libportaudio2:amd64 (19.6.0-1.1) ...\n",
            "Selecting previously unselected package libsonic0:amd64.\n",
            "Preparing to unpack .../libsonic0_0.2.0-11build1_amd64.deb ...\n",
            "Unpacking libsonic0:amd64 (0.2.0-11build1) ...\n",
            "Selecting previously unselected package espeak-data:amd64.\n",
            "Preparing to unpack .../espeak-data_1.48.15+dfsg-3_amd64.deb ...\n",
            "Unpacking espeak-data:amd64 (1.48.15+dfsg-3) ...\n",
            "Selecting previously unselected package libespeak1:amd64.\n",
            "Preparing to unpack .../libespeak1_1.48.15+dfsg-3_amd64.deb ...\n",
            "Unpacking libespeak1:amd64 (1.48.15+dfsg-3) ...\n",
            "Selecting previously unselected package espeak.\n",
            "Preparing to unpack .../espeak_1.48.15+dfsg-3_amd64.deb ...\n",
            "Unpacking espeak (1.48.15+dfsg-3) ...\n",
            "Setting up libportaudio2:amd64 (19.6.0-1.1) ...\n",
            "Setting up libsonic0:amd64 (0.2.0-11build1) ...\n",
            "Setting up espeak-data:amd64 (1.48.15+dfsg-3) ...\n",
            "Setting up libespeak1:amd64 (1.48.15+dfsg-3) ...\n",
            "Setting up espeak (1.48.15+dfsg-3) ...\n",
            "Processing triggers for man-db (2.10.2-1) ...\n",
            "Processing triggers for libc-bin (2.35-0ubuntu3.1) ...\n",
            "/sbin/ldconfig.real: /usr/local/lib/libtbbmalloc.so.2 is not a symbolic link\n",
            "\n",
            "/sbin/ldconfig.real: /usr/local/lib/libtbbbind_2_5.so.3 is not a symbolic link\n",
            "\n",
            "/sbin/ldconfig.real: /usr/local/lib/libtbb.so.12 is not a symbolic link\n",
            "\n",
            "/sbin/ldconfig.real: /usr/local/lib/libtbbbind_2_0.so.3 is not a symbolic link\n",
            "\n",
            "/sbin/ldconfig.real: /usr/local/lib/libtbbmalloc_proxy.so.2 is not a symbolic link\n",
            "\n",
            "/sbin/ldconfig.real: /usr/local/lib/libtbbbind.so.3 is not a symbolic link\n",
            "\n"
          ]
        }
      ]
    },
    {
      "cell_type": "code",
      "source": [
        "import os\n",
        "os.chdir('/content/vits2_pytorch/')\n",
        "!python train.py -c configs/vits2_ljs_nosdp.json -m ljs_base"
      ],
      "metadata": {
        "id": "jiPG-bd1636M",
        "outputId": "ccd89909-0357-432f-d0f4-058431ed48b2",
        "colab": {
          "base_uri": "https://localhost:8080/"
        }
      },
      "execution_count": 18,
      "outputs": [
        {
          "output_type": "stream",
          "name": "stdout",
          "text": [
            "2023-10-29 10:20:56.421208: E tensorflow/compiler/xla/stream_executor/cuda/cuda_dnn.cc:9342] Unable to register cuDNN factory: Attempting to register factory for plugin cuDNN when one has already been registered\n",
            "2023-10-29 10:20:56.421264: E tensorflow/compiler/xla/stream_executor/cuda/cuda_fft.cc:609] Unable to register cuFFT factory: Attempting to register factory for plugin cuFFT when one has already been registered\n",
            "2023-10-29 10:20:56.421305: E tensorflow/compiler/xla/stream_executor/cuda/cuda_blas.cc:1518] Unable to register cuBLAS factory: Attempting to register factory for plugin cuBLAS when one has already been registered\n",
            "2023-10-29 10:20:56.429071: I tensorflow/core/platform/cpu_feature_guard.cc:182] This TensorFlow binary is optimized to use available CPU instructions in performance-critical operations.\n",
            "To enable the following instructions: AVX2 FMA, in other operations, rebuild TensorFlow with the appropriate compiler flags.\n",
            "2023-10-29 10:20:57.437599: W tensorflow/compiler/tf2tensorrt/utils/py_utils.cc:38] TF-TRT Warning: Could not find TensorRT\n",
            "DEBUG:numba.core.byteflow:bytecode dump:\n",
            ">          0\tNOP(arg=None, lineno=1039)\n",
            "           2\tLOAD_FAST(arg=0, lineno=1042)\n",
            "           4\tLOAD_CONST(arg=1, lineno=1042)\n",
            "           6\tBINARY_SUBSCR(arg=None, lineno=1042)\n",
            "           8\tLOAD_FAST(arg=0, lineno=1042)\n",
            "          10\tLOAD_CONST(arg=2, lineno=1042)\n",
            "          12\tBINARY_SUBSCR(arg=None, lineno=1042)\n",
            "          14\tCOMPARE_OP(arg=4, lineno=1042)\n",
            "          16\tLOAD_FAST(arg=0, lineno=1042)\n",
            "          18\tLOAD_CONST(arg=1, lineno=1042)\n",
            "          20\tBINARY_SUBSCR(arg=None, lineno=1042)\n",
            "          22\tLOAD_FAST(arg=0, lineno=1042)\n",
            "          24\tLOAD_CONST(arg=3, lineno=1042)\n",
            "          26\tBINARY_SUBSCR(arg=None, lineno=1042)\n",
            "          28\tCOMPARE_OP(arg=5, lineno=1042)\n",
            "          30\tBINARY_AND(arg=None, lineno=1042)\n",
            "          32\tRETURN_VALUE(arg=None, lineno=1042)\n",
            "DEBUG:numba.core.byteflow:pending: deque([State(pc_initial=0 nstack_initial=0)])\n",
            "DEBUG:numba.core.byteflow:stack: []\n",
            "DEBUG:numba.core.byteflow:state.pc_initial: State(pc_initial=0 nstack_initial=0)\n",
            "DEBUG:numba.core.byteflow:dispatch pc=0, inst=NOP(arg=None, lineno=1039)\n",
            "DEBUG:numba.core.byteflow:stack []\n",
            "DEBUG:numba.core.byteflow:dispatch pc=2, inst=LOAD_FAST(arg=0, lineno=1042)\n",
            "DEBUG:numba.core.byteflow:stack []\n",
            "DEBUG:numba.core.byteflow:dispatch pc=4, inst=LOAD_CONST(arg=1, lineno=1042)\n",
            "DEBUG:numba.core.byteflow:stack ['$x2.0']\n",
            "DEBUG:numba.core.byteflow:dispatch pc=6, inst=BINARY_SUBSCR(arg=None, lineno=1042)\n",
            "DEBUG:numba.core.byteflow:stack ['$x2.0', '$const4.1']\n",
            "DEBUG:numba.core.byteflow:dispatch pc=8, inst=LOAD_FAST(arg=0, lineno=1042)\n",
            "DEBUG:numba.core.byteflow:stack ['$6binary_subscr.2']\n",
            "DEBUG:numba.core.byteflow:dispatch pc=10, inst=LOAD_CONST(arg=2, lineno=1042)\n",
            "DEBUG:numba.core.byteflow:stack ['$6binary_subscr.2', '$x8.3']\n",
            "DEBUG:numba.core.byteflow:dispatch pc=12, inst=BINARY_SUBSCR(arg=None, lineno=1042)\n",
            "DEBUG:numba.core.byteflow:stack ['$6binary_subscr.2', '$x8.3', '$const10.4']\n",
            "DEBUG:numba.core.byteflow:dispatch pc=14, inst=COMPARE_OP(arg=4, lineno=1042)\n",
            "DEBUG:numba.core.byteflow:stack ['$6binary_subscr.2', '$12binary_subscr.5']\n",
            "DEBUG:numba.core.byteflow:dispatch pc=16, inst=LOAD_FAST(arg=0, lineno=1042)\n",
            "DEBUG:numba.core.byteflow:stack ['$14compare_op.6']\n",
            "DEBUG:numba.core.byteflow:dispatch pc=18, inst=LOAD_CONST(arg=1, lineno=1042)\n",
            "DEBUG:numba.core.byteflow:stack ['$14compare_op.6', '$x16.7']\n",
            "DEBUG:numba.core.byteflow:dispatch pc=20, inst=BINARY_SUBSCR(arg=None, lineno=1042)\n",
            "DEBUG:numba.core.byteflow:stack ['$14compare_op.6', '$x16.7', '$const18.8']\n",
            "DEBUG:numba.core.byteflow:dispatch pc=22, inst=LOAD_FAST(arg=0, lineno=1042)\n",
            "DEBUG:numba.core.byteflow:stack ['$14compare_op.6', '$20binary_subscr.9']\n",
            "DEBUG:numba.core.byteflow:dispatch pc=24, inst=LOAD_CONST(arg=3, lineno=1042)\n",
            "DEBUG:numba.core.byteflow:stack ['$14compare_op.6', '$20binary_subscr.9', '$x22.10']\n",
            "DEBUG:numba.core.byteflow:dispatch pc=26, inst=BINARY_SUBSCR(arg=None, lineno=1042)\n",
            "DEBUG:numba.core.byteflow:stack ['$14compare_op.6', '$20binary_subscr.9', '$x22.10', '$const24.11']\n",
            "DEBUG:numba.core.byteflow:dispatch pc=28, inst=COMPARE_OP(arg=5, lineno=1042)\n",
            "DEBUG:numba.core.byteflow:stack ['$14compare_op.6', '$20binary_subscr.9', '$26binary_subscr.12']\n",
            "DEBUG:numba.core.byteflow:dispatch pc=30, inst=BINARY_AND(arg=None, lineno=1042)\n",
            "DEBUG:numba.core.byteflow:stack ['$14compare_op.6', '$28compare_op.13']\n",
            "DEBUG:numba.core.byteflow:dispatch pc=32, inst=RETURN_VALUE(arg=None, lineno=1042)\n",
            "DEBUG:numba.core.byteflow:stack ['$30binary_and.14']\n",
            "DEBUG:numba.core.byteflow:end state. edges=[]\n",
            "DEBUG:numba.core.byteflow:-------------------------Prune PHIs-------------------------\n",
            "DEBUG:numba.core.byteflow:Used_phis: defaultdict(<class 'set'>, {State(pc_initial=0 nstack_initial=0): set()})\n",
            "DEBUG:numba.core.byteflow:defmap: {}\n",
            "DEBUG:numba.core.byteflow:phismap: defaultdict(<class 'set'>, {})\n",
            "DEBUG:numba.core.byteflow:changing phismap: defaultdict(<class 'set'>, {})\n",
            "DEBUG:numba.core.byteflow:keep phismap: {}\n",
            "DEBUG:numba.core.byteflow:new_out: defaultdict(<class 'dict'>, {})\n",
            "DEBUG:numba.core.byteflow:----------------------DONE Prune PHIs-----------------------\n",
            "DEBUG:numba.core.byteflow:block_infos State(pc_initial=0 nstack_initial=0):\n",
            "AdaptBlockInfo(insts=((0, {}), (2, {'res': '$x2.0'}), (4, {'res': '$const4.1'}), (6, {'index': '$const4.1', 'target': '$x2.0', 'res': '$6binary_subscr.2'}), (8, {'res': '$x8.3'}), (10, {'res': '$const10.4'}), (12, {'index': '$const10.4', 'target': '$x8.3', 'res': '$12binary_subscr.5'}), (14, {'lhs': '$6binary_subscr.2', 'rhs': '$12binary_subscr.5', 'res': '$14compare_op.6'}), (16, {'res': '$x16.7'}), (18, {'res': '$const18.8'}), (20, {'index': '$const18.8', 'target': '$x16.7', 'res': '$20binary_subscr.9'}), (22, {'res': '$x22.10'}), (24, {'res': '$const24.11'}), (26, {'index': '$const24.11', 'target': '$x22.10', 'res': '$26binary_subscr.12'}), (28, {'lhs': '$20binary_subscr.9', 'rhs': '$26binary_subscr.12', 'res': '$28compare_op.13'}), (30, {'lhs': '$14compare_op.6', 'rhs': '$28compare_op.13', 'res': '$30binary_and.14'}), (32, {'retval': '$30binary_and.14', 'castval': '$32return_value.15'})), outgoing_phis={}, blockstack=(), active_try_block=None, outgoing_edgepushed={})\n",
            "DEBUG:numba.core.interpreter:label 0:\n",
            "    x = arg(0, name=x)                       ['x']\n",
            "    $const4.1 = const(int, 0)                ['$const4.1']\n",
            "    $6binary_subscr.2 = getitem(value=x, index=$const4.1, fn=<built-in function getitem>) ['$6binary_subscr.2', '$const4.1', 'x']\n",
            "    $const10.4 = const(int, -1)              ['$const10.4']\n",
            "    $12binary_subscr.5 = getitem(value=x, index=$const10.4, fn=<built-in function getitem>) ['$12binary_subscr.5', '$const10.4', 'x']\n",
            "    $14compare_op.6 = $6binary_subscr.2 > $12binary_subscr.5 ['$12binary_subscr.5', '$14compare_op.6', '$6binary_subscr.2']\n",
            "    $const18.8 = const(int, 0)               ['$const18.8']\n",
            "    $20binary_subscr.9 = getitem(value=x, index=$const18.8, fn=<built-in function getitem>) ['$20binary_subscr.9', '$const18.8', 'x']\n",
            "    $const24.11 = const(int, 1)              ['$const24.11']\n",
            "    $26binary_subscr.12 = getitem(value=x, index=$const24.11, fn=<built-in function getitem>) ['$26binary_subscr.12', '$const24.11', 'x']\n",
            "    $28compare_op.13 = $20binary_subscr.9 >= $26binary_subscr.12 ['$20binary_subscr.9', '$26binary_subscr.12', '$28compare_op.13']\n",
            "    $30binary_and.14 = $14compare_op.6 & $28compare_op.13 ['$14compare_op.6', '$28compare_op.13', '$30binary_and.14']\n",
            "    $32return_value.15 = cast(value=$30binary_and.14) ['$30binary_and.14', '$32return_value.15']\n",
            "    return $32return_value.15                ['$32return_value.15']\n",
            "\n",
            "DEBUG:numba.core.byteflow:bytecode dump:\n",
            ">          0\tNOP(arg=None, lineno=1045)\n",
            "           2\tLOAD_FAST(arg=0, lineno=1048)\n",
            "           4\tLOAD_CONST(arg=1, lineno=1048)\n",
            "           6\tBINARY_SUBSCR(arg=None, lineno=1048)\n",
            "           8\tLOAD_FAST(arg=0, lineno=1048)\n",
            "          10\tLOAD_CONST(arg=2, lineno=1048)\n",
            "          12\tBINARY_SUBSCR(arg=None, lineno=1048)\n",
            "          14\tCOMPARE_OP(arg=0, lineno=1048)\n",
            "          16\tLOAD_FAST(arg=0, lineno=1048)\n",
            "          18\tLOAD_CONST(arg=1, lineno=1048)\n",
            "          20\tBINARY_SUBSCR(arg=None, lineno=1048)\n",
            "          22\tLOAD_FAST(arg=0, lineno=1048)\n",
            "          24\tLOAD_CONST(arg=3, lineno=1048)\n",
            "          26\tBINARY_SUBSCR(arg=None, lineno=1048)\n",
            "          28\tCOMPARE_OP(arg=1, lineno=1048)\n",
            "          30\tBINARY_AND(arg=None, lineno=1048)\n",
            "          32\tRETURN_VALUE(arg=None, lineno=1048)\n",
            "DEBUG:numba.core.byteflow:pending: deque([State(pc_initial=0 nstack_initial=0)])\n",
            "DEBUG:numba.core.byteflow:stack: []\n",
            "DEBUG:numba.core.byteflow:state.pc_initial: State(pc_initial=0 nstack_initial=0)\n",
            "DEBUG:numba.core.byteflow:dispatch pc=0, inst=NOP(arg=None, lineno=1045)\n",
            "DEBUG:numba.core.byteflow:stack []\n",
            "DEBUG:numba.core.byteflow:dispatch pc=2, inst=LOAD_FAST(arg=0, lineno=1048)\n",
            "DEBUG:numba.core.byteflow:stack []\n",
            "DEBUG:numba.core.byteflow:dispatch pc=4, inst=LOAD_CONST(arg=1, lineno=1048)\n",
            "DEBUG:numba.core.byteflow:stack ['$x2.0']\n",
            "DEBUG:numba.core.byteflow:dispatch pc=6, inst=BINARY_SUBSCR(arg=None, lineno=1048)\n",
            "DEBUG:numba.core.byteflow:stack ['$x2.0', '$const4.1']\n",
            "DEBUG:numba.core.byteflow:dispatch pc=8, inst=LOAD_FAST(arg=0, lineno=1048)\n",
            "DEBUG:numba.core.byteflow:stack ['$6binary_subscr.2']\n",
            "DEBUG:numba.core.byteflow:dispatch pc=10, inst=LOAD_CONST(arg=2, lineno=1048)\n",
            "DEBUG:numba.core.byteflow:stack ['$6binary_subscr.2', '$x8.3']\n",
            "DEBUG:numba.core.byteflow:dispatch pc=12, inst=BINARY_SUBSCR(arg=None, lineno=1048)\n",
            "DEBUG:numba.core.byteflow:stack ['$6binary_subscr.2', '$x8.3', '$const10.4']\n",
            "DEBUG:numba.core.byteflow:dispatch pc=14, inst=COMPARE_OP(arg=0, lineno=1048)\n",
            "DEBUG:numba.core.byteflow:stack ['$6binary_subscr.2', '$12binary_subscr.5']\n",
            "DEBUG:numba.core.byteflow:dispatch pc=16, inst=LOAD_FAST(arg=0, lineno=1048)\n",
            "DEBUG:numba.core.byteflow:stack ['$14compare_op.6']\n",
            "DEBUG:numba.core.byteflow:dispatch pc=18, inst=LOAD_CONST(arg=1, lineno=1048)\n",
            "DEBUG:numba.core.byteflow:stack ['$14compare_op.6', '$x16.7']\n",
            "DEBUG:numba.core.byteflow:dispatch pc=20, inst=BINARY_SUBSCR(arg=None, lineno=1048)\n",
            "DEBUG:numba.core.byteflow:stack ['$14compare_op.6', '$x16.7', '$const18.8']\n",
            "DEBUG:numba.core.byteflow:dispatch pc=22, inst=LOAD_FAST(arg=0, lineno=1048)\n",
            "DEBUG:numba.core.byteflow:stack ['$14compare_op.6', '$20binary_subscr.9']\n",
            "DEBUG:numba.core.byteflow:dispatch pc=24, inst=LOAD_CONST(arg=3, lineno=1048)\n",
            "DEBUG:numba.core.byteflow:stack ['$14compare_op.6', '$20binary_subscr.9', '$x22.10']\n",
            "DEBUG:numba.core.byteflow:dispatch pc=26, inst=BINARY_SUBSCR(arg=None, lineno=1048)\n",
            "DEBUG:numba.core.byteflow:stack ['$14compare_op.6', '$20binary_subscr.9', '$x22.10', '$const24.11']\n",
            "DEBUG:numba.core.byteflow:dispatch pc=28, inst=COMPARE_OP(arg=1, lineno=1048)\n",
            "DEBUG:numba.core.byteflow:stack ['$14compare_op.6', '$20binary_subscr.9', '$26binary_subscr.12']\n",
            "DEBUG:numba.core.byteflow:dispatch pc=30, inst=BINARY_AND(arg=None, lineno=1048)\n",
            "DEBUG:numba.core.byteflow:stack ['$14compare_op.6', '$28compare_op.13']\n",
            "DEBUG:numba.core.byteflow:dispatch pc=32, inst=RETURN_VALUE(arg=None, lineno=1048)\n",
            "DEBUG:numba.core.byteflow:stack ['$30binary_and.14']\n",
            "DEBUG:numba.core.byteflow:end state. edges=[]\n",
            "DEBUG:numba.core.byteflow:-------------------------Prune PHIs-------------------------\n",
            "DEBUG:numba.core.byteflow:Used_phis: defaultdict(<class 'set'>, {State(pc_initial=0 nstack_initial=0): set()})\n",
            "DEBUG:numba.core.byteflow:defmap: {}\n",
            "DEBUG:numba.core.byteflow:phismap: defaultdict(<class 'set'>, {})\n",
            "DEBUG:numba.core.byteflow:changing phismap: defaultdict(<class 'set'>, {})\n",
            "DEBUG:numba.core.byteflow:keep phismap: {}\n",
            "DEBUG:numba.core.byteflow:new_out: defaultdict(<class 'dict'>, {})\n",
            "DEBUG:numba.core.byteflow:----------------------DONE Prune PHIs-----------------------\n",
            "DEBUG:numba.core.byteflow:block_infos State(pc_initial=0 nstack_initial=0):\n",
            "AdaptBlockInfo(insts=((0, {}), (2, {'res': '$x2.0'}), (4, {'res': '$const4.1'}), (6, {'index': '$const4.1', 'target': '$x2.0', 'res': '$6binary_subscr.2'}), (8, {'res': '$x8.3'}), (10, {'res': '$const10.4'}), (12, {'index': '$const10.4', 'target': '$x8.3', 'res': '$12binary_subscr.5'}), (14, {'lhs': '$6binary_subscr.2', 'rhs': '$12binary_subscr.5', 'res': '$14compare_op.6'}), (16, {'res': '$x16.7'}), (18, {'res': '$const18.8'}), (20, {'index': '$const18.8', 'target': '$x16.7', 'res': '$20binary_subscr.9'}), (22, {'res': '$x22.10'}), (24, {'res': '$const24.11'}), (26, {'index': '$const24.11', 'target': '$x22.10', 'res': '$26binary_subscr.12'}), (28, {'lhs': '$20binary_subscr.9', 'rhs': '$26binary_subscr.12', 'res': '$28compare_op.13'}), (30, {'lhs': '$14compare_op.6', 'rhs': '$28compare_op.13', 'res': '$30binary_and.14'}), (32, {'retval': '$30binary_and.14', 'castval': '$32return_value.15'})), outgoing_phis={}, blockstack=(), active_try_block=None, outgoing_edgepushed={})\n",
            "DEBUG:numba.core.interpreter:label 0:\n",
            "    x = arg(0, name=x)                       ['x']\n",
            "    $const4.1 = const(int, 0)                ['$const4.1']\n",
            "    $6binary_subscr.2 = getitem(value=x, index=$const4.1, fn=<built-in function getitem>) ['$6binary_subscr.2', '$const4.1', 'x']\n",
            "    $const10.4 = const(int, -1)              ['$const10.4']\n",
            "    $12binary_subscr.5 = getitem(value=x, index=$const10.4, fn=<built-in function getitem>) ['$12binary_subscr.5', '$const10.4', 'x']\n",
            "    $14compare_op.6 = $6binary_subscr.2 < $12binary_subscr.5 ['$12binary_subscr.5', '$14compare_op.6', '$6binary_subscr.2']\n",
            "    $const18.8 = const(int, 0)               ['$const18.8']\n",
            "    $20binary_subscr.9 = getitem(value=x, index=$const18.8, fn=<built-in function getitem>) ['$20binary_subscr.9', '$const18.8', 'x']\n",
            "    $const24.11 = const(int, 1)              ['$const24.11']\n",
            "    $26binary_subscr.12 = getitem(value=x, index=$const24.11, fn=<built-in function getitem>) ['$26binary_subscr.12', '$const24.11', 'x']\n",
            "    $28compare_op.13 = $20binary_subscr.9 <= $26binary_subscr.12 ['$20binary_subscr.9', '$26binary_subscr.12', '$28compare_op.13']\n",
            "    $30binary_and.14 = $14compare_op.6 & $28compare_op.13 ['$14compare_op.6', '$28compare_op.13', '$30binary_and.14']\n",
            "    $32return_value.15 = cast(value=$30binary_and.14) ['$30binary_and.14', '$32return_value.15']\n",
            "    return $32return_value.15                ['$32return_value.15']\n",
            "\n",
            "2023-10-29 10:21:03.238595: E tensorflow/compiler/xla/stream_executor/cuda/cuda_dnn.cc:9342] Unable to register cuDNN factory: Attempting to register factory for plugin cuDNN when one has already been registered\n",
            "2023-10-29 10:21:03.238660: E tensorflow/compiler/xla/stream_executor/cuda/cuda_fft.cc:609] Unable to register cuFFT factory: Attempting to register factory for plugin cuFFT when one has already been registered\n",
            "2023-10-29 10:21:03.238706: E tensorflow/compiler/xla/stream_executor/cuda/cuda_blas.cc:1518] Unable to register cuBLAS factory: Attempting to register factory for plugin cuBLAS when one has already been registered\n",
            "2023-10-29 10:21:04.861961: W tensorflow/compiler/tf2tensorrt/utils/py_utils.cc:38] TF-TRT Warning: Could not find TensorRT\n",
            "DEBUG:numba.core.byteflow:bytecode dump:\n",
            ">          0\tNOP(arg=None, lineno=1039)\n",
            "           2\tLOAD_FAST(arg=0, lineno=1042)\n",
            "           4\tLOAD_CONST(arg=1, lineno=1042)\n",
            "           6\tBINARY_SUBSCR(arg=None, lineno=1042)\n",
            "           8\tLOAD_FAST(arg=0, lineno=1042)\n",
            "          10\tLOAD_CONST(arg=2, lineno=1042)\n",
            "          12\tBINARY_SUBSCR(arg=None, lineno=1042)\n",
            "          14\tCOMPARE_OP(arg=4, lineno=1042)\n",
            "          16\tLOAD_FAST(arg=0, lineno=1042)\n",
            "          18\tLOAD_CONST(arg=1, lineno=1042)\n",
            "          20\tBINARY_SUBSCR(arg=None, lineno=1042)\n",
            "          22\tLOAD_FAST(arg=0, lineno=1042)\n",
            "          24\tLOAD_CONST(arg=3, lineno=1042)\n",
            "          26\tBINARY_SUBSCR(arg=None, lineno=1042)\n",
            "          28\tCOMPARE_OP(arg=5, lineno=1042)\n",
            "          30\tBINARY_AND(arg=None, lineno=1042)\n",
            "          32\tRETURN_VALUE(arg=None, lineno=1042)\n",
            "DEBUG:numba.core.byteflow:pending: deque([State(pc_initial=0 nstack_initial=0)])\n",
            "DEBUG:numba.core.byteflow:stack: []\n",
            "DEBUG:numba.core.byteflow:state.pc_initial: State(pc_initial=0 nstack_initial=0)\n",
            "DEBUG:numba.core.byteflow:dispatch pc=0, inst=NOP(arg=None, lineno=1039)\n",
            "DEBUG:numba.core.byteflow:stack []\n",
            "DEBUG:numba.core.byteflow:dispatch pc=2, inst=LOAD_FAST(arg=0, lineno=1042)\n",
            "DEBUG:numba.core.byteflow:stack []\n",
            "DEBUG:numba.core.byteflow:dispatch pc=4, inst=LOAD_CONST(arg=1, lineno=1042)\n",
            "DEBUG:numba.core.byteflow:stack ['$x2.0']\n",
            "DEBUG:numba.core.byteflow:dispatch pc=6, inst=BINARY_SUBSCR(arg=None, lineno=1042)\n",
            "DEBUG:numba.core.byteflow:stack ['$x2.0', '$const4.1']\n",
            "DEBUG:numba.core.byteflow:dispatch pc=8, inst=LOAD_FAST(arg=0, lineno=1042)\n",
            "DEBUG:numba.core.byteflow:stack ['$6binary_subscr.2']\n",
            "DEBUG:numba.core.byteflow:dispatch pc=10, inst=LOAD_CONST(arg=2, lineno=1042)\n",
            "DEBUG:numba.core.byteflow:stack ['$6binary_subscr.2', '$x8.3']\n",
            "DEBUG:numba.core.byteflow:dispatch pc=12, inst=BINARY_SUBSCR(arg=None, lineno=1042)\n",
            "DEBUG:numba.core.byteflow:stack ['$6binary_subscr.2', '$x8.3', '$const10.4']\n",
            "DEBUG:numba.core.byteflow:dispatch pc=14, inst=COMPARE_OP(arg=4, lineno=1042)\n",
            "DEBUG:numba.core.byteflow:stack ['$6binary_subscr.2', '$12binary_subscr.5']\n",
            "DEBUG:numba.core.byteflow:dispatch pc=16, inst=LOAD_FAST(arg=0, lineno=1042)\n",
            "DEBUG:numba.core.byteflow:stack ['$14compare_op.6']\n",
            "DEBUG:numba.core.byteflow:dispatch pc=18, inst=LOAD_CONST(arg=1, lineno=1042)\n",
            "DEBUG:numba.core.byteflow:stack ['$14compare_op.6', '$x16.7']\n",
            "DEBUG:numba.core.byteflow:dispatch pc=20, inst=BINARY_SUBSCR(arg=None, lineno=1042)\n",
            "DEBUG:numba.core.byteflow:stack ['$14compare_op.6', '$x16.7', '$const18.8']\n",
            "DEBUG:numba.core.byteflow:dispatch pc=22, inst=LOAD_FAST(arg=0, lineno=1042)\n",
            "DEBUG:numba.core.byteflow:stack ['$14compare_op.6', '$20binary_subscr.9']\n",
            "DEBUG:numba.core.byteflow:dispatch pc=24, inst=LOAD_CONST(arg=3, lineno=1042)\n",
            "DEBUG:numba.core.byteflow:stack ['$14compare_op.6', '$20binary_subscr.9', '$x22.10']\n",
            "DEBUG:numba.core.byteflow:dispatch pc=26, inst=BINARY_SUBSCR(arg=None, lineno=1042)\n",
            "DEBUG:numba.core.byteflow:stack ['$14compare_op.6', '$20binary_subscr.9', '$x22.10', '$const24.11']\n",
            "DEBUG:numba.core.byteflow:dispatch pc=28, inst=COMPARE_OP(arg=5, lineno=1042)\n",
            "DEBUG:numba.core.byteflow:stack ['$14compare_op.6', '$20binary_subscr.9', '$26binary_subscr.12']\n",
            "DEBUG:numba.core.byteflow:dispatch pc=30, inst=BINARY_AND(arg=None, lineno=1042)\n",
            "DEBUG:numba.core.byteflow:stack ['$14compare_op.6', '$28compare_op.13']\n",
            "DEBUG:numba.core.byteflow:dispatch pc=32, inst=RETURN_VALUE(arg=None, lineno=1042)\n",
            "DEBUG:numba.core.byteflow:stack ['$30binary_and.14']\n",
            "DEBUG:numba.core.byteflow:end state. edges=[]\n",
            "DEBUG:numba.core.byteflow:-------------------------Prune PHIs-------------------------\n",
            "DEBUG:numba.core.byteflow:Used_phis: defaultdict(<class 'set'>, {State(pc_initial=0 nstack_initial=0): set()})\n",
            "DEBUG:numba.core.byteflow:defmap: {}\n",
            "DEBUG:numba.core.byteflow:phismap: defaultdict(<class 'set'>, {})\n",
            "DEBUG:numba.core.byteflow:changing phismap: defaultdict(<class 'set'>, {})\n",
            "DEBUG:numba.core.byteflow:keep phismap: {}\n",
            "DEBUG:numba.core.byteflow:new_out: defaultdict(<class 'dict'>, {})\n",
            "DEBUG:numba.core.byteflow:----------------------DONE Prune PHIs-----------------------\n",
            "DEBUG:numba.core.byteflow:block_infos State(pc_initial=0 nstack_initial=0):\n",
            "AdaptBlockInfo(insts=((0, {}), (2, {'res': '$x2.0'}), (4, {'res': '$const4.1'}), (6, {'index': '$const4.1', 'target': '$x2.0', 'res': '$6binary_subscr.2'}), (8, {'res': '$x8.3'}), (10, {'res': '$const10.4'}), (12, {'index': '$const10.4', 'target': '$x8.3', 'res': '$12binary_subscr.5'}), (14, {'lhs': '$6binary_subscr.2', 'rhs': '$12binary_subscr.5', 'res': '$14compare_op.6'}), (16, {'res': '$x16.7'}), (18, {'res': '$const18.8'}), (20, {'index': '$const18.8', 'target': '$x16.7', 'res': '$20binary_subscr.9'}), (22, {'res': '$x22.10'}), (24, {'res': '$const24.11'}), (26, {'index': '$const24.11', 'target': '$x22.10', 'res': '$26binary_subscr.12'}), (28, {'lhs': '$20binary_subscr.9', 'rhs': '$26binary_subscr.12', 'res': '$28compare_op.13'}), (30, {'lhs': '$14compare_op.6', 'rhs': '$28compare_op.13', 'res': '$30binary_and.14'}), (32, {'retval': '$30binary_and.14', 'castval': '$32return_value.15'})), outgoing_phis={}, blockstack=(), active_try_block=None, outgoing_edgepushed={})\n",
            "DEBUG:numba.core.interpreter:label 0:\n",
            "    x = arg(0, name=x)                       ['x']\n",
            "    $const4.1 = const(int, 0)                ['$const4.1']\n",
            "    $6binary_subscr.2 = getitem(value=x, index=$const4.1, fn=<built-in function getitem>) ['$6binary_subscr.2', '$const4.1', 'x']\n",
            "    $const10.4 = const(int, -1)              ['$const10.4']\n",
            "    $12binary_subscr.5 = getitem(value=x, index=$const10.4, fn=<built-in function getitem>) ['$12binary_subscr.5', '$const10.4', 'x']\n",
            "    $14compare_op.6 = $6binary_subscr.2 > $12binary_subscr.5 ['$12binary_subscr.5', '$14compare_op.6', '$6binary_subscr.2']\n",
            "    $const18.8 = const(int, 0)               ['$const18.8']\n",
            "    $20binary_subscr.9 = getitem(value=x, index=$const18.8, fn=<built-in function getitem>) ['$20binary_subscr.9', '$const18.8', 'x']\n",
            "    $const24.11 = const(int, 1)              ['$const24.11']\n",
            "    $26binary_subscr.12 = getitem(value=x, index=$const24.11, fn=<built-in function getitem>) ['$26binary_subscr.12', '$const24.11', 'x']\n",
            "    $28compare_op.13 = $20binary_subscr.9 >= $26binary_subscr.12 ['$20binary_subscr.9', '$26binary_subscr.12', '$28compare_op.13']\n",
            "    $30binary_and.14 = $14compare_op.6 & $28compare_op.13 ['$14compare_op.6', '$28compare_op.13', '$30binary_and.14']\n",
            "    $32return_value.15 = cast(value=$30binary_and.14) ['$30binary_and.14', '$32return_value.15']\n",
            "    return $32return_value.15                ['$32return_value.15']\n",
            "\n",
            "DEBUG:numba.core.byteflow:bytecode dump:\n",
            ">          0\tNOP(arg=None, lineno=1045)\n",
            "           2\tLOAD_FAST(arg=0, lineno=1048)\n",
            "           4\tLOAD_CONST(arg=1, lineno=1048)\n",
            "           6\tBINARY_SUBSCR(arg=None, lineno=1048)\n",
            "           8\tLOAD_FAST(arg=0, lineno=1048)\n",
            "          10\tLOAD_CONST(arg=2, lineno=1048)\n",
            "          12\tBINARY_SUBSCR(arg=None, lineno=1048)\n",
            "          14\tCOMPARE_OP(arg=0, lineno=1048)\n",
            "          16\tLOAD_FAST(arg=0, lineno=1048)\n",
            "          18\tLOAD_CONST(arg=1, lineno=1048)\n",
            "          20\tBINARY_SUBSCR(arg=None, lineno=1048)\n",
            "          22\tLOAD_FAST(arg=0, lineno=1048)\n",
            "          24\tLOAD_CONST(arg=3, lineno=1048)\n",
            "          26\tBINARY_SUBSCR(arg=None, lineno=1048)\n",
            "          28\tCOMPARE_OP(arg=1, lineno=1048)\n",
            "          30\tBINARY_AND(arg=None, lineno=1048)\n",
            "          32\tRETURN_VALUE(arg=None, lineno=1048)\n",
            "DEBUG:numba.core.byteflow:pending: deque([State(pc_initial=0 nstack_initial=0)])\n",
            "DEBUG:numba.core.byteflow:stack: []\n",
            "DEBUG:numba.core.byteflow:state.pc_initial: State(pc_initial=0 nstack_initial=0)\n",
            "DEBUG:numba.core.byteflow:dispatch pc=0, inst=NOP(arg=None, lineno=1045)\n",
            "DEBUG:numba.core.byteflow:stack []\n",
            "DEBUG:numba.core.byteflow:dispatch pc=2, inst=LOAD_FAST(arg=0, lineno=1048)\n",
            "DEBUG:numba.core.byteflow:stack []\n",
            "DEBUG:numba.core.byteflow:dispatch pc=4, inst=LOAD_CONST(arg=1, lineno=1048)\n",
            "DEBUG:numba.core.byteflow:stack ['$x2.0']\n",
            "DEBUG:numba.core.byteflow:dispatch pc=6, inst=BINARY_SUBSCR(arg=None, lineno=1048)\n",
            "DEBUG:numba.core.byteflow:stack ['$x2.0', '$const4.1']\n",
            "DEBUG:numba.core.byteflow:dispatch pc=8, inst=LOAD_FAST(arg=0, lineno=1048)\n",
            "DEBUG:numba.core.byteflow:stack ['$6binary_subscr.2']\n",
            "DEBUG:numba.core.byteflow:dispatch pc=10, inst=LOAD_CONST(arg=2, lineno=1048)\n",
            "DEBUG:numba.core.byteflow:stack ['$6binary_subscr.2', '$x8.3']\n",
            "DEBUG:numba.core.byteflow:dispatch pc=12, inst=BINARY_SUBSCR(arg=None, lineno=1048)\n",
            "DEBUG:numba.core.byteflow:stack ['$6binary_subscr.2', '$x8.3', '$const10.4']\n",
            "DEBUG:numba.core.byteflow:dispatch pc=14, inst=COMPARE_OP(arg=0, lineno=1048)\n",
            "DEBUG:numba.core.byteflow:stack ['$6binary_subscr.2', '$12binary_subscr.5']\n",
            "DEBUG:numba.core.byteflow:dispatch pc=16, inst=LOAD_FAST(arg=0, lineno=1048)\n",
            "DEBUG:numba.core.byteflow:stack ['$14compare_op.6']\n",
            "DEBUG:numba.core.byteflow:dispatch pc=18, inst=LOAD_CONST(arg=1, lineno=1048)\n",
            "DEBUG:numba.core.byteflow:stack ['$14compare_op.6', '$x16.7']\n",
            "DEBUG:numba.core.byteflow:dispatch pc=20, inst=BINARY_SUBSCR(arg=None, lineno=1048)\n",
            "DEBUG:numba.core.byteflow:stack ['$14compare_op.6', '$x16.7', '$const18.8']\n",
            "DEBUG:numba.core.byteflow:dispatch pc=22, inst=LOAD_FAST(arg=0, lineno=1048)\n",
            "DEBUG:numba.core.byteflow:stack ['$14compare_op.6', '$20binary_subscr.9']\n",
            "DEBUG:numba.core.byteflow:dispatch pc=24, inst=LOAD_CONST(arg=3, lineno=1048)\n",
            "DEBUG:numba.core.byteflow:stack ['$14compare_op.6', '$20binary_subscr.9', '$x22.10']\n",
            "DEBUG:numba.core.byteflow:dispatch pc=26, inst=BINARY_SUBSCR(arg=None, lineno=1048)\n",
            "DEBUG:numba.core.byteflow:stack ['$14compare_op.6', '$20binary_subscr.9', '$x22.10', '$const24.11']\n",
            "DEBUG:numba.core.byteflow:dispatch pc=28, inst=COMPARE_OP(arg=1, lineno=1048)\n",
            "DEBUG:numba.core.byteflow:stack ['$14compare_op.6', '$20binary_subscr.9', '$26binary_subscr.12']\n",
            "DEBUG:numba.core.byteflow:dispatch pc=30, inst=BINARY_AND(arg=None, lineno=1048)\n",
            "DEBUG:numba.core.byteflow:stack ['$14compare_op.6', '$28compare_op.13']\n",
            "DEBUG:numba.core.byteflow:dispatch pc=32, inst=RETURN_VALUE(arg=None, lineno=1048)\n",
            "DEBUG:numba.core.byteflow:stack ['$30binary_and.14']\n",
            "DEBUG:numba.core.byteflow:end state. edges=[]\n",
            "DEBUG:numba.core.byteflow:-------------------------Prune PHIs-------------------------\n",
            "DEBUG:numba.core.byteflow:Used_phis: defaultdict(<class 'set'>, {State(pc_initial=0 nstack_initial=0): set()})\n",
            "DEBUG:numba.core.byteflow:defmap: {}\n",
            "DEBUG:numba.core.byteflow:phismap: defaultdict(<class 'set'>, {})\n",
            "DEBUG:numba.core.byteflow:changing phismap: defaultdict(<class 'set'>, {})\n",
            "DEBUG:numba.core.byteflow:keep phismap: {}\n",
            "DEBUG:numba.core.byteflow:new_out: defaultdict(<class 'dict'>, {})\n",
            "DEBUG:numba.core.byteflow:----------------------DONE Prune PHIs-----------------------\n",
            "DEBUG:numba.core.byteflow:block_infos State(pc_initial=0 nstack_initial=0):\n",
            "AdaptBlockInfo(insts=((0, {}), (2, {'res': '$x2.0'}), (4, {'res': '$const4.1'}), (6, {'index': '$const4.1', 'target': '$x2.0', 'res': '$6binary_subscr.2'}), (8, {'res': '$x8.3'}), (10, {'res': '$const10.4'}), (12, {'index': '$const10.4', 'target': '$x8.3', 'res': '$12binary_subscr.5'}), (14, {'lhs': '$6binary_subscr.2', 'rhs': '$12binary_subscr.5', 'res': '$14compare_op.6'}), (16, {'res': '$x16.7'}), (18, {'res': '$const18.8'}), (20, {'index': '$const18.8', 'target': '$x16.7', 'res': '$20binary_subscr.9'}), (22, {'res': '$x22.10'}), (24, {'res': '$const24.11'}), (26, {'index': '$const24.11', 'target': '$x22.10', 'res': '$26binary_subscr.12'}), (28, {'lhs': '$20binary_subscr.9', 'rhs': '$26binary_subscr.12', 'res': '$28compare_op.13'}), (30, {'lhs': '$14compare_op.6', 'rhs': '$28compare_op.13', 'res': '$30binary_and.14'}), (32, {'retval': '$30binary_and.14', 'castval': '$32return_value.15'})), outgoing_phis={}, blockstack=(), active_try_block=None, outgoing_edgepushed={})\n",
            "DEBUG:numba.core.interpreter:label 0:\n",
            "    x = arg(0, name=x)                       ['x']\n",
            "    $const4.1 = const(int, 0)                ['$const4.1']\n",
            "    $6binary_subscr.2 = getitem(value=x, index=$const4.1, fn=<built-in function getitem>) ['$6binary_subscr.2', '$const4.1', 'x']\n",
            "    $const10.4 = const(int, -1)              ['$const10.4']\n",
            "    $12binary_subscr.5 = getitem(value=x, index=$const10.4, fn=<built-in function getitem>) ['$12binary_subscr.5', '$const10.4', 'x']\n",
            "    $14compare_op.6 = $6binary_subscr.2 < $12binary_subscr.5 ['$12binary_subscr.5', '$14compare_op.6', '$6binary_subscr.2']\n",
            "    $const18.8 = const(int, 0)               ['$const18.8']\n",
            "    $20binary_subscr.9 = getitem(value=x, index=$const18.8, fn=<built-in function getitem>) ['$20binary_subscr.9', '$const18.8', 'x']\n",
            "    $const24.11 = const(int, 1)              ['$const24.11']\n",
            "    $26binary_subscr.12 = getitem(value=x, index=$const24.11, fn=<built-in function getitem>) ['$26binary_subscr.12', '$const24.11', 'x']\n",
            "    $28compare_op.13 = $20binary_subscr.9 <= $26binary_subscr.12 ['$20binary_subscr.9', '$26binary_subscr.12', '$28compare_op.13']\n",
            "    $30binary_and.14 = $14compare_op.6 & $28compare_op.13 ['$14compare_op.6', '$28compare_op.13', '$30binary_and.14']\n",
            "    $32return_value.15 = cast(value=$30binary_and.14) ['$30binary_and.14', '$32return_value.15']\n",
            "    return $32return_value.15                ['$32return_value.15']\n",
            "\n",
            "INFO:ljs_base:{'train': {'log_interval': 200, 'eval_interval': 1000, 'seed': 1234, 'epochs': 20000, 'learning_rate': 0.0002, 'betas': [0.8, 0.99], 'eps': 1e-09, 'batch_size': 64, 'fp16_run': False, 'lr_decay': 0.999875, 'segment_size': 8192, 'init_lr_ratio': 1, 'warmup_epochs': 0, 'c_mel': 45, 'c_kl': 1.0}, 'data': {'use_mel_posterior_encoder': True, 'training_files': 'filelists/ljs_audio_text_train_filelist.txt.cleaned', 'validation_files': 'filelists/ljs_audio_text_val_filelist.txt.cleaned', 'text_cleaners': ['english_cleaners2'], 'max_wav_value': 32768.0, 'sampling_rate': 22050, 'filter_length': 1024, 'hop_length': 256, 'win_length': 1024, 'n_mel_channels': 80, 'mel_fmin': 0.0, 'mel_fmax': None, 'add_blank': False, 'n_speakers': 0, 'cleaned_text': True}, 'model': {'use_mel_posterior_encoder': True, 'use_transformer_flows': True, 'transformer_flow_type': 'pre_conv', 'use_spk_conditioned_encoder': False, 'use_noise_scaled_mas': True, 'use_duration_discriminator': True, 'inter_channels': 192, 'hidden_channels': 192, 'filter_channels': 768, 'n_heads': 2, 'n_layers': 6, 'kernel_size': 3, 'p_dropout': 0.1, 'resblock': '1', 'resblock_kernel_sizes': [3, 7, 11], 'resblock_dilation_sizes': [[1, 3, 5], [1, 3, 5], [1, 3, 5]], 'upsample_rates': [8, 8, 2, 2], 'upsample_initial_channel': 512, 'upsample_kernel_sizes': [16, 16, 4, 4], 'n_layers_q': 3, 'use_spectral_norm': False, 'use_sdp': False}, 'model_dir': './logs/ljs_base'}\n",
            "Using mel posterior encoder for VITS2\n",
            "Using transformer flows pre_conv for VITS2\n",
            "Using normal encoder for VITS1\n",
            "Using noise scaled MAS for VITS2\n",
            "\u001b[0mTraceback (most recent call last):\n",
            "  File \"/content/vits2_pytorch/train.py\", line 600, in <module>\n",
            "    main()\n",
            "  File \"/content/vits2_pytorch/train.py\", line 48, in main\n",
            "    mp.spawn(\n",
            "  File \"/usr/local/lib/python3.10/dist-packages/torch/multiprocessing/spawn.py\", line 246, in spawn\n",
            "    return start_processes(fn, args, nprocs, join, daemon, start_method=\"spawn\")\n",
            "  File \"/usr/local/lib/python3.10/dist-packages/torch/multiprocessing/spawn.py\", line 202, in start_processes\n",
            "    while not context.join():\n",
            "  File \"/usr/local/lib/python3.10/dist-packages/torch/multiprocessing/spawn.py\", line 163, in join\n",
            "    raise ProcessRaisedException(msg, error_index, failed_process.pid)\n",
            "torch.multiprocessing.spawn.ProcessRaisedException: \n",
            "\n",
            "-- Process 0 terminated with the following error:\n",
            "Traceback (most recent call last):\n",
            "  File \"/usr/local/lib/python3.10/dist-packages/torch/multiprocessing/spawn.py\", line 74, in _wrap\n",
            "    fn(i, *args)\n",
            "  File \"/content/vits2_pytorch/train.py\", line 166, in run\n",
            "    duration_discriminator_type = hps.model.duration_discriminator_type\n",
            "AttributeError: 'HParams' object has no attribute 'duration_discriminator_type'\n",
            "\n",
            "\u001b[0m"
          ]
        }
      ]
    }
  ]
}