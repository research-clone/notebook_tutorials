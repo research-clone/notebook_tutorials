{
  "cells": [
    {
      "cell_type": "markdown",
      "metadata": {
        "id": "view-in-github",
        "colab_type": "text"
      },
      "source": [
        "<a href=\"https://colab.research.google.com/github/vutt-ai-models/transformers_tutorials/blob/main/notebooks/audio_classification.ipynb\" target=\"_parent\"><img src=\"https://colab.research.google.com/assets/colab-badge.svg\" alt=\"Open In Colab\"/></a>"
      ]
    },
    {
      "cell_type": "markdown",
      "metadata": {
        "id": "g4JTHJ-IATho"
      },
      "source": [
        "# **Fine-tuning for Audio Classification with 🤗 Transformers**"
      ]
    },
    {
      "cell_type": "markdown",
      "metadata": {
        "id": "o-CI6ON8AMcc"
      },
      "source": [
        "This notebook shows how to fine-tune multi-lingual pretrained speech models for Automatic Speech Recognition."
      ]
    },
    {
      "cell_type": "markdown",
      "metadata": {
        "id": "pdcMxVGEA9Cd"
      },
      "source": [
        "This notebook is built to run on the **Keyword Spotting** subset of the [SUPERB dataset](https://huggingface.co/datasets/superb) with any speech model checkpoint from the [Model Hub](https://huggingface.co/models?pipeline_tag=automatic-speech-recognition&sort=downloads) as long as that model has a version with a Sequence Classification head (e.g. [Wav2Vec2ForSequenceClassification](https://huggingface.co/transformers/model_doc/wav2vec2.html#wav2vec2forsequenceclassification)). \n",
        "\n",
        "Depending on the model and the GPU you are using, you might need to adjust the batch size to avoid out-of-memory errors. Set those two parameters, then the rest of the notebook should run smoothly:"
      ]
    },
    {
      "cell_type": "code",
      "execution_count": 1,
      "metadata": {
        "id": "5WMEawzyCEyG"
      },
      "outputs": [],
      "source": [
        "model_checkpoint = \"facebook/wav2vec2-base\"\n",
        "batch_size = 32"
      ]
    },
    {
      "cell_type": "markdown",
      "metadata": {
        "id": "NlArTG8KChJf"
      },
      "source": [
        "Before we start, let's install both `datasets` and `transformers` from master. Also, we need the `librosa` package to load audio files."
      ]
    },
    {
      "cell_type": "code",
      "execution_count": 2,
      "metadata": {
        "id": "L1532RVbJgQV"
      },
      "outputs": [],
      "source": [
        "%%capture\n",
        "!pip install datasets\n",
        "!pip install transformers\n",
        "!pip install librosa"
      ]
    },
    {
      "cell_type": "markdown",
      "metadata": {
        "id": "snZ1tmaOC412"
      },
      "source": [
        "If you're opening this notebook locally, make sure your environment has an install from the last version of those libraries.\n",
        "\n",
        "To be able to share your model with the community and generate results like the one shown in the picture below via the inference API, there are a few more steps to follow.\n",
        "\n",
        "First you have to store your authentication token from the Hugging Face website (sign up [here](https://huggingface.co/join) if you haven't already!) then execute the following cell and input your username and password:"
      ]
    },
    {
      "cell_type": "code",
      "execution_count": 3,
      "metadata": {
        "id": "Bkpk_JPlCww8",
        "outputId": "89c05f5c-3df7-48a6-b080-47ee1d30cb4f",
        "colab": {
          "base_uri": "https://localhost:8080/",
          "height": 145,
          "referenced_widgets": [
            "efd2dfe9cd0449b68c991e004373861c",
            "df0e99975a2949fb84056ca3c557323a",
            "83059048cded4ed3b28900ed8a7f707a",
            "69a38ba62e424390ac4c8faac21c89ba",
            "43364606b69941a8b363c61fb76a79cc",
            "156691b23d7742be8113c15ada57c845",
            "aa86eb9362de40a7aa5ad6adee582e81",
            "3688668a38fe43f9a7884c60aa15a5dc",
            "391612ff701b4f38ad33d56d309fd185",
            "595997c6e7624d4abc9bbeee3cc54d53",
            "c5ecc5cdadad420d859606ea90875c34",
            "a87631044b914fa494c510383b306065",
            "1d906fff816747e280398428d3da91d0",
            "6b64473ffa8a48b6ae196684d3b07982",
            "fc5a15c7cb07423ca0ed6cc30cb6a0a3",
            "0d67ab9429464579aa8bcd6d01764d4f",
            "cb7bbb1acc484304868d13a1c6519f40",
            "1f2909a89b184c63ab2fcd5d60fee373",
            "6b9272afe0544cb1a5d208f5b342b987",
            "2456ae45341e40e08a6f328ed61b694b",
            "e80f7217864341049d6802642107e6fd",
            "e03c97c30fbc4158bfba604b3aec50c0",
            "9bddc69637134d42975aa52b7032a00c",
            "daf0c9113fe34f7c80a1ccaa17cf27b8",
            "e1bba77d94ea4451aa3240f2abd03eec",
            "b342149775d04a3fbf117076191bc688",
            "af4ce922ae38479d8eb17206c0ca98b9",
            "cbbdfff45ae34f198737eebf82043992",
            "ce6bb216735f40778258ef65cd212fd4",
            "1c44e2f6817c416c92bf81ad9a13484b",
            "85451a6a813b4bb99ed490915cec8d29",
            "5e7dda86242b4ce884106f954e613c0b"
          ]
        }
      },
      "outputs": [
        {
          "output_type": "display_data",
          "data": {
            "text/plain": [
              "VBox(children=(HTML(value='<center> <img\\nsrc=https://huggingface.co/front/assets/huggingface_logo-noborder.sv…"
            ],
            "application/vnd.jupyter.widget-view+json": {
              "version_major": 2,
              "version_minor": 0,
              "model_id": "efd2dfe9cd0449b68c991e004373861c"
            }
          },
          "metadata": {}
        }
      ],
      "source": [
        "from huggingface_hub import notebook_login\n",
        "\n",
        "notebook_login()"
      ]
    },
    {
      "cell_type": "markdown",
      "metadata": {
        "id": "JJ0986jTDZRC"
      },
      "source": [
        "\n",
        "Then you need to install Git-LFS to upload your model checkpoints:"
      ]
    },
    {
      "cell_type": "code",
      "execution_count": null,
      "metadata": {
        "id": "t7JEhLjDDcVd"
      },
      "outputs": [],
      "source": [
        "%%capture\n",
        "!apt install git-lfs"
      ]
    },
    {
      "cell_type": "markdown",
      "metadata": {
        "id": "7EUs-rNqZVXU"
      },
      "source": [
        "We also quickly upload some telemetry - this tells us which examples and software versions are getting used so we know where to prioritize our maintenance efforts. We don't collect (or care about) any personally identifiable information, but if you'd prefer not to be counted, feel free to skip this step or delete this cell entirely."
      ]
    },
    {
      "cell_type": "code",
      "execution_count": 4,
      "metadata": {
        "id": "9EWnRUX8ZVXV"
      },
      "outputs": [],
      "source": [
        "from transformers.utils import send_example_telemetry\n",
        "\n",
        "send_example_telemetry(\"audio_classification_notebook\", framework=\"pytorch\")"
      ]
    },
    {
      "cell_type": "markdown",
      "metadata": {
        "id": "XalxdrirGkLl"
      },
      "source": [
        "## Fine-tuning a model on an audio classification task"
      ]
    },
    {
      "cell_type": "markdown",
      "metadata": {
        "id": "cnRWZSq0GRRh"
      },
      "source": [
        "In this notebook, we will see how to fine-tune one of the [🤗 Transformers](https://github.com/huggingface/transformers) acoustic models to a Keyword Spotting task of the [SUPERB Benchmark](https://superbbenchmark.org/)\n",
        "\n",
        "Keyword Spotting (KS) detects preregistered keywords by classifying utterances into a predefined set of words. SUPERB uses the widely used Speech Commands dataset v1.0 for the task. The dataset consists of ten classes of keywords, a class for silence, and an unknown class to include the false positive. "
      ]
    },
    {
      "cell_type": "markdown",
      "metadata": {
        "id": "lu8Od7EgFLwe"
      },
      "source": [
        "<img src=\"data:image/png;base64,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\" alt=\"drawing\" width=\"400\"/>"
      ]
    },
    {
      "cell_type": "markdown",
      "metadata": {
        "id": "mcE455KaG687"
      },
      "source": [
        "### Loading the dataset"
      ]
    },
    {
      "cell_type": "markdown",
      "metadata": {
        "id": "RD_G2KJgG_bU"
      },
      "source": [
        "We will use the [🤗 Datasets](https://github.com/huggingface/datasets) library to download the data and get the Accuracy metric we need to use for evaluation. This can be easily done with the functions `load_dataset` and `load_metric`.  "
      ]
    },
    {
      "cell_type": "code",
      "execution_count": 5,
      "metadata": {
        "id": "fhVQU42BLd3p"
      },
      "outputs": [],
      "source": [
        "from datasets import load_dataset, load_metric"
      ]
    },
    {
      "cell_type": "code",
      "execution_count": 6,
      "metadata": {
        "colab": {
          "base_uri": "https://localhost:8080/",
          "height": 121,
          "referenced_widgets": [
            "49fdf5c722e142d3a549cdad561b43af",
            "483015588aee41229f195cd79d27c2f6",
            "326bac96d71b4fbdaea1c95c20703021",
            "33b7e23c429f4be8ba64d7009783857b",
            "408cf3fd74494f6f8ecf2b3461ac7bc5",
            "2e95a30a6d784f8094873c84b7d7d134",
            "55af4045e1b84e48a2647d79d748bc32",
            "112479331c914793a4f1894d31a81718",
            "c8de0e08071f450e9969dad2fb506e7c",
            "63f5c09cfa4f4d85a727085f7a99cef3",
            "911aa07ff25d4db68ae045bdacf188e2"
          ]
        },
        "id": "8UGse36eLeeb",
        "outputId": "d4a2f5b9-affc-4660-f337-93e59ed715ed"
      },
      "outputs": [
        {
          "output_type": "stream",
          "name": "stderr",
          "text": [
            "WARNING:datasets.builder:Found cached dataset superb (/root/.cache/huggingface/datasets/superb/ks/1.9.0/b8183f71eabe8c559d7f3f528ab37a6a21ad1ee088fd3423574cecad8b3ec67e)\n"
          ]
        },
        {
          "output_type": "display_data",
          "data": {
            "text/plain": [
              "  0%|          | 0/3 [00:00<?, ?it/s]"
            ],
            "application/vnd.jupyter.widget-view+json": {
              "version_major": 2,
              "version_minor": 0,
              "model_id": "49fdf5c722e142d3a549cdad561b43af"
            }
          },
          "metadata": {}
        },
        {
          "output_type": "stream",
          "name": "stderr",
          "text": [
            "<ipython-input-6-d913dff852f4>:2: FutureWarning: load_metric is deprecated and will be removed in the next major version of datasets. Use 'evaluate.load' instead, from the new library 🤗 Evaluate: https://huggingface.co/docs/evaluate\n",
            "  metric = load_metric(\"accuracy\")\n"
          ]
        }
      ],
      "source": [
        "dataset = load_dataset(\"superb\", \"ks\")\n",
        "metric = load_metric(\"accuracy\")"
      ]
    },
    {
      "cell_type": "markdown",
      "metadata": {
        "id": "r8mTmFdlHOmN"
      },
      "source": [
        "The `dataset` object itself is a [`DatasetDict`](https://huggingface.co/docs/datasets/package_reference/main_classes.html#datasetdict), which contains one key for the training, validation and test set."
      ]
    },
    {
      "cell_type": "code",
      "execution_count": 7,
      "metadata": {
        "colab": {
          "base_uri": "https://localhost:8080/"
        },
        "id": "7tjOWPQYLq4u",
        "outputId": "e741f11c-7fc8-4c65-ba6d-da8298210d6e"
      },
      "outputs": [
        {
          "output_type": "execute_result",
          "data": {
            "text/plain": [
              "DatasetDict({\n",
              "    train: Dataset({\n",
              "        features: ['file', 'audio', 'label'],\n",
              "        num_rows: 51094\n",
              "    })\n",
              "    validation: Dataset({\n",
              "        features: ['file', 'audio', 'label'],\n",
              "        num_rows: 6798\n",
              "    })\n",
              "    test: Dataset({\n",
              "        features: ['file', 'audio', 'label'],\n",
              "        num_rows: 3081\n",
              "    })\n",
              "})"
            ]
          },
          "metadata": {},
          "execution_count": 7
        }
      ],
      "source": [
        "dataset"
      ]
    },
    {
      "cell_type": "markdown",
      "metadata": {
        "id": "nfPPNjthI3u2"
      },
      "source": [
        "To access an actual element, you need to select a split first, then give an index:"
      ]
    },
    {
      "cell_type": "code",
      "execution_count": 8,
      "metadata": {
        "colab": {
          "base_uri": "https://localhost:8080/"
        },
        "id": "BujWoSgyMQlw",
        "outputId": "48a64e5c-29b7-4029-f3e2-c79638f487cb"
      },
      "outputs": [
        {
          "output_type": "execute_result",
          "data": {
            "text/plain": [
              "{'file': '/root/.cache/huggingface/datasets/downloads/extracted/94c69f12cc18539f842ccec832347d0f85a3424c14bc47bd63902105ba1b2391/go/e41a903b_nohash_4.wav',\n",
              " 'audio': {'path': '/root/.cache/huggingface/datasets/downloads/extracted/94c69f12cc18539f842ccec832347d0f85a3424c14bc47bd63902105ba1b2391/go/e41a903b_nohash_4.wav',\n",
              "  'array': array([-1.22070312e-04,  3.05175781e-05,  1.83105469e-04, ...,\n",
              "         -4.88281250e-04, -5.49316406e-04, -3.35693359e-04]),\n",
              "  'sampling_rate': 16000},\n",
              " 'label': 9}"
            ]
          },
          "metadata": {},
          "execution_count": 8
        }
      ],
      "source": [
        "dataset[\"test\"][1000]"
      ]
    },
    {
      "cell_type": "markdown",
      "metadata": {
        "id": "f8GpxwfnJCkF"
      },
      "source": [
        "As you can see, the `label` field is not an actual string label. By default the `ClassLabel` fields are encoded into integers for convenience:"
      ]
    },
    {
      "cell_type": "code",
      "execution_count": 8,
      "metadata": {
        "colab": {
          "base_uri": "https://localhost:8080/"
        },
        "id": "n33LZz_ZMU3o",
        "outputId": "ab22de9d-10f1-4741-bd52-87a4567e24ec"
      },
      "outputs": [
        {
          "output_type": "execute_result",
          "data": {
            "text/plain": [
              "ClassLabel(names=['yes', 'no', 'up', 'down', 'left', 'right', 'on', 'off', 'stop', 'go', '_silence_', '_unknown_'], id=None)"
            ]
          },
          "metadata": {},
          "execution_count": 8
        }
      ],
      "source": [
        "dataset[\"train\"].features[\"label\"]"
      ]
    },
    {
      "cell_type": "markdown",
      "metadata": {
        "id": "5LdpDtScLgeD"
      },
      "source": [
        "Let's create an `id2label` dictionary to decode them back to strings and see what they are. The inverse `label2id` will be useful too, when we load the model later."
      ]
    },
    {
      "cell_type": "code",
      "execution_count": 9,
      "metadata": {
        "colab": {
          "base_uri": "https://localhost:8080/",
          "height": 35
        },
        "id": "UuyXDtQqNUZW",
        "outputId": "1b31c32f-dedb-4138-dc23-5b9a20b11532"
      },
      "outputs": [
        {
          "output_type": "execute_result",
          "data": {
            "text/plain": [
              "'go'"
            ],
            "application/vnd.google.colaboratory.intrinsic+json": {
              "type": "string"
            }
          },
          "metadata": {},
          "execution_count": 9
        }
      ],
      "source": [
        "labels = dataset[\"train\"].features[\"label\"].names\n",
        "label2id, id2label = dict(), dict()\n",
        "for i, label in enumerate(labels):\n",
        "    label2id[label] = str(i)\n",
        "    id2label[str(i)] = label\n",
        "\n",
        "id2label[\"9\"]"
      ]
    },
    {
      "cell_type": "markdown",
      "metadata": {
        "id": "GD7wBXeIltx0"
      },
      "source": [
        "`Wav2Vec2` expects the input in the format of a 1-dimensional array of 16 kHz. This means that the audio file has to be loaded and resampled.\n",
        "\n",
        " Thankfully, `datasets` does this automatically when calling the column `audio`. Let try it out. "
      ]
    },
    {
      "cell_type": "code",
      "execution_count": 10,
      "metadata": {
        "colab": {
          "base_uri": "https://localhost:8080/"
        },
        "id": "UKIaV1ndl0j6",
        "outputId": "0090fbe3-f847-4dca-c85d-874e0ce916e4"
      },
      "outputs": [
        {
          "output_type": "execute_result",
          "data": {
            "text/plain": [
              "{'path': '/root/.cache/huggingface/datasets/downloads/extracted/94c69f12cc18539f842ccec832347d0f85a3424c14bc47bd63902105ba1b2391/go/e41a903b_nohash_4.wav',\n",
              " 'array': array([-1.22070312e-04,  3.05175781e-05,  1.83105469e-04, ...,\n",
              "        -4.88281250e-04, -5.49316406e-04, -3.35693359e-04]),\n",
              " 'sampling_rate': 16000}"
            ]
          },
          "metadata": {},
          "execution_count": 10
        }
      ],
      "source": [
        "dataset[\"test\"][1000][\"audio\"]"
      ]
    },
    {
      "cell_type": "markdown",
      "metadata": {
        "id": "eEfxyaatlzU-"
      },
      "source": [
        "We can see that the audio file has automatically been loaded. This is thanks to the new [`\"Audio\"` feature](https://huggingface.co/docs/datasets/package_reference/main_classes.html?highlight=audio#datasets.Audio) introduced in `datasets == 1.13.3`, which loads and resamples audio files on-the-fly upon calling.\n",
        "\n",
        "The sampling rate is set to 16kHz which is what `Wav2Vec2` expects as an input."
      ]
    },
    {
      "cell_type": "markdown",
      "metadata": {
        "id": "TSvqeGihJvp4"
      },
      "source": [
        "To get a sense of what the commands sound like, the following snippet will render \n",
        "some audio examples picked randomly from the dataset. \n",
        "\n",
        "**Note**: *You can run the following cell a couple of times to listen to different audio samples.*"
      ]
    },
    {
      "cell_type": "code",
      "execution_count": 11,
      "metadata": {
        "colab": {
          "base_uri": "https://localhost:8080/",
          "height": 569
        },
        "id": "RI0kb4woNvuU",
        "outputId": "1c5b5e89-cf2e-4510-fab8-da771b1e3ff2"
      },
      "outputs": [
        {
          "output_type": "stream",
          "name": "stdout",
          "text": [
            "Label: up\n",
            "Shape: (16000,), sampling rate: 16000\n"
          ]
        },
        {
          "output_type": "display_data",
          "data": {
            "text/plain": [
              "<IPython.lib.display.Audio object>"
            ],
            "text/html": [
              "\n",
              "                <audio  controls=\"controls\" >\n",
              "                    <source src=\"data:audio/wav;base64,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\" type=\"audio/wav\" />\n",
              "                    Your browser does not support the audio element.\n",
              "                </audio>\n",
              "              "
            ]
          },
          "metadata": {}
        },
        {
          "output_type": "stream",
          "name": "stdout",
          "text": [
            "\n",
            "Label: _unknown_\n",
            "Shape: (16000,), sampling rate: 16000\n"
          ]
        },
        {
          "output_type": "display_data",
          "data": {
            "text/plain": [
              "<IPython.lib.display.Audio object>"
            ],
            "text/html": [
              "\n",
              "                <audio  controls=\"controls\" >\n",
              "                    <source src=\"data:audio/wav;base64,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\" type=\"audio/wav\" />\n",
              "                    Your browser does not support the audio element.\n",
              "                </audio>\n",
              "              "
            ]
          },
          "metadata": {}
        },
        {
          "output_type": "stream",
          "name": "stdout",
          "text": [
            "\n",
            "Label: on\n",
            "Shape: (16000,), sampling rate: 16000\n"
          ]
        },
        {
          "output_type": "display_data",
          "data": {
            "text/plain": [
              "<IPython.lib.display.Audio object>"
            ],
            "text/html": [
              "\n",
              "                <audio  controls=\"controls\" >\n",
              "                    <source src=\"data:audio/wav;base64,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\" type=\"audio/wav\" />\n",
              "                    Your browser does not support the audio element.\n",
              "                </audio>\n",
              "              "
            ]
          },
          "metadata": {}
        },
        {
          "output_type": "stream",
          "name": "stdout",
          "text": [
            "\n",
            "Label: _unknown_\n",
            "Shape: (16000,), sampling rate: 16000\n"
          ]
        },
        {
          "output_type": "display_data",
          "data": {
            "text/plain": [
              "<IPython.lib.display.Audio object>"
            ],
            "text/html": [
              "\n",
              "                <audio  controls=\"controls\" >\n",
              "                    <source src=\"data:audio/wav;base64,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\" type=\"audio/wav\" />\n",
              "                    Your browser does not support the audio element.\n",
              "                </audio>\n",
              "              "
            ]
          },
          "metadata": {}
        },
        {
          "output_type": "stream",
          "name": "stdout",
          "text": [
            "\n",
            "Label: _unknown_\n",
            "Shape: (16000,), sampling rate: 16000\n"
          ]
        },
        {
          "output_type": "display_data",
          "data": {
            "text/plain": [
              "<IPython.lib.display.Audio object>"
            ],
            "text/html": [
              "\n",
              "                <audio  controls=\"controls\" >\n",
              "                    <source src=\"data:audio/wav;base64,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\" type=\"audio/wav\" />\n",
              "                    Your browser does not support the audio element.\n",
              "                </audio>\n",
              "              "
            ]
          },
          "metadata": {}
        },
        {
          "output_type": "stream",
          "name": "stdout",
          "text": [
            "\n"
          ]
        }
      ],
      "source": [
        "import random\n",
        "from IPython.display import Audio, display\n",
        "\n",
        "for _ in range(5):\n",
        "    rand_idx = random.randint(0, len(dataset[\"train\"])-1)\n",
        "    example = dataset[\"train\"][rand_idx]\n",
        "    audio = example[\"audio\"]\n",
        "\n",
        "    print(f'Label: {id2label[str(example[\"label\"])]}')\n",
        "    print(f'Shape: {audio[\"array\"].shape}, sampling rate: {audio[\"sampling_rate\"]}')\n",
        "    display(Audio(audio[\"array\"], rate=audio[\"sampling_rate\"]))\n",
        "    print()"
      ]
    },
    {
      "cell_type": "markdown",
      "metadata": {
        "id": "37K_0FAQoNRM"
      },
      "source": [
        "If you run the cell a couple of times, you'll see that despite slight variations in length, most of the samples are about 1 second long (`duration = audio_length / sampling_rate`). So we can safely truncate and pad the samples to `16000`."
      ]
    },
    {
      "cell_type": "markdown",
      "metadata": {
        "id": "4zxoikSOjs0K"
      },
      "source": [
        "### Preprocessing the data"
      ]
    },
    {
      "cell_type": "markdown",
      "metadata": {
        "id": "WTupOU88p1lK"
      },
      "source": [
        "Before we can feed those audio clips to our model, we need to preprocess them. This is done by a 🤗 Transformers `FeatureExtractor` which will normalize the inputs and put them in a format the model expects, as well as generate the other inputs that the model requires.\n",
        "\n",
        "To do all of this, we instantiate our feature extractor with the `AutoFeatureExtractor.from_pretrained` method, which will ensure that we get a preprocessor that corresponds to the model architecture we want to use."
      ]
    },
    {
      "cell_type": "code",
      "execution_count": 12,
      "metadata": {
        "colab": {
          "base_uri": "https://localhost:8080/"
        },
        "id": "G1bX4lGAO_d9",
        "outputId": "dd4b28a2-62dd-442a-a803-8bf7c748d977"
      },
      "outputs": [
        {
          "output_type": "stream",
          "name": "stderr",
          "text": [
            "/usr/local/lib/python3.10/dist-packages/transformers/configuration_utils.py:380: UserWarning: Passing `gradient_checkpointing` to a config initialization is deprecated and will be removed in v5 Transformers. Using `model.gradient_checkpointing_enable()` instead, or if you are using the `Trainer` API, pass `gradient_checkpointing=True` in your `TrainingArguments`.\n",
            "  warnings.warn(\n"
          ]
        },
        {
          "output_type": "execute_result",
          "data": {
            "text/plain": [
              "Wav2Vec2FeatureExtractor {\n",
              "  \"do_normalize\": true,\n",
              "  \"feature_extractor_type\": \"Wav2Vec2FeatureExtractor\",\n",
              "  \"feature_size\": 1,\n",
              "  \"padding_side\": \"right\",\n",
              "  \"padding_value\": 0.0,\n",
              "  \"return_attention_mask\": false,\n",
              "  \"sampling_rate\": 16000\n",
              "}"
            ]
          },
          "metadata": {},
          "execution_count": 12
        }
      ],
      "source": [
        "from transformers import AutoFeatureExtractor\n",
        "\n",
        "feature_extractor = AutoFeatureExtractor.from_pretrained(model_checkpoint)\n",
        "feature_extractor"
      ]
    },
    {
      "cell_type": "markdown",
      "metadata": {
        "id": "-zYhYOuDL9XP"
      },
      "source": [
        "As we've noticed earlier, the samples are roughly 1 second long, so let's set it here:"
      ]
    },
    {
      "cell_type": "code",
      "execution_count": 13,
      "metadata": {
        "id": "wX35xSLx-ghC"
      },
      "outputs": [],
      "source": [
        "max_duration = 1.0  # seconds"
      ]
    },
    {
      "cell_type": "markdown",
      "metadata": {
        "id": "qUtxmoMvqml1"
      },
      "source": [
        "We can then write the function that will preprocess our samples. We just feed them to the `feature_extractor` with the argument `truncation=True`, as well as the maximum sample length. This will ensure that very long inputs like the ones in the `_silence_` class can be safely batched."
      ]
    },
    {
      "cell_type": "code",
      "execution_count": 14,
      "metadata": {
        "id": "4O_p3WrpRyej"
      },
      "outputs": [],
      "source": [
        "def preprocess_function(examples):\n",
        "    audio_arrays = [x[\"array\"] for x in examples[\"audio\"]]\n",
        "    inputs = feature_extractor(\n",
        "        audio_arrays, \n",
        "        sampling_rate=feature_extractor.sampling_rate, \n",
        "        max_length=int(feature_extractor.sampling_rate * max_duration), \n",
        "        truncation=True, \n",
        "    )\n",
        "    return inputs"
      ]
    },
    {
      "cell_type": "markdown",
      "metadata": {
        "id": "OlbYCcVZ4hHu"
      },
      "source": [
        "The feature extractor will return a list of numpy arays for each example:"
      ]
    },
    {
      "cell_type": "code",
      "execution_count": 15,
      "metadata": {
        "colab": {
          "base_uri": "https://localhost:8080/"
        },
        "id": "qGUvcAlAqKy-",
        "outputId": "2b208f07-45ec-4305-87c2-657f69aec194"
      },
      "outputs": [
        {
          "output_type": "execute_result",
          "data": {
            "text/plain": [
              "{'input_values': [array([-9.1631009e-05, -9.1631009e-05, -9.1631009e-05, ...,\n",
              "       -4.6719767e-02, -8.0353022e-01, -1.3182331e+00], dtype=float32), array([0.01049979, 0.01049979, 0.01049979, ..., 0.6454253 , 0.43378347,\n",
              "       0.25741526], dtype=float32), array([ 9.0340059e-04,  9.0340059e-04,  9.0340059e-04, ...,\n",
              "       -1.7281245e-01,  2.2313449e-01,  1.9931581e+00], dtype=float32), array([ 1.5586768 ,  0.3870289 ,  0.74101615, ..., -0.8897349 ,\n",
              "       -0.7703889 , -0.09471782], dtype=float32), array([-0.01518929, -0.01518929, -0.01518929, ..., -0.84138   ,\n",
              "        0.22227868, -0.02409434], dtype=float32)]}"
            ]
          },
          "metadata": {},
          "execution_count": 15
        }
      ],
      "source": [
        "preprocess_function(dataset['train'][:5])"
      ]
    },
    {
      "cell_type": "markdown",
      "metadata": {
        "id": "a1Nw4FwN5wCS"
      },
      "source": [
        "To apply this function on all utterances in our dataset, we just use the `map` method of our `dataset` object we created earlier. This will apply the function on all the elements of all the splits in `dataset`, so our training, validation and testing data will be preprocessed in one single command."
      ]
    },
    {
      "cell_type": "code",
      "execution_count": 16,
      "metadata": {
        "colab": {
          "base_uri": "https://localhost:8080/"
        },
        "id": "FfxFgJ_6qPPy",
        "outputId": "034f7754-8368-4438-ff0d-6dd639599935"
      },
      "outputs": [
        {
          "output_type": "stream",
          "name": "stderr",
          "text": [
            "WARNING:datasets.arrow_dataset:Loading cached processed dataset at /root/.cache/huggingface/datasets/superb/ks/1.9.0/b8183f71eabe8c559d7f3f528ab37a6a21ad1ee088fd3423574cecad8b3ec67e/cache-8b1a6a5915d27f6b.arrow\n",
            "WARNING:datasets.arrow_dataset:Loading cached processed dataset at /root/.cache/huggingface/datasets/superb/ks/1.9.0/b8183f71eabe8c559d7f3f528ab37a6a21ad1ee088fd3423574cecad8b3ec67e/cache-74b1d383850f250c.arrow\n",
            "WARNING:datasets.arrow_dataset:Loading cached processed dataset at /root/.cache/huggingface/datasets/superb/ks/1.9.0/b8183f71eabe8c559d7f3f528ab37a6a21ad1ee088fd3423574cecad8b3ec67e/cache-071dadc9e0442a46.arrow\n"
          ]
        },
        {
          "output_type": "execute_result",
          "data": {
            "text/plain": [
              "DatasetDict({\n",
              "    train: Dataset({\n",
              "        features: ['label', 'input_values'],\n",
              "        num_rows: 51094\n",
              "    })\n",
              "    validation: Dataset({\n",
              "        features: ['label', 'input_values'],\n",
              "        num_rows: 6798\n",
              "    })\n",
              "    test: Dataset({\n",
              "        features: ['label', 'input_values'],\n",
              "        num_rows: 3081\n",
              "    })\n",
              "})"
            ]
          },
          "metadata": {},
          "execution_count": 16
        }
      ],
      "source": [
        "encoded_dataset = dataset.map(preprocess_function, remove_columns=[\"audio\", \"file\"], batched=True)\n",
        "encoded_dataset"
      ]
    },
    {
      "cell_type": "markdown",
      "metadata": {
        "id": "c0OwX3Es580y"
      },
      "source": [
        "Even better, the results are automatically cached by the 🤗 Datasets library to avoid spending time on this step the next time you run your notebook. The 🤗 Datasets library is normally smart enough to detect when the function you pass to map has changed (and thus requires to not use the cache data). 🤗 Datasets warns you when it uses cached files, you can pass `load_from_cache_file=False` in the call to `map` to not use the cached files and force the preprocessing to be applied again."
      ]
    },
    {
      "cell_type": "markdown",
      "metadata": {
        "id": "HOXmyPQ76Qv9"
      },
      "source": [
        "### Training the model"
      ]
    },
    {
      "cell_type": "markdown",
      "metadata": {
        "id": "0a-2YT7O6ayC"
      },
      "source": [
        "Now that our data is ready, we can download the pretrained model and fine-tune it. For classification we use the `AutoModelForAudioClassification` class. Like with the feature extractor, the `from_pretrained` method will download and cache the model for us. As the label ids and the number of labels are dataset dependent, we pass `num_labels`, `label2id`, and `id2label` alongside the `model_checkpoint` here:"
      ]
    },
    {
      "cell_type": "code",
      "execution_count": 17,
      "metadata": {
        "colab": {
          "base_uri": "https://localhost:8080/"
        },
        "id": "X9DDujL0q1ac",
        "outputId": "3695659d-26a7-4b12-b597-a65136fab935"
      },
      "outputs": [
        {
          "output_type": "stream",
          "name": "stderr",
          "text": [
            "/usr/local/lib/python3.10/dist-packages/transformers/configuration_utils.py:380: UserWarning: Passing `gradient_checkpointing` to a config initialization is deprecated and will be removed in v5 Transformers. Using `model.gradient_checkpointing_enable()` instead, or if you are using the `Trainer` API, pass `gradient_checkpointing=True` in your `TrainingArguments`.\n",
            "  warnings.warn(\n",
            "Some weights of the model checkpoint at facebook/wav2vec2-base were not used when initializing Wav2Vec2ForSequenceClassification: ['quantizer.codevectors', 'project_hid.weight', 'quantizer.weight_proj.weight', 'project_q.weight', 'project_q.bias', 'project_hid.bias', 'quantizer.weight_proj.bias']\n",
            "- This IS expected if you are initializing Wav2Vec2ForSequenceClassification from the checkpoint of a model trained on another task or with another architecture (e.g. initializing a BertForSequenceClassification model from a BertForPreTraining model).\n",
            "- This IS NOT expected if you are initializing Wav2Vec2ForSequenceClassification from the checkpoint of a model that you expect to be exactly identical (initializing a BertForSequenceClassification model from a BertForSequenceClassification model).\n",
            "Some weights of Wav2Vec2ForSequenceClassification were not initialized from the model checkpoint at facebook/wav2vec2-base and are newly initialized: ['projector.weight', 'projector.bias', 'classifier.bias', 'classifier.weight']\n",
            "You should probably TRAIN this model on a down-stream task to be able to use it for predictions and inference.\n"
          ]
        }
      ],
      "source": [
        "from transformers import AutoModelForAudioClassification, TrainingArguments, Trainer\n",
        "\n",
        "num_labels = len(id2label)\n",
        "model = AutoModelForAudioClassification.from_pretrained(\n",
        "    model_checkpoint, \n",
        "    num_labels=num_labels,\n",
        "    label2id=label2id,\n",
        "    id2label=id2label,\n",
        ")\n"
      ]
    },
    {
      "cell_type": "markdown",
      "metadata": {
        "id": "U8EmET_f6458"
      },
      "source": [
        "The warning is telling us we are throwing away some weights (the `quantizer` and `project_q` layers) and randomly initializing some other (the `projector` and `classifier` layers). This is expected in this case, because we are removing the head used to pretrain the model on an unsupervised Vector Quantization objective and replacing it with a new head for which we don't have pretrained weights, so the library warns us we should fine-tune this model before using it for inference, which is exactly what we are going to do."
      ]
    },
    {
      "cell_type": "markdown",
      "metadata": {
        "id": "FEfyuq1U8hDT"
      },
      "source": [
        "To instantiate a `Trainer`, we will need to define the training configuration and the evaluation metric. The most important is the [`TrainingArguments`](https://huggingface.co/transformers/main_classes/trainer.html#transformers.TrainingArguments), which is a class that contains all the attributes to customize the training. It requires one folder name, which will be used to save the checkpoints of the model, and all other arguments are optional:"
      ]
    },
    {
      "cell_type": "code",
      "execution_count": 18,
      "metadata": {
        "id": "xc_MTm0Ks3DF",
        "outputId": "6c6c8b4b-9af5-43c3-f6ff-11bdc98ca5ec",
        "colab": {
          "base_uri": "https://localhost:8080/"
        }
      },
      "outputs": [
        {
          "output_type": "stream",
          "name": "stdout",
          "text": [
            "Looking in indexes: https://pypi.org/simple, https://us-python.pkg.dev/colab-wheels/public/simple/\n",
            "Requirement already satisfied: accelerate in /usr/local/lib/python3.10/dist-packages (0.19.0)\n",
            "Requirement already satisfied: numpy>=1.17 in /usr/local/lib/python3.10/dist-packages (from accelerate) (1.22.4)\n",
            "Requirement already satisfied: packaging>=20.0 in /usr/local/lib/python3.10/dist-packages (from accelerate) (23.1)\n",
            "Requirement already satisfied: psutil in /usr/local/lib/python3.10/dist-packages (from accelerate) (5.9.5)\n",
            "Requirement already satisfied: pyyaml in /usr/local/lib/python3.10/dist-packages (from accelerate) (6.0)\n",
            "Requirement already satisfied: torch>=1.6.0 in /usr/local/lib/python3.10/dist-packages (from accelerate) (2.0.1+cu118)\n",
            "Requirement already satisfied: filelock in /usr/local/lib/python3.10/dist-packages (from torch>=1.6.0->accelerate) (3.12.0)\n",
            "Requirement already satisfied: typing-extensions in /usr/local/lib/python3.10/dist-packages (from torch>=1.6.0->accelerate) (4.5.0)\n",
            "Requirement already satisfied: sympy in /usr/local/lib/python3.10/dist-packages (from torch>=1.6.0->accelerate) (1.11.1)\n",
            "Requirement already satisfied: networkx in /usr/local/lib/python3.10/dist-packages (from torch>=1.6.0->accelerate) (3.1)\n",
            "Requirement already satisfied: jinja2 in /usr/local/lib/python3.10/dist-packages (from torch>=1.6.0->accelerate) (3.1.2)\n",
            "Requirement already satisfied: triton==2.0.0 in /usr/local/lib/python3.10/dist-packages (from torch>=1.6.0->accelerate) (2.0.0)\n",
            "Requirement already satisfied: cmake in /usr/local/lib/python3.10/dist-packages (from triton==2.0.0->torch>=1.6.0->accelerate) (3.25.2)\n",
            "Requirement already satisfied: lit in /usr/local/lib/python3.10/dist-packages (from triton==2.0.0->torch>=1.6.0->accelerate) (16.0.5)\n",
            "Requirement already satisfied: MarkupSafe>=2.0 in /usr/local/lib/python3.10/dist-packages (from jinja2->torch>=1.6.0->accelerate) (2.1.2)\n",
            "Requirement already satisfied: mpmath>=0.19 in /usr/local/lib/python3.10/dist-packages (from sympy->torch>=1.6.0->accelerate) (1.3.0)\n"
          ]
        }
      ],
      "source": [
        "!pip install --upgrade accelerate\n",
        "model_name = model_checkpoint.split(\"/\")[-1]\n",
        "\n",
        "args = TrainingArguments(\n",
        "    f\"{model_name}-finetuned-ks\",\n",
        "    evaluation_strategy = \"epoch\",\n",
        "    save_strategy = \"epoch\",\n",
        "    learning_rate=3e-5,\n",
        "    per_device_train_batch_size=batch_size,\n",
        "    gradient_accumulation_steps=4,\n",
        "    per_device_eval_batch_size=batch_size,\n",
        "    num_train_epochs=3,\n",
        "    warmup_ratio=0.1,\n",
        "    logging_steps=10,\n",
        "    load_best_model_at_end=True,\n",
        "    metric_for_best_model=\"accuracy\",\n",
        "    push_to_hub=True,\n",
        ")"
      ]
    },
    {
      "cell_type": "markdown",
      "metadata": {
        "id": "xi6JYNYs8lJO"
      },
      "source": [
        "Here we set the evaluation to be done at the end of each epoch, tweak the learning rate, use the `batch_size` defined at the top of the notebook and customize the number of epochs for training, as well as the weight decay. Since the best model might not be the one at the end of training, we ask the `Trainer` to load the best model it saved (according to `metric_name`) at the end of training.\n",
        "\n",
        "The last argument `push_to_hub` allows the Trainer to push the model to the [Hub](https://huggingface.co/models) regularly during training. Remove it if you didn't follow the installation steps at the top of the notebook. If you want to save your model locally with a name that is different from the name of the repository, or if you want to push your model under an organization and not your name space, use the `hub_model_id` argument to set the repo name (it needs to be the full name, including your namespace: for instance `\"anton-l/wav2vec2-finetuned-ks\"` or `\"huggingface/anton-l/wav2vec2-finetuned-ks\"`)."
      ]
    },
    {
      "cell_type": "markdown",
      "metadata": {
        "id": "2VE_HSha9RZk"
      },
      "source": [
        "Next, we need to define a function for how to compute the metrics from the predictions, which will just use the `metric` we loaded earlier. The only preprocessing we have to do is to take the argmax of our predicted logits:"
      ]
    },
    {
      "cell_type": "code",
      "execution_count": 19,
      "metadata": {
        "id": "EVWfiBuv2uCS"
      },
      "outputs": [],
      "source": [
        "import numpy as np\n",
        "\n",
        "def compute_metrics(eval_pred):\n",
        "    \"\"\"Computes accuracy on a batch of predictions\"\"\"\n",
        "    predictions = np.argmax(eval_pred.predictions, axis=1)\n",
        "    return metric.compute(predictions=predictions, references=eval_pred.label_ids)"
      ]
    },
    {
      "cell_type": "markdown",
      "metadata": {
        "id": "yTF0dWw49fB9"
      },
      "source": [
        "Then we just need to pass all of this along with our datasets to the `Trainer`:"
      ]
    },
    {
      "cell_type": "code",
      "execution_count": 20,
      "metadata": {
        "id": "McVoaCPr3Cj-",
        "outputId": "4192ec3f-b1f1-4d66-e3c1-60ea2a86f19a",
        "colab": {
          "base_uri": "https://localhost:8080/"
        }
      },
      "outputs": [
        {
          "output_type": "stream",
          "name": "stderr",
          "text": [
            "Cloning https://huggingface.co/vutt/wav2vec2-base-finetuned-ks into local empty directory.\n",
            "WARNING:huggingface_hub.repository:Cloning https://huggingface.co/vutt/wav2vec2-base-finetuned-ks into local empty directory.\n"
          ]
        }
      ],
      "source": [
        "trainer = Trainer(\n",
        "    model,\n",
        "    args,\n",
        "    train_dataset=encoded_dataset[\"train\"],\n",
        "    eval_dataset=encoded_dataset[\"validation\"],\n",
        "    tokenizer=feature_extractor,\n",
        "    compute_metrics=compute_metrics\n",
        ")"
      ]
    },
    {
      "cell_type": "markdown",
      "metadata": {
        "id": "ltokP9mO9pjI"
      },
      "source": [
        "You might wonder why we pass along the `feature_extractor` as a tokenizer when we already preprocessed our data. This is because we will use it once last time to make all the samples we gather the same length by applying padding, which requires knowing the model's preferences regarding padding (to the left or right? with which token?). The `feature_extractor` has a pad method that will do all of this for us, and the `Trainer` will use it. You can customize this part by defining and passing your own `data_collator` which will receive the samples like the dictionaries seen above and will need to return a dictionary of tensors."
      ]
    },
    {
      "cell_type": "markdown",
      "metadata": {
        "id": "9j6VNsGP97LG"
      },
      "source": [
        "Now we can finetune our model by calling the `train` method:"
      ]
    },
    {
      "cell_type": "code",
      "execution_count": null,
      "metadata": {
        "colab": {
          "base_uri": "https://localhost:8080/",
          "height": 130
        },
        "id": "Pps61vF_4QaH",
        "outputId": "019e5f96-a9d0-443b-a52b-a60db4343ee9"
      },
      "outputs": [
        {
          "output_type": "stream",
          "name": "stderr",
          "text": [
            "/usr/local/lib/python3.10/dist-packages/transformers/optimization.py:407: FutureWarning: This implementation of AdamW is deprecated and will be removed in a future version. Use the PyTorch implementation torch.optim.AdamW instead, or set `no_deprecation_warning=True` to disable this warning\n",
            "  warnings.warn(\n"
          ]
        },
        {
          "output_type": "display_data",
          "data": {
            "text/plain": [
              "<IPython.core.display.HTML object>"
            ],
            "text/html": [
              "\n",
              "    <div>\n",
              "      \n",
              "      <progress value='69' max='1197' style='width:300px; height:20px; vertical-align: middle;'></progress>\n",
              "      [  69/1197 03:52 < 1:05:06, 0.29 it/s, Epoch 0.17/3]\n",
              "    </div>\n",
              "    <table border=\"1\" class=\"dataframe\">\n",
              "  <thead>\n",
              " <tr style=\"text-align: left;\">\n",
              "      <th>Epoch</th>\n",
              "      <th>Training Loss</th>\n",
              "      <th>Validation Loss</th>\n",
              "    </tr>\n",
              "  </thead>\n",
              "  <tbody>\n",
              "  </tbody>\n",
              "</table><p>"
            ]
          },
          "metadata": {}
        }
      ],
      "source": [
        "trainer.train()"
      ]
    },
    {
      "cell_type": "markdown",
      "metadata": {
        "id": "Vyb-58x_-A0e"
      },
      "source": [
        "We can check with the `evaluate` method that our `Trainer` did reload the best model properly (if it was not the last one):"
      ]
    },
    {
      "cell_type": "code",
      "execution_count": null,
      "metadata": {
        "colab": {
          "base_uri": "https://localhost:8080/",
          "height": 190
        },
        "id": "niniUAnb5IrR",
        "outputId": "306c07b3-e482-4c62-a147-93fb6e16e4da"
      },
      "outputs": [
        {
          "name": "stderr",
          "output_type": "stream",
          "text": [
            "***** Running Evaluation *****\n",
            "  Num examples = 6798\n",
            "  Batch size = 32\n"
          ]
        },
        {
          "data": {
            "text/html": [
              "\n",
              "    <div>\n",
              "      \n",
              "      <progress value='213' max='213' style='width:300px; height:20px; vertical-align: middle;'></progress>\n",
              "      [213/213 01:07]\n",
              "    </div>\n",
              "    "
            ],
            "text/plain": [
              "<IPython.core.display.HTML object>"
            ]
          },
          "metadata": {},
          "output_type": "display_data"
        },
        {
          "data": {
            "text/plain": [
              "{'epoch': 5.0,\n",
              " 'eval_accuracy': 0.9823477493380406,\n",
              " 'eval_loss': 0.09516120702028275,\n",
              " 'eval_runtime': 68.0133,\n",
              " 'eval_samples_per_second': 99.951,\n",
              " 'eval_steps_per_second': 3.132}"
            ]
          },
          "execution_count": 24,
          "metadata": {},
          "output_type": "execute_result"
        }
      ],
      "source": [
        "trainer.evaluate()"
      ]
    },
    {
      "cell_type": "markdown",
      "metadata": {
        "id": "ymwN-SIR-NDF"
      },
      "source": [
        "You can now upload the result of the training to the Hub, just execute this instruction:"
      ]
    },
    {
      "cell_type": "code",
      "execution_count": null,
      "metadata": {
        "id": "4aNMErFz-GzX"
      },
      "outputs": [],
      "source": [
        "trainer.push_to_hub()"
      ]
    },
    {
      "cell_type": "markdown",
      "metadata": {
        "id": "cZQnNUsI-Q4S"
      },
      "source": [
        "You can now share this model with all your friends, family, favorite pets: they can all load it with the identifier `\"your-username/the-name-you-picked\"` so for instance:\n",
        "\n",
        "```python\n",
        "from transformers import AutoModelForAudioClassification, AutoFeatureExtractor\n",
        "\n",
        "feature_extractor = AutoFeatureExtractor.from_pretrained(\"anton-l/my-awesome-model\")\n",
        "model = AutoModelForAudioClassification.from_pretrained(\"anton-l/my-awesome-model\")\n",
        "\n",
        "```"
      ]
    }
  ],
  "metadata": {
    "accelerator": "GPU",
    "colab": {
      "name": "Audio-Classification-on-Keyword-Spotting.ipynb",
      "provenance": [],
      "toc_visible": true,
      "gpuType": "T4",
      "include_colab_link": true
    },
    "kernelspec": {
      "display_name": "Python 3 (ipykernel)",
      "language": "python",
      "name": "python3"
    },
    "language_info": {
      "codemirror_mode": {
        "name": "ipython",
        "version": 3
      },
      "file_extension": ".py",
      "mimetype": "text/x-python",
      "name": "python",
      "nbconvert_exporter": "python",
      "pygments_lexer": "ipython3",
      "version": "3.10.8"
    },
    "widgets": {
      "application/vnd.jupyter.widget-state+json": {
        "efd2dfe9cd0449b68c991e004373861c": {
          "model_module": "@jupyter-widgets/controls",
          "model_name": "VBoxModel",
          "model_module_version": "1.5.0",
          "state": {
            "_dom_classes": [],
            "_model_module": "@jupyter-widgets/controls",
            "_model_module_version": "1.5.0",
            "_model_name": "VBoxModel",
            "_view_count": null,
            "_view_module": "@jupyter-widgets/controls",
            "_view_module_version": "1.5.0",
            "_view_name": "VBoxView",
            "box_style": "",
            "children": [
              "IPY_MODEL_e80f7217864341049d6802642107e6fd",
              "IPY_MODEL_e03c97c30fbc4158bfba604b3aec50c0",
              "IPY_MODEL_9bddc69637134d42975aa52b7032a00c",
              "IPY_MODEL_daf0c9113fe34f7c80a1ccaa17cf27b8"
            ],
            "layout": "IPY_MODEL_aa86eb9362de40a7aa5ad6adee582e81"
          }
        },
        "df0e99975a2949fb84056ca3c557323a": {
          "model_module": "@jupyter-widgets/controls",
          "model_name": "HTMLModel",
          "model_module_version": "1.5.0",
          "state": {
            "_dom_classes": [],
            "_model_module": "@jupyter-widgets/controls",
            "_model_module_version": "1.5.0",
            "_model_name": "HTMLModel",
            "_view_count": null,
            "_view_module": "@jupyter-widgets/controls",
            "_view_module_version": "1.5.0",
            "_view_name": "HTMLView",
            "description": "",
            "description_tooltip": null,
            "layout": "IPY_MODEL_3688668a38fe43f9a7884c60aa15a5dc",
            "placeholder": "​",
            "style": "IPY_MODEL_391612ff701b4f38ad33d56d309fd185",
            "value": "<center> <img\nsrc=https://huggingface.co/front/assets/huggingface_logo-noborder.svg\nalt='Hugging Face'> <br> Copy a token from <a\nhref=\"https://huggingface.co/settings/tokens\" target=\"_blank\">your Hugging Face\ntokens page</a> and paste it below. <br> Immediately click login after copying\nyour token or it might be stored in plain text in this notebook file. </center>"
          }
        },
        "83059048cded4ed3b28900ed8a7f707a": {
          "model_module": "@jupyter-widgets/controls",
          "model_name": "PasswordModel",
          "model_module_version": "1.5.0",
          "state": {
            "_dom_classes": [],
            "_model_module": "@jupyter-widgets/controls",
            "_model_module_version": "1.5.0",
            "_model_name": "PasswordModel",
            "_view_count": null,
            "_view_module": "@jupyter-widgets/controls",
            "_view_module_version": "1.5.0",
            "_view_name": "PasswordView",
            "continuous_update": true,
            "description": "Token:",
            "description_tooltip": null,
            "disabled": false,
            "layout": "IPY_MODEL_595997c6e7624d4abc9bbeee3cc54d53",
            "placeholder": "​",
            "style": "IPY_MODEL_c5ecc5cdadad420d859606ea90875c34",
            "value": ""
          }
        },
        "69a38ba62e424390ac4c8faac21c89ba": {
          "model_module": "@jupyter-widgets/controls",
          "model_name": "CheckboxModel",
          "model_module_version": "1.5.0",
          "state": {
            "_dom_classes": [],
            "_model_module": "@jupyter-widgets/controls",
            "_model_module_version": "1.5.0",
            "_model_name": "CheckboxModel",
            "_view_count": null,
            "_view_module": "@jupyter-widgets/controls",
            "_view_module_version": "1.5.0",
            "_view_name": "CheckboxView",
            "description": "Add token as git credential?",
            "description_tooltip": null,
            "disabled": false,
            "indent": true,
            "layout": "IPY_MODEL_a87631044b914fa494c510383b306065",
            "style": "IPY_MODEL_1d906fff816747e280398428d3da91d0",
            "value": true
          }
        },
        "43364606b69941a8b363c61fb76a79cc": {
          "model_module": "@jupyter-widgets/controls",
          "model_name": "ButtonModel",
          "model_module_version": "1.5.0",
          "state": {
            "_dom_classes": [],
            "_model_module": "@jupyter-widgets/controls",
            "_model_module_version": "1.5.0",
            "_model_name": "ButtonModel",
            "_view_count": null,
            "_view_module": "@jupyter-widgets/controls",
            "_view_module_version": "1.5.0",
            "_view_name": "ButtonView",
            "button_style": "",
            "description": "Login",
            "disabled": false,
            "icon": "",
            "layout": "IPY_MODEL_6b64473ffa8a48b6ae196684d3b07982",
            "style": "IPY_MODEL_fc5a15c7cb07423ca0ed6cc30cb6a0a3",
            "tooltip": ""
          }
        },
        "156691b23d7742be8113c15ada57c845": {
          "model_module": "@jupyter-widgets/controls",
          "model_name": "HTMLModel",
          "model_module_version": "1.5.0",
          "state": {
            "_dom_classes": [],
            "_model_module": "@jupyter-widgets/controls",
            "_model_module_version": "1.5.0",
            "_model_name": "HTMLModel",
            "_view_count": null,
            "_view_module": "@jupyter-widgets/controls",
            "_view_module_version": "1.5.0",
            "_view_name": "HTMLView",
            "description": "",
            "description_tooltip": null,
            "layout": "IPY_MODEL_0d67ab9429464579aa8bcd6d01764d4f",
            "placeholder": "​",
            "style": "IPY_MODEL_cb7bbb1acc484304868d13a1c6519f40",
            "value": "\n<b>Pro Tip:</b> If you don't already have one, you can create a dedicated\n'notebooks' token with 'write' access, that you can then easily reuse for all\nnotebooks. </center>"
          }
        },
        "aa86eb9362de40a7aa5ad6adee582e81": {
          "model_module": "@jupyter-widgets/base",
          "model_name": "LayoutModel",
          "model_module_version": "1.2.0",
          "state": {
            "_model_module": "@jupyter-widgets/base",
            "_model_module_version": "1.2.0",
            "_model_name": "LayoutModel",
            "_view_count": null,
            "_view_module": "@jupyter-widgets/base",
            "_view_module_version": "1.2.0",
            "_view_name": "LayoutView",
            "align_content": null,
            "align_items": "center",
            "align_self": null,
            "border": null,
            "bottom": null,
            "display": "flex",
            "flex": null,
            "flex_flow": "column",
            "grid_area": null,
            "grid_auto_columns": null,
            "grid_auto_flow": null,
            "grid_auto_rows": null,
            "grid_column": null,
            "grid_gap": null,
            "grid_row": null,
            "grid_template_areas": null,
            "grid_template_columns": null,
            "grid_template_rows": null,
            "height": null,
            "justify_content": null,
            "justify_items": null,
            "left": null,
            "margin": null,
            "max_height": null,
            "max_width": null,
            "min_height": null,
            "min_width": null,
            "object_fit": null,
            "object_position": null,
            "order": null,
            "overflow": null,
            "overflow_x": null,
            "overflow_y": null,
            "padding": null,
            "right": null,
            "top": null,
            "visibility": null,
            "width": "50%"
          }
        },
        "3688668a38fe43f9a7884c60aa15a5dc": {
          "model_module": "@jupyter-widgets/base",
          "model_name": "LayoutModel",
          "model_module_version": "1.2.0",
          "state": {
            "_model_module": "@jupyter-widgets/base",
            "_model_module_version": "1.2.0",
            "_model_name": "LayoutModel",
            "_view_count": null,
            "_view_module": "@jupyter-widgets/base",
            "_view_module_version": "1.2.0",
            "_view_name": "LayoutView",
            "align_content": null,
            "align_items": null,
            "align_self": null,
            "border": null,
            "bottom": null,
            "display": null,
            "flex": null,
            "flex_flow": null,
            "grid_area": null,
            "grid_auto_columns": null,
            "grid_auto_flow": null,
            "grid_auto_rows": null,
            "grid_column": null,
            "grid_gap": null,
            "grid_row": null,
            "grid_template_areas": null,
            "grid_template_columns": null,
            "grid_template_rows": null,
            "height": null,
            "justify_content": null,
            "justify_items": null,
            "left": null,
            "margin": null,
            "max_height": null,
            "max_width": null,
            "min_height": null,
            "min_width": null,
            "object_fit": null,
            "object_position": null,
            "order": null,
            "overflow": null,
            "overflow_x": null,
            "overflow_y": null,
            "padding": null,
            "right": null,
            "top": null,
            "visibility": null,
            "width": null
          }
        },
        "391612ff701b4f38ad33d56d309fd185": {
          "model_module": "@jupyter-widgets/controls",
          "model_name": "DescriptionStyleModel",
          "model_module_version": "1.5.0",
          "state": {
            "_model_module": "@jupyter-widgets/controls",
            "_model_module_version": "1.5.0",
            "_model_name": "DescriptionStyleModel",
            "_view_count": null,
            "_view_module": "@jupyter-widgets/base",
            "_view_module_version": "1.2.0",
            "_view_name": "StyleView",
            "description_width": ""
          }
        },
        "595997c6e7624d4abc9bbeee3cc54d53": {
          "model_module": "@jupyter-widgets/base",
          "model_name": "LayoutModel",
          "model_module_version": "1.2.0",
          "state": {
            "_model_module": "@jupyter-widgets/base",
            "_model_module_version": "1.2.0",
            "_model_name": "LayoutModel",
            "_view_count": null,
            "_view_module": "@jupyter-widgets/base",
            "_view_module_version": "1.2.0",
            "_view_name": "LayoutView",
            "align_content": null,
            "align_items": null,
            "align_self": null,
            "border": null,
            "bottom": null,
            "display": null,
            "flex": null,
            "flex_flow": null,
            "grid_area": null,
            "grid_auto_columns": null,
            "grid_auto_flow": null,
            "grid_auto_rows": null,
            "grid_column": null,
            "grid_gap": null,
            "grid_row": null,
            "grid_template_areas": null,
            "grid_template_columns": null,
            "grid_template_rows": null,
            "height": null,
            "justify_content": null,
            "justify_items": null,
            "left": null,
            "margin": null,
            "max_height": null,
            "max_width": null,
            "min_height": null,
            "min_width": null,
            "object_fit": null,
            "object_position": null,
            "order": null,
            "overflow": null,
            "overflow_x": null,
            "overflow_y": null,
            "padding": null,
            "right": null,
            "top": null,
            "visibility": null,
            "width": null
          }
        },
        "c5ecc5cdadad420d859606ea90875c34": {
          "model_module": "@jupyter-widgets/controls",
          "model_name": "DescriptionStyleModel",
          "model_module_version": "1.5.0",
          "state": {
            "_model_module": "@jupyter-widgets/controls",
            "_model_module_version": "1.5.0",
            "_model_name": "DescriptionStyleModel",
            "_view_count": null,
            "_view_module": "@jupyter-widgets/base",
            "_view_module_version": "1.2.0",
            "_view_name": "StyleView",
            "description_width": ""
          }
        },
        "a87631044b914fa494c510383b306065": {
          "model_module": "@jupyter-widgets/base",
          "model_name": "LayoutModel",
          "model_module_version": "1.2.0",
          "state": {
            "_model_module": "@jupyter-widgets/base",
            "_model_module_version": "1.2.0",
            "_model_name": "LayoutModel",
            "_view_count": null,
            "_view_module": "@jupyter-widgets/base",
            "_view_module_version": "1.2.0",
            "_view_name": "LayoutView",
            "align_content": null,
            "align_items": null,
            "align_self": null,
            "border": null,
            "bottom": null,
            "display": null,
            "flex": null,
            "flex_flow": null,
            "grid_area": null,
            "grid_auto_columns": null,
            "grid_auto_flow": null,
            "grid_auto_rows": null,
            "grid_column": null,
            "grid_gap": null,
            "grid_row": null,
            "grid_template_areas": null,
            "grid_template_columns": null,
            "grid_template_rows": null,
            "height": null,
            "justify_content": null,
            "justify_items": null,
            "left": null,
            "margin": null,
            "max_height": null,
            "max_width": null,
            "min_height": null,
            "min_width": null,
            "object_fit": null,
            "object_position": null,
            "order": null,
            "overflow": null,
            "overflow_x": null,
            "overflow_y": null,
            "padding": null,
            "right": null,
            "top": null,
            "visibility": null,
            "width": null
          }
        },
        "1d906fff816747e280398428d3da91d0": {
          "model_module": "@jupyter-widgets/controls",
          "model_name": "DescriptionStyleModel",
          "model_module_version": "1.5.0",
          "state": {
            "_model_module": "@jupyter-widgets/controls",
            "_model_module_version": "1.5.0",
            "_model_name": "DescriptionStyleModel",
            "_view_count": null,
            "_view_module": "@jupyter-widgets/base",
            "_view_module_version": "1.2.0",
            "_view_name": "StyleView",
            "description_width": ""
          }
        },
        "6b64473ffa8a48b6ae196684d3b07982": {
          "model_module": "@jupyter-widgets/base",
          "model_name": "LayoutModel",
          "model_module_version": "1.2.0",
          "state": {
            "_model_module": "@jupyter-widgets/base",
            "_model_module_version": "1.2.0",
            "_model_name": "LayoutModel",
            "_view_count": null,
            "_view_module": "@jupyter-widgets/base",
            "_view_module_version": "1.2.0",
            "_view_name": "LayoutView",
            "align_content": null,
            "align_items": null,
            "align_self": null,
            "border": null,
            "bottom": null,
            "display": null,
            "flex": null,
            "flex_flow": null,
            "grid_area": null,
            "grid_auto_columns": null,
            "grid_auto_flow": null,
            "grid_auto_rows": null,
            "grid_column": null,
            "grid_gap": null,
            "grid_row": null,
            "grid_template_areas": null,
            "grid_template_columns": null,
            "grid_template_rows": null,
            "height": null,
            "justify_content": null,
            "justify_items": null,
            "left": null,
            "margin": null,
            "max_height": null,
            "max_width": null,
            "min_height": null,
            "min_width": null,
            "object_fit": null,
            "object_position": null,
            "order": null,
            "overflow": null,
            "overflow_x": null,
            "overflow_y": null,
            "padding": null,
            "right": null,
            "top": null,
            "visibility": null,
            "width": null
          }
        },
        "fc5a15c7cb07423ca0ed6cc30cb6a0a3": {
          "model_module": "@jupyter-widgets/controls",
          "model_name": "ButtonStyleModel",
          "model_module_version": "1.5.0",
          "state": {
            "_model_module": "@jupyter-widgets/controls",
            "_model_module_version": "1.5.0",
            "_model_name": "ButtonStyleModel",
            "_view_count": null,
            "_view_module": "@jupyter-widgets/base",
            "_view_module_version": "1.2.0",
            "_view_name": "StyleView",
            "button_color": null,
            "font_weight": ""
          }
        },
        "0d67ab9429464579aa8bcd6d01764d4f": {
          "model_module": "@jupyter-widgets/base",
          "model_name": "LayoutModel",
          "model_module_version": "1.2.0",
          "state": {
            "_model_module": "@jupyter-widgets/base",
            "_model_module_version": "1.2.0",
            "_model_name": "LayoutModel",
            "_view_count": null,
            "_view_module": "@jupyter-widgets/base",
            "_view_module_version": "1.2.0",
            "_view_name": "LayoutView",
            "align_content": null,
            "align_items": null,
            "align_self": null,
            "border": null,
            "bottom": null,
            "display": null,
            "flex": null,
            "flex_flow": null,
            "grid_area": null,
            "grid_auto_columns": null,
            "grid_auto_flow": null,
            "grid_auto_rows": null,
            "grid_column": null,
            "grid_gap": null,
            "grid_row": null,
            "grid_template_areas": null,
            "grid_template_columns": null,
            "grid_template_rows": null,
            "height": null,
            "justify_content": null,
            "justify_items": null,
            "left": null,
            "margin": null,
            "max_height": null,
            "max_width": null,
            "min_height": null,
            "min_width": null,
            "object_fit": null,
            "object_position": null,
            "order": null,
            "overflow": null,
            "overflow_x": null,
            "overflow_y": null,
            "padding": null,
            "right": null,
            "top": null,
            "visibility": null,
            "width": null
          }
        },
        "cb7bbb1acc484304868d13a1c6519f40": {
          "model_module": "@jupyter-widgets/controls",
          "model_name": "DescriptionStyleModel",
          "model_module_version": "1.5.0",
          "state": {
            "_model_module": "@jupyter-widgets/controls",
            "_model_module_version": "1.5.0",
            "_model_name": "DescriptionStyleModel",
            "_view_count": null,
            "_view_module": "@jupyter-widgets/base",
            "_view_module_version": "1.2.0",
            "_view_name": "StyleView",
            "description_width": ""
          }
        },
        "1f2909a89b184c63ab2fcd5d60fee373": {
          "model_module": "@jupyter-widgets/controls",
          "model_name": "LabelModel",
          "model_module_version": "1.5.0",
          "state": {
            "_dom_classes": [],
            "_model_module": "@jupyter-widgets/controls",
            "_model_module_version": "1.5.0",
            "_model_name": "LabelModel",
            "_view_count": null,
            "_view_module": "@jupyter-widgets/controls",
            "_view_module_version": "1.5.0",
            "_view_name": "LabelView",
            "description": "",
            "description_tooltip": null,
            "layout": "IPY_MODEL_6b9272afe0544cb1a5d208f5b342b987",
            "placeholder": "​",
            "style": "IPY_MODEL_2456ae45341e40e08a6f328ed61b694b",
            "value": "Connecting..."
          }
        },
        "6b9272afe0544cb1a5d208f5b342b987": {
          "model_module": "@jupyter-widgets/base",
          "model_name": "LayoutModel",
          "model_module_version": "1.2.0",
          "state": {
            "_model_module": "@jupyter-widgets/base",
            "_model_module_version": "1.2.0",
            "_model_name": "LayoutModel",
            "_view_count": null,
            "_view_module": "@jupyter-widgets/base",
            "_view_module_version": "1.2.0",
            "_view_name": "LayoutView",
            "align_content": null,
            "align_items": null,
            "align_self": null,
            "border": null,
            "bottom": null,
            "display": null,
            "flex": null,
            "flex_flow": null,
            "grid_area": null,
            "grid_auto_columns": null,
            "grid_auto_flow": null,
            "grid_auto_rows": null,
            "grid_column": null,
            "grid_gap": null,
            "grid_row": null,
            "grid_template_areas": null,
            "grid_template_columns": null,
            "grid_template_rows": null,
            "height": null,
            "justify_content": null,
            "justify_items": null,
            "left": null,
            "margin": null,
            "max_height": null,
            "max_width": null,
            "min_height": null,
            "min_width": null,
            "object_fit": null,
            "object_position": null,
            "order": null,
            "overflow": null,
            "overflow_x": null,
            "overflow_y": null,
            "padding": null,
            "right": null,
            "top": null,
            "visibility": null,
            "width": null
          }
        },
        "2456ae45341e40e08a6f328ed61b694b": {
          "model_module": "@jupyter-widgets/controls",
          "model_name": "DescriptionStyleModel",
          "model_module_version": "1.5.0",
          "state": {
            "_model_module": "@jupyter-widgets/controls",
            "_model_module_version": "1.5.0",
            "_model_name": "DescriptionStyleModel",
            "_view_count": null,
            "_view_module": "@jupyter-widgets/base",
            "_view_module_version": "1.2.0",
            "_view_name": "StyleView",
            "description_width": ""
          }
        },
        "e80f7217864341049d6802642107e6fd": {
          "model_module": "@jupyter-widgets/controls",
          "model_name": "LabelModel",
          "model_module_version": "1.5.0",
          "state": {
            "_dom_classes": [],
            "_model_module": "@jupyter-widgets/controls",
            "_model_module_version": "1.5.0",
            "_model_name": "LabelModel",
            "_view_count": null,
            "_view_module": "@jupyter-widgets/controls",
            "_view_module_version": "1.5.0",
            "_view_name": "LabelView",
            "description": "",
            "description_tooltip": null,
            "layout": "IPY_MODEL_e1bba77d94ea4451aa3240f2abd03eec",
            "placeholder": "​",
            "style": "IPY_MODEL_b342149775d04a3fbf117076191bc688",
            "value": "Token is valid."
          }
        },
        "e03c97c30fbc4158bfba604b3aec50c0": {
          "model_module": "@jupyter-widgets/controls",
          "model_name": "LabelModel",
          "model_module_version": "1.5.0",
          "state": {
            "_dom_classes": [],
            "_model_module": "@jupyter-widgets/controls",
            "_model_module_version": "1.5.0",
            "_model_name": "LabelModel",
            "_view_count": null,
            "_view_module": "@jupyter-widgets/controls",
            "_view_module_version": "1.5.0",
            "_view_name": "LabelView",
            "description": "",
            "description_tooltip": null,
            "layout": "IPY_MODEL_af4ce922ae38479d8eb17206c0ca98b9",
            "placeholder": "​",
            "style": "IPY_MODEL_cbbdfff45ae34f198737eebf82043992",
            "value": "Your token has been saved in your configured git credential helpers (store)."
          }
        },
        "9bddc69637134d42975aa52b7032a00c": {
          "model_module": "@jupyter-widgets/controls",
          "model_name": "LabelModel",
          "model_module_version": "1.5.0",
          "state": {
            "_dom_classes": [],
            "_model_module": "@jupyter-widgets/controls",
            "_model_module_version": "1.5.0",
            "_model_name": "LabelModel",
            "_view_count": null,
            "_view_module": "@jupyter-widgets/controls",
            "_view_module_version": "1.5.0",
            "_view_name": "LabelView",
            "description": "",
            "description_tooltip": null,
            "layout": "IPY_MODEL_ce6bb216735f40778258ef65cd212fd4",
            "placeholder": "​",
            "style": "IPY_MODEL_1c44e2f6817c416c92bf81ad9a13484b",
            "value": "Your token has been saved to /root/.cache/huggingface/token"
          }
        },
        "daf0c9113fe34f7c80a1ccaa17cf27b8": {
          "model_module": "@jupyter-widgets/controls",
          "model_name": "LabelModel",
          "model_module_version": "1.5.0",
          "state": {
            "_dom_classes": [],
            "_model_module": "@jupyter-widgets/controls",
            "_model_module_version": "1.5.0",
            "_model_name": "LabelModel",
            "_view_count": null,
            "_view_module": "@jupyter-widgets/controls",
            "_view_module_version": "1.5.0",
            "_view_name": "LabelView",
            "description": "",
            "description_tooltip": null,
            "layout": "IPY_MODEL_85451a6a813b4bb99ed490915cec8d29",
            "placeholder": "​",
            "style": "IPY_MODEL_5e7dda86242b4ce884106f954e613c0b",
            "value": "Login successful"
          }
        },
        "e1bba77d94ea4451aa3240f2abd03eec": {
          "model_module": "@jupyter-widgets/base",
          "model_name": "LayoutModel",
          "model_module_version": "1.2.0",
          "state": {
            "_model_module": "@jupyter-widgets/base",
            "_model_module_version": "1.2.0",
            "_model_name": "LayoutModel",
            "_view_count": null,
            "_view_module": "@jupyter-widgets/base",
            "_view_module_version": "1.2.0",
            "_view_name": "LayoutView",
            "align_content": null,
            "align_items": null,
            "align_self": null,
            "border": null,
            "bottom": null,
            "display": null,
            "flex": null,
            "flex_flow": null,
            "grid_area": null,
            "grid_auto_columns": null,
            "grid_auto_flow": null,
            "grid_auto_rows": null,
            "grid_column": null,
            "grid_gap": null,
            "grid_row": null,
            "grid_template_areas": null,
            "grid_template_columns": null,
            "grid_template_rows": null,
            "height": null,
            "justify_content": null,
            "justify_items": null,
            "left": null,
            "margin": null,
            "max_height": null,
            "max_width": null,
            "min_height": null,
            "min_width": null,
            "object_fit": null,
            "object_position": null,
            "order": null,
            "overflow": null,
            "overflow_x": null,
            "overflow_y": null,
            "padding": null,
            "right": null,
            "top": null,
            "visibility": null,
            "width": null
          }
        },
        "b342149775d04a3fbf117076191bc688": {
          "model_module": "@jupyter-widgets/controls",
          "model_name": "DescriptionStyleModel",
          "model_module_version": "1.5.0",
          "state": {
            "_model_module": "@jupyter-widgets/controls",
            "_model_module_version": "1.5.0",
            "_model_name": "DescriptionStyleModel",
            "_view_count": null,
            "_view_module": "@jupyter-widgets/base",
            "_view_module_version": "1.2.0",
            "_view_name": "StyleView",
            "description_width": ""
          }
        },
        "af4ce922ae38479d8eb17206c0ca98b9": {
          "model_module": "@jupyter-widgets/base",
          "model_name": "LayoutModel",
          "model_module_version": "1.2.0",
          "state": {
            "_model_module": "@jupyter-widgets/base",
            "_model_module_version": "1.2.0",
            "_model_name": "LayoutModel",
            "_view_count": null,
            "_view_module": "@jupyter-widgets/base",
            "_view_module_version": "1.2.0",
            "_view_name": "LayoutView",
            "align_content": null,
            "align_items": null,
            "align_self": null,
            "border": null,
            "bottom": null,
            "display": null,
            "flex": null,
            "flex_flow": null,
            "grid_area": null,
            "grid_auto_columns": null,
            "grid_auto_flow": null,
            "grid_auto_rows": null,
            "grid_column": null,
            "grid_gap": null,
            "grid_row": null,
            "grid_template_areas": null,
            "grid_template_columns": null,
            "grid_template_rows": null,
            "height": null,
            "justify_content": null,
            "justify_items": null,
            "left": null,
            "margin": null,
            "max_height": null,
            "max_width": null,
            "min_height": null,
            "min_width": null,
            "object_fit": null,
            "object_position": null,
            "order": null,
            "overflow": null,
            "overflow_x": null,
            "overflow_y": null,
            "padding": null,
            "right": null,
            "top": null,
            "visibility": null,
            "width": null
          }
        },
        "cbbdfff45ae34f198737eebf82043992": {
          "model_module": "@jupyter-widgets/controls",
          "model_name": "DescriptionStyleModel",
          "model_module_version": "1.5.0",
          "state": {
            "_model_module": "@jupyter-widgets/controls",
            "_model_module_version": "1.5.0",
            "_model_name": "DescriptionStyleModel",
            "_view_count": null,
            "_view_module": "@jupyter-widgets/base",
            "_view_module_version": "1.2.0",
            "_view_name": "StyleView",
            "description_width": ""
          }
        },
        "ce6bb216735f40778258ef65cd212fd4": {
          "model_module": "@jupyter-widgets/base",
          "model_name": "LayoutModel",
          "model_module_version": "1.2.0",
          "state": {
            "_model_module": "@jupyter-widgets/base",
            "_model_module_version": "1.2.0",
            "_model_name": "LayoutModel",
            "_view_count": null,
            "_view_module": "@jupyter-widgets/base",
            "_view_module_version": "1.2.0",
            "_view_name": "LayoutView",
            "align_content": null,
            "align_items": null,
            "align_self": null,
            "border": null,
            "bottom": null,
            "display": null,
            "flex": null,
            "flex_flow": null,
            "grid_area": null,
            "grid_auto_columns": null,
            "grid_auto_flow": null,
            "grid_auto_rows": null,
            "grid_column": null,
            "grid_gap": null,
            "grid_row": null,
            "grid_template_areas": null,
            "grid_template_columns": null,
            "grid_template_rows": null,
            "height": null,
            "justify_content": null,
            "justify_items": null,
            "left": null,
            "margin": null,
            "max_height": null,
            "max_width": null,
            "min_height": null,
            "min_width": null,
            "object_fit": null,
            "object_position": null,
            "order": null,
            "overflow": null,
            "overflow_x": null,
            "overflow_y": null,
            "padding": null,
            "right": null,
            "top": null,
            "visibility": null,
            "width": null
          }
        },
        "1c44e2f6817c416c92bf81ad9a13484b": {
          "model_module": "@jupyter-widgets/controls",
          "model_name": "DescriptionStyleModel",
          "model_module_version": "1.5.0",
          "state": {
            "_model_module": "@jupyter-widgets/controls",
            "_model_module_version": "1.5.0",
            "_model_name": "DescriptionStyleModel",
            "_view_count": null,
            "_view_module": "@jupyter-widgets/base",
            "_view_module_version": "1.2.0",
            "_view_name": "StyleView",
            "description_width": ""
          }
        },
        "85451a6a813b4bb99ed490915cec8d29": {
          "model_module": "@jupyter-widgets/base",
          "model_name": "LayoutModel",
          "model_module_version": "1.2.0",
          "state": {
            "_model_module": "@jupyter-widgets/base",
            "_model_module_version": "1.2.0",
            "_model_name": "LayoutModel",
            "_view_count": null,
            "_view_module": "@jupyter-widgets/base",
            "_view_module_version": "1.2.0",
            "_view_name": "LayoutView",
            "align_content": null,
            "align_items": null,
            "align_self": null,
            "border": null,
            "bottom": null,
            "display": null,
            "flex": null,
            "flex_flow": null,
            "grid_area": null,
            "grid_auto_columns": null,
            "grid_auto_flow": null,
            "grid_auto_rows": null,
            "grid_column": null,
            "grid_gap": null,
            "grid_row": null,
            "grid_template_areas": null,
            "grid_template_columns": null,
            "grid_template_rows": null,
            "height": null,
            "justify_content": null,
            "justify_items": null,
            "left": null,
            "margin": null,
            "max_height": null,
            "max_width": null,
            "min_height": null,
            "min_width": null,
            "object_fit": null,
            "object_position": null,
            "order": null,
            "overflow": null,
            "overflow_x": null,
            "overflow_y": null,
            "padding": null,
            "right": null,
            "top": null,
            "visibility": null,
            "width": null
          }
        },
        "5e7dda86242b4ce884106f954e613c0b": {
          "model_module": "@jupyter-widgets/controls",
          "model_name": "DescriptionStyleModel",
          "model_module_version": "1.5.0",
          "state": {
            "_model_module": "@jupyter-widgets/controls",
            "_model_module_version": "1.5.0",
            "_model_name": "DescriptionStyleModel",
            "_view_count": null,
            "_view_module": "@jupyter-widgets/base",
            "_view_module_version": "1.2.0",
            "_view_name": "StyleView",
            "description_width": ""
          }
        },
        "49fdf5c722e142d3a549cdad561b43af": {
          "model_module": "@jupyter-widgets/controls",
          "model_name": "HBoxModel",
          "model_module_version": "1.5.0",
          "state": {
            "_dom_classes": [],
            "_model_module": "@jupyter-widgets/controls",
            "_model_module_version": "1.5.0",
            "_model_name": "HBoxModel",
            "_view_count": null,
            "_view_module": "@jupyter-widgets/controls",
            "_view_module_version": "1.5.0",
            "_view_name": "HBoxView",
            "box_style": "",
            "children": [
              "IPY_MODEL_483015588aee41229f195cd79d27c2f6",
              "IPY_MODEL_326bac96d71b4fbdaea1c95c20703021",
              "IPY_MODEL_33b7e23c429f4be8ba64d7009783857b"
            ],
            "layout": "IPY_MODEL_408cf3fd74494f6f8ecf2b3461ac7bc5"
          }
        },
        "483015588aee41229f195cd79d27c2f6": {
          "model_module": "@jupyter-widgets/controls",
          "model_name": "HTMLModel",
          "model_module_version": "1.5.0",
          "state": {
            "_dom_classes": [],
            "_model_module": "@jupyter-widgets/controls",
            "_model_module_version": "1.5.0",
            "_model_name": "HTMLModel",
            "_view_count": null,
            "_view_module": "@jupyter-widgets/controls",
            "_view_module_version": "1.5.0",
            "_view_name": "HTMLView",
            "description": "",
            "description_tooltip": null,
            "layout": "IPY_MODEL_2e95a30a6d784f8094873c84b7d7d134",
            "placeholder": "​",
            "style": "IPY_MODEL_55af4045e1b84e48a2647d79d748bc32",
            "value": "100%"
          }
        },
        "326bac96d71b4fbdaea1c95c20703021": {
          "model_module": "@jupyter-widgets/controls",
          "model_name": "FloatProgressModel",
          "model_module_version": "1.5.0",
          "state": {
            "_dom_classes": [],
            "_model_module": "@jupyter-widgets/controls",
            "_model_module_version": "1.5.0",
            "_model_name": "FloatProgressModel",
            "_view_count": null,
            "_view_module": "@jupyter-widgets/controls",
            "_view_module_version": "1.5.0",
            "_view_name": "ProgressView",
            "bar_style": "success",
            "description": "",
            "description_tooltip": null,
            "layout": "IPY_MODEL_112479331c914793a4f1894d31a81718",
            "max": 3,
            "min": 0,
            "orientation": "horizontal",
            "style": "IPY_MODEL_c8de0e08071f450e9969dad2fb506e7c",
            "value": 3
          }
        },
        "33b7e23c429f4be8ba64d7009783857b": {
          "model_module": "@jupyter-widgets/controls",
          "model_name": "HTMLModel",
          "model_module_version": "1.5.0",
          "state": {
            "_dom_classes": [],
            "_model_module": "@jupyter-widgets/controls",
            "_model_module_version": "1.5.0",
            "_model_name": "HTMLModel",
            "_view_count": null,
            "_view_module": "@jupyter-widgets/controls",
            "_view_module_version": "1.5.0",
            "_view_name": "HTMLView",
            "description": "",
            "description_tooltip": null,
            "layout": "IPY_MODEL_63f5c09cfa4f4d85a727085f7a99cef3",
            "placeholder": "​",
            "style": "IPY_MODEL_911aa07ff25d4db68ae045bdacf188e2",
            "value": " 3/3 [00:00&lt;00:00, 86.86it/s]"
          }
        },
        "408cf3fd74494f6f8ecf2b3461ac7bc5": {
          "model_module": "@jupyter-widgets/base",
          "model_name": "LayoutModel",
          "model_module_version": "1.2.0",
          "state": {
            "_model_module": "@jupyter-widgets/base",
            "_model_module_version": "1.2.0",
            "_model_name": "LayoutModel",
            "_view_count": null,
            "_view_module": "@jupyter-widgets/base",
            "_view_module_version": "1.2.0",
            "_view_name": "LayoutView",
            "align_content": null,
            "align_items": null,
            "align_self": null,
            "border": null,
            "bottom": null,
            "display": null,
            "flex": null,
            "flex_flow": null,
            "grid_area": null,
            "grid_auto_columns": null,
            "grid_auto_flow": null,
            "grid_auto_rows": null,
            "grid_column": null,
            "grid_gap": null,
            "grid_row": null,
            "grid_template_areas": null,
            "grid_template_columns": null,
            "grid_template_rows": null,
            "height": null,
            "justify_content": null,
            "justify_items": null,
            "left": null,
            "margin": null,
            "max_height": null,
            "max_width": null,
            "min_height": null,
            "min_width": null,
            "object_fit": null,
            "object_position": null,
            "order": null,
            "overflow": null,
            "overflow_x": null,
            "overflow_y": null,
            "padding": null,
            "right": null,
            "top": null,
            "visibility": null,
            "width": null
          }
        },
        "2e95a30a6d784f8094873c84b7d7d134": {
          "model_module": "@jupyter-widgets/base",
          "model_name": "LayoutModel",
          "model_module_version": "1.2.0",
          "state": {
            "_model_module": "@jupyter-widgets/base",
            "_model_module_version": "1.2.0",
            "_model_name": "LayoutModel",
            "_view_count": null,
            "_view_module": "@jupyter-widgets/base",
            "_view_module_version": "1.2.0",
            "_view_name": "LayoutView",
            "align_content": null,
            "align_items": null,
            "align_self": null,
            "border": null,
            "bottom": null,
            "display": null,
            "flex": null,
            "flex_flow": null,
            "grid_area": null,
            "grid_auto_columns": null,
            "grid_auto_flow": null,
            "grid_auto_rows": null,
            "grid_column": null,
            "grid_gap": null,
            "grid_row": null,
            "grid_template_areas": null,
            "grid_template_columns": null,
            "grid_template_rows": null,
            "height": null,
            "justify_content": null,
            "justify_items": null,
            "left": null,
            "margin": null,
            "max_height": null,
            "max_width": null,
            "min_height": null,
            "min_width": null,
            "object_fit": null,
            "object_position": null,
            "order": null,
            "overflow": null,
            "overflow_x": null,
            "overflow_y": null,
            "padding": null,
            "right": null,
            "top": null,
            "visibility": null,
            "width": null
          }
        },
        "55af4045e1b84e48a2647d79d748bc32": {
          "model_module": "@jupyter-widgets/controls",
          "model_name": "DescriptionStyleModel",
          "model_module_version": "1.5.0",
          "state": {
            "_model_module": "@jupyter-widgets/controls",
            "_model_module_version": "1.5.0",
            "_model_name": "DescriptionStyleModel",
            "_view_count": null,
            "_view_module": "@jupyter-widgets/base",
            "_view_module_version": "1.2.0",
            "_view_name": "StyleView",
            "description_width": ""
          }
        },
        "112479331c914793a4f1894d31a81718": {
          "model_module": "@jupyter-widgets/base",
          "model_name": "LayoutModel",
          "model_module_version": "1.2.0",
          "state": {
            "_model_module": "@jupyter-widgets/base",
            "_model_module_version": "1.2.0",
            "_model_name": "LayoutModel",
            "_view_count": null,
            "_view_module": "@jupyter-widgets/base",
            "_view_module_version": "1.2.0",
            "_view_name": "LayoutView",
            "align_content": null,
            "align_items": null,
            "align_self": null,
            "border": null,
            "bottom": null,
            "display": null,
            "flex": null,
            "flex_flow": null,
            "grid_area": null,
            "grid_auto_columns": null,
            "grid_auto_flow": null,
            "grid_auto_rows": null,
            "grid_column": null,
            "grid_gap": null,
            "grid_row": null,
            "grid_template_areas": null,
            "grid_template_columns": null,
            "grid_template_rows": null,
            "height": null,
            "justify_content": null,
            "justify_items": null,
            "left": null,
            "margin": null,
            "max_height": null,
            "max_width": null,
            "min_height": null,
            "min_width": null,
            "object_fit": null,
            "object_position": null,
            "order": null,
            "overflow": null,
            "overflow_x": null,
            "overflow_y": null,
            "padding": null,
            "right": null,
            "top": null,
            "visibility": null,
            "width": null
          }
        },
        "c8de0e08071f450e9969dad2fb506e7c": {
          "model_module": "@jupyter-widgets/controls",
          "model_name": "ProgressStyleModel",
          "model_module_version": "1.5.0",
          "state": {
            "_model_module": "@jupyter-widgets/controls",
            "_model_module_version": "1.5.0",
            "_model_name": "ProgressStyleModel",
            "_view_count": null,
            "_view_module": "@jupyter-widgets/base",
            "_view_module_version": "1.2.0",
            "_view_name": "StyleView",
            "bar_color": null,
            "description_width": ""
          }
        },
        "63f5c09cfa4f4d85a727085f7a99cef3": {
          "model_module": "@jupyter-widgets/base",
          "model_name": "LayoutModel",
          "model_module_version": "1.2.0",
          "state": {
            "_model_module": "@jupyter-widgets/base",
            "_model_module_version": "1.2.0",
            "_model_name": "LayoutModel",
            "_view_count": null,
            "_view_module": "@jupyter-widgets/base",
            "_view_module_version": "1.2.0",
            "_view_name": "LayoutView",
            "align_content": null,
            "align_items": null,
            "align_self": null,
            "border": null,
            "bottom": null,
            "display": null,
            "flex": null,
            "flex_flow": null,
            "grid_area": null,
            "grid_auto_columns": null,
            "grid_auto_flow": null,
            "grid_auto_rows": null,
            "grid_column": null,
            "grid_gap": null,
            "grid_row": null,
            "grid_template_areas": null,
            "grid_template_columns": null,
            "grid_template_rows": null,
            "height": null,
            "justify_content": null,
            "justify_items": null,
            "left": null,
            "margin": null,
            "max_height": null,
            "max_width": null,
            "min_height": null,
            "min_width": null,
            "object_fit": null,
            "object_position": null,
            "order": null,
            "overflow": null,
            "overflow_x": null,
            "overflow_y": null,
            "padding": null,
            "right": null,
            "top": null,
            "visibility": null,
            "width": null
          }
        },
        "911aa07ff25d4db68ae045bdacf188e2": {
          "model_module": "@jupyter-widgets/controls",
          "model_name": "DescriptionStyleModel",
          "model_module_version": "1.5.0",
          "state": {
            "_model_module": "@jupyter-widgets/controls",
            "_model_module_version": "1.5.0",
            "_model_name": "DescriptionStyleModel",
            "_view_count": null,
            "_view_module": "@jupyter-widgets/base",
            "_view_module_version": "1.2.0",
            "_view_name": "StyleView",
            "description_width": ""
          }
        }
      }
    },
    "gpuClass": "standard"
  },
  "nbformat": 4,
  "nbformat_minor": 0
}