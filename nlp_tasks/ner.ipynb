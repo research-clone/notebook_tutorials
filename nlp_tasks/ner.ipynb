{
  "nbformat": 4,
  "nbformat_minor": 0,
  "metadata": {
    "colab": {
      "provenance": [],
      "gpuType": "T4",
      "include_colab_link": true
    },
    "kernelspec": {
      "name": "python3",
      "display_name": "Python 3"
    },
    "language_info": {
      "name": "python"
    },
    "accelerator": "GPU"
  },
  "cells": [
    {
      "cell_type": "markdown",
      "metadata": {
        "id": "view-in-github",
        "colab_type": "text"
      },
      "source": [
        "<a href=\"https://colab.research.google.com/github/vutt-ai-models/transformers_tutorials/blob/main/ner.ipynb\" target=\"_parent\"><img src=\"https://colab.research.google.com/assets/colab-badge.svg\" alt=\"Open In Colab\"/></a>"
      ]
    },
    {
      "cell_type": "code",
      "source": [
        "!pip install transformers\n",
        "!pip install flair"
      ],
      "metadata": {
        "id": "H04hNQZr5Q0I",
        "colab": {
          "base_uri": "https://localhost:8080/"
        },
        "outputId": "cf53b3a2-3775-4cae-996e-8b4ed3d51381"
      },
      "execution_count": null,
      "outputs": [
        {
          "output_type": "stream",
          "name": "stdout",
          "text": [
            "Looking in indexes: https://pypi.org/simple, https://us-python.pkg.dev/colab-wheels/public/simple/\n",
            "Requirement already satisfied: transformers in /usr/local/lib/python3.10/dist-packages (4.30.2)\n",
            "Requirement already satisfied: filelock in /usr/local/lib/python3.10/dist-packages (from transformers) (3.12.0)\n",
            "Requirement already satisfied: huggingface-hub<1.0,>=0.14.1 in /usr/local/lib/python3.10/dist-packages (from transformers) (0.15.1)\n",
            "Requirement already satisfied: numpy>=1.17 in /usr/local/lib/python3.10/dist-packages (from transformers) (1.22.4)\n",
            "Requirement already satisfied: packaging>=20.0 in /usr/local/lib/python3.10/dist-packages (from transformers) (23.1)\n",
            "Requirement already satisfied: pyyaml>=5.1 in /usr/local/lib/python3.10/dist-packages (from transformers) (6.0)\n",
            "Requirement already satisfied: regex!=2019.12.17 in /usr/local/lib/python3.10/dist-packages (from transformers) (2022.10.31)\n",
            "Requirement already satisfied: requests in /usr/local/lib/python3.10/dist-packages (from transformers) (2.27.1)\n",
            "Requirement already satisfied: tokenizers!=0.11.3,<0.14,>=0.11.1 in /usr/local/lib/python3.10/dist-packages (from transformers) (0.13.3)\n",
            "Requirement already satisfied: safetensors>=0.3.1 in /usr/local/lib/python3.10/dist-packages (from transformers) (0.3.1)\n",
            "Requirement already satisfied: tqdm>=4.27 in /usr/local/lib/python3.10/dist-packages (from transformers) (4.65.0)\n",
            "Requirement already satisfied: fsspec in /usr/local/lib/python3.10/dist-packages (from huggingface-hub<1.0,>=0.14.1->transformers) (2023.4.0)\n",
            "Requirement already satisfied: typing-extensions>=3.7.4.3 in /usr/local/lib/python3.10/dist-packages (from huggingface-hub<1.0,>=0.14.1->transformers) (4.5.0)\n",
            "Requirement already satisfied: urllib3<1.27,>=1.21.1 in /usr/local/lib/python3.10/dist-packages (from requests->transformers) (1.26.15)\n",
            "Requirement already satisfied: certifi>=2017.4.17 in /usr/local/lib/python3.10/dist-packages (from requests->transformers) (2022.12.7)\n",
            "Requirement already satisfied: charset-normalizer~=2.0.0 in /usr/local/lib/python3.10/dist-packages (from requests->transformers) (2.0.12)\n",
            "Requirement already satisfied: idna<4,>=2.5 in /usr/local/lib/python3.10/dist-packages (from requests->transformers) (3.4)\n",
            "Looking in indexes: https://pypi.org/simple, https://us-python.pkg.dev/colab-wheels/public/simple/\n",
            "Requirement already satisfied: flair in /usr/local/lib/python3.10/dist-packages (0.12.2)\n",
            "Requirement already satisfied: python-dateutil>=2.6.1 in /usr/local/lib/python3.10/dist-packages (from flair) (2.8.2)\n",
            "Requirement already satisfied: torch!=1.8,>=1.5.0 in /usr/local/lib/python3.10/dist-packages (from flair) (2.0.1+cu118)\n",
            "Requirement already satisfied: gensim>=3.8.0 in /usr/local/lib/python3.10/dist-packages (from flair) (4.3.1)\n",
            "Requirement already satisfied: tqdm>=4.26.0 in /usr/local/lib/python3.10/dist-packages (from flair) (4.65.0)\n",
            "Requirement already satisfied: segtok>=1.5.7 in /usr/local/lib/python3.10/dist-packages (from flair) (1.5.11)\n",
            "Requirement already satisfied: matplotlib>=2.2.3 in /usr/local/lib/python3.10/dist-packages (from flair) (3.7.1)\n",
            "Requirement already satisfied: mpld3==0.3 in /usr/local/lib/python3.10/dist-packages (from flair) (0.3)\n",
            "Requirement already satisfied: scikit-learn>=0.21.3 in /usr/local/lib/python3.10/dist-packages (from flair) (1.2.2)\n",
            "Requirement already satisfied: sqlitedict>=1.6.0 in /usr/local/lib/python3.10/dist-packages (from flair) (2.1.0)\n",
            "Requirement already satisfied: deprecated>=1.2.4 in /usr/local/lib/python3.10/dist-packages (from flair) (1.2.14)\n",
            "Requirement already satisfied: hyperopt>=0.2.7 in /usr/local/lib/python3.10/dist-packages (from flair) (0.2.7)\n",
            "Requirement already satisfied: boto3 in /usr/local/lib/python3.10/dist-packages (from flair) (1.26.155)\n",
            "Requirement already satisfied: transformers[sentencepiece]>=4.18.0 in /usr/local/lib/python3.10/dist-packages (from flair) (4.30.2)\n",
            "Requirement already satisfied: bpemb>=0.3.2 in /usr/local/lib/python3.10/dist-packages (from flair) (0.3.4)\n",
            "Requirement already satisfied: regex in /usr/local/lib/python3.10/dist-packages (from flair) (2022.10.31)\n",
            "Requirement already satisfied: tabulate in /usr/local/lib/python3.10/dist-packages (from flair) (0.8.10)\n",
            "Requirement already satisfied: langdetect in /usr/local/lib/python3.10/dist-packages (from flair) (1.0.9)\n",
            "Requirement already satisfied: lxml in /usr/local/lib/python3.10/dist-packages (from flair) (4.9.2)\n",
            "Requirement already satisfied: ftfy in /usr/local/lib/python3.10/dist-packages (from flair) (6.1.1)\n",
            "Requirement already satisfied: janome in /usr/local/lib/python3.10/dist-packages (from flair) (0.4.2)\n",
            "Requirement already satisfied: gdown==4.4.0 in /usr/local/lib/python3.10/dist-packages (from flair) (4.4.0)\n",
            "Requirement already satisfied: huggingface-hub>=0.10.0 in /usr/local/lib/python3.10/dist-packages (from flair) (0.15.1)\n",
            "Requirement already satisfied: conllu>=4.0 in /usr/local/lib/python3.10/dist-packages (from flair) (4.5.2)\n",
            "Requirement already satisfied: more-itertools in /usr/local/lib/python3.10/dist-packages (from flair) (9.1.0)\n",
            "Requirement already satisfied: wikipedia-api in /usr/local/lib/python3.10/dist-packages (from flair) (0.5.8)\n",
            "Requirement already satisfied: pptree in /usr/local/lib/python3.10/dist-packages (from flair) (3.1)\n",
            "Requirement already satisfied: pytorch-revgrad in /usr/local/lib/python3.10/dist-packages (from flair) (0.2.0)\n",
            "Requirement already satisfied: transformer-smaller-training-vocab>=0.2.1 in /usr/local/lib/python3.10/dist-packages (from flair) (0.2.4)\n",
            "Requirement already satisfied: filelock in /usr/local/lib/python3.10/dist-packages (from gdown==4.4.0->flair) (3.12.0)\n",
            "Requirement already satisfied: requests[socks] in /usr/local/lib/python3.10/dist-packages (from gdown==4.4.0->flair) (2.27.1)\n",
            "Requirement already satisfied: six in /usr/local/lib/python3.10/dist-packages (from gdown==4.4.0->flair) (1.16.0)\n",
            "Requirement already satisfied: beautifulsoup4 in /usr/local/lib/python3.10/dist-packages (from gdown==4.4.0->flair) (4.11.2)\n",
            "Requirement already satisfied: numpy in /usr/local/lib/python3.10/dist-packages (from bpemb>=0.3.2->flair) (1.22.4)\n",
            "Requirement already satisfied: sentencepiece in /usr/local/lib/python3.10/dist-packages (from bpemb>=0.3.2->flair) (0.1.99)\n",
            "Requirement already satisfied: wrapt<2,>=1.10 in /usr/local/lib/python3.10/dist-packages (from deprecated>=1.2.4->flair) (1.14.1)\n",
            "Requirement already satisfied: scipy>=1.7.0 in /usr/local/lib/python3.10/dist-packages (from gensim>=3.8.0->flair) (1.10.1)\n",
            "Requirement already satisfied: smart-open>=1.8.1 in /usr/local/lib/python3.10/dist-packages (from gensim>=3.8.0->flair) (6.3.0)\n",
            "Requirement already satisfied: fsspec in /usr/local/lib/python3.10/dist-packages (from huggingface-hub>=0.10.0->flair) (2023.4.0)\n",
            "Requirement already satisfied: pyyaml>=5.1 in /usr/local/lib/python3.10/dist-packages (from huggingface-hub>=0.10.0->flair) (6.0)\n",
            "Requirement already satisfied: typing-extensions>=3.7.4.3 in /usr/local/lib/python3.10/dist-packages (from huggingface-hub>=0.10.0->flair) (4.5.0)\n",
            "Requirement already satisfied: packaging>=20.9 in /usr/local/lib/python3.10/dist-packages (from huggingface-hub>=0.10.0->flair) (23.1)\n",
            "Requirement already satisfied: networkx>=2.2 in /usr/local/lib/python3.10/dist-packages (from hyperopt>=0.2.7->flair) (3.1)\n",
            "Requirement already satisfied: future in /usr/local/lib/python3.10/dist-packages (from hyperopt>=0.2.7->flair) (0.18.3)\n",
            "Requirement already satisfied: cloudpickle in /usr/local/lib/python3.10/dist-packages (from hyperopt>=0.2.7->flair) (2.2.1)\n",
            "Requirement already satisfied: py4j in /usr/local/lib/python3.10/dist-packages (from hyperopt>=0.2.7->flair) (0.10.9.7)\n",
            "Requirement already satisfied: contourpy>=1.0.1 in /usr/local/lib/python3.10/dist-packages (from matplotlib>=2.2.3->flair) (1.0.7)\n",
            "Requirement already satisfied: cycler>=0.10 in /usr/local/lib/python3.10/dist-packages (from matplotlib>=2.2.3->flair) (0.11.0)\n",
            "Requirement already satisfied: fonttools>=4.22.0 in /usr/local/lib/python3.10/dist-packages (from matplotlib>=2.2.3->flair) (4.39.3)\n",
            "Requirement already satisfied: kiwisolver>=1.0.1 in /usr/local/lib/python3.10/dist-packages (from matplotlib>=2.2.3->flair) (1.4.4)\n",
            "Requirement already satisfied: pillow>=6.2.0 in /usr/local/lib/python3.10/dist-packages (from matplotlib>=2.2.3->flair) (8.4.0)\n",
            "Requirement already satisfied: pyparsing>=2.3.1 in /usr/local/lib/python3.10/dist-packages (from matplotlib>=2.2.3->flair) (3.0.9)\n",
            "Requirement already satisfied: joblib>=1.1.1 in /usr/local/lib/python3.10/dist-packages (from scikit-learn>=0.21.3->flair) (1.2.0)\n",
            "Requirement already satisfied: threadpoolctl>=2.0.0 in /usr/local/lib/python3.10/dist-packages (from scikit-learn>=0.21.3->flair) (3.1.0)\n",
            "Requirement already satisfied: sympy in /usr/local/lib/python3.10/dist-packages (from torch!=1.8,>=1.5.0->flair) (1.11.1)\n",
            "Requirement already satisfied: jinja2 in /usr/local/lib/python3.10/dist-packages (from torch!=1.8,>=1.5.0->flair) (3.1.2)\n",
            "Requirement already satisfied: triton==2.0.0 in /usr/local/lib/python3.10/dist-packages (from torch!=1.8,>=1.5.0->flair) (2.0.0)\n",
            "Requirement already satisfied: cmake in /usr/local/lib/python3.10/dist-packages (from triton==2.0.0->torch!=1.8,>=1.5.0->flair) (3.25.2)\n",
            "Requirement already satisfied: lit in /usr/local/lib/python3.10/dist-packages (from triton==2.0.0->torch!=1.8,>=1.5.0->flair) (16.0.5)\n",
            "Requirement already satisfied: datasets<3.0.0,>=2.0.0 in /usr/local/lib/python3.10/dist-packages (from transformer-smaller-training-vocab>=0.2.1->flair) (2.13.0)\n",
            "Requirement already satisfied: tokenizers!=0.11.3,<0.14,>=0.11.1 in /usr/local/lib/python3.10/dist-packages (from transformers[sentencepiece]>=4.18.0->flair) (0.13.3)\n",
            "Requirement already satisfied: safetensors>=0.3.1 in /usr/local/lib/python3.10/dist-packages (from transformers[sentencepiece]>=4.18.0->flair) (0.3.1)\n",
            "Requirement already satisfied: protobuf<=3.20.3 in /usr/local/lib/python3.10/dist-packages (from transformers[sentencepiece]>=4.18.0->flair) (3.20.3)\n",
            "Requirement already satisfied: botocore<1.30.0,>=1.29.155 in /usr/local/lib/python3.10/dist-packages (from boto3->flair) (1.29.155)\n",
            "Requirement already satisfied: jmespath<2.0.0,>=0.7.1 in /usr/local/lib/python3.10/dist-packages (from boto3->flair) (1.0.1)\n",
            "Requirement already satisfied: s3transfer<0.7.0,>=0.6.0 in /usr/local/lib/python3.10/dist-packages (from boto3->flair) (0.6.1)\n",
            "Requirement already satisfied: wcwidth>=0.2.5 in /usr/local/lib/python3.10/dist-packages (from ftfy->flair) (0.2.6)\n",
            "Requirement already satisfied: urllib3<1.27,>=1.25.4 in /usr/local/lib/python3.10/dist-packages (from botocore<1.30.0,>=1.29.155->boto3->flair) (1.26.15)\n",
            "Requirement already satisfied: pyarrow>=8.0.0 in /usr/local/lib/python3.10/dist-packages (from datasets<3.0.0,>=2.0.0->transformer-smaller-training-vocab>=0.2.1->flair) (9.0.0)\n",
            "Requirement already satisfied: dill<0.3.7,>=0.3.0 in /usr/local/lib/python3.10/dist-packages (from datasets<3.0.0,>=2.0.0->transformer-smaller-training-vocab>=0.2.1->flair) (0.3.6)\n",
            "Requirement already satisfied: pandas in /usr/local/lib/python3.10/dist-packages (from datasets<3.0.0,>=2.0.0->transformer-smaller-training-vocab>=0.2.1->flair) (1.5.3)\n",
            "Requirement already satisfied: xxhash in /usr/local/lib/python3.10/dist-packages (from datasets<3.0.0,>=2.0.0->transformer-smaller-training-vocab>=0.2.1->flair) (3.2.0)\n",
            "Requirement already satisfied: multiprocess in /usr/local/lib/python3.10/dist-packages (from datasets<3.0.0,>=2.0.0->transformer-smaller-training-vocab>=0.2.1->flair) (0.70.14)\n",
            "Requirement already satisfied: aiohttp in /usr/local/lib/python3.10/dist-packages (from datasets<3.0.0,>=2.0.0->transformer-smaller-training-vocab>=0.2.1->flair) (3.8.4)\n",
            "Requirement already satisfied: certifi>=2017.4.17 in /usr/local/lib/python3.10/dist-packages (from requests[socks]->gdown==4.4.0->flair) (2022.12.7)\n",
            "Requirement already satisfied: charset-normalizer~=2.0.0 in /usr/local/lib/python3.10/dist-packages (from requests[socks]->gdown==4.4.0->flair) (2.0.12)\n",
            "Requirement already satisfied: idna<4,>=2.5 in /usr/local/lib/python3.10/dist-packages (from requests[socks]->gdown==4.4.0->flair) (3.4)\n",
            "Requirement already satisfied: accelerate>=0.20.2 in /usr/local/lib/python3.10/dist-packages (from transformers[sentencepiece]>=4.18.0->flair) (0.20.3)\n",
            "Requirement already satisfied: soupsieve>1.2 in /usr/local/lib/python3.10/dist-packages (from beautifulsoup4->gdown==4.4.0->flair) (2.4.1)\n",
            "Requirement already satisfied: MarkupSafe>=2.0 in /usr/local/lib/python3.10/dist-packages (from jinja2->torch!=1.8,>=1.5.0->flair) (2.1.2)\n",
            "Requirement already satisfied: PySocks!=1.5.7,>=1.5.6 in /usr/local/lib/python3.10/dist-packages (from requests[socks]->gdown==4.4.0->flair) (1.7.1)\n",
            "Requirement already satisfied: mpmath>=0.19 in /usr/local/lib/python3.10/dist-packages (from sympy->torch!=1.8,>=1.5.0->flair) (1.3.0)\n",
            "Requirement already satisfied: psutil in /usr/local/lib/python3.10/dist-packages (from accelerate>=0.20.2->transformers[sentencepiece]>=4.18.0->flair) (5.9.5)\n",
            "Requirement already satisfied: attrs>=17.3.0 in /usr/local/lib/python3.10/dist-packages (from aiohttp->datasets<3.0.0,>=2.0.0->transformer-smaller-training-vocab>=0.2.1->flair) (23.1.0)\n",
            "Requirement already satisfied: multidict<7.0,>=4.5 in /usr/local/lib/python3.10/dist-packages (from aiohttp->datasets<3.0.0,>=2.0.0->transformer-smaller-training-vocab>=0.2.1->flair) (6.0.4)\n",
            "Requirement already satisfied: async-timeout<5.0,>=4.0.0a3 in /usr/local/lib/python3.10/dist-packages (from aiohttp->datasets<3.0.0,>=2.0.0->transformer-smaller-training-vocab>=0.2.1->flair) (4.0.2)\n",
            "Requirement already satisfied: yarl<2.0,>=1.0 in /usr/local/lib/python3.10/dist-packages (from aiohttp->datasets<3.0.0,>=2.0.0->transformer-smaller-training-vocab>=0.2.1->flair) (1.9.2)\n",
            "Requirement already satisfied: frozenlist>=1.1.1 in /usr/local/lib/python3.10/dist-packages (from aiohttp->datasets<3.0.0,>=2.0.0->transformer-smaller-training-vocab>=0.2.1->flair) (1.3.3)\n",
            "Requirement already satisfied: aiosignal>=1.1.2 in /usr/local/lib/python3.10/dist-packages (from aiohttp->datasets<3.0.0,>=2.0.0->transformer-smaller-training-vocab>=0.2.1->flair) (1.3.1)\n",
            "Requirement already satisfied: pytz>=2020.1 in /usr/local/lib/python3.10/dist-packages (from pandas->datasets<3.0.0,>=2.0.0->transformer-smaller-training-vocab>=0.2.1->flair) (2022.7.1)\n"
          ]
        }
      ]
    },
    {
      "cell_type": "code",
      "execution_count": null,
      "metadata": {
        "id": "jKvemLa25Hd7"
      },
      "outputs": [],
      "source": [
        "from flair.models import SequenceTagger\n",
        "from flair.embeddings import TransformerWordEmbeddings\n",
        "from flair.data import Corpus\n",
        "from flair.datasets import ColumnCorpus"
      ]
    },
    {
      "cell_type": "code",
      "source": [
        "# define columns\n",
        "columns = {0 : 'text', 1 : 'ner'}\n",
        "# directory where the data resides\n",
        "data_folder = '/content/drive/MyDrive/Omer_NER'\n",
        "# initializing the corpus\n",
        "corpus = ColumnCorpus(data_folder, columns,\n",
        "                      train_file = 'train_slots.txt',\n",
        "                      test_file = 'test_slots.txt',\n",
        "                      dev_file = 'valid_slots.txt')"
      ],
      "metadata": {
        "colab": {
          "base_uri": "https://localhost:8080/"
        },
        "id": "YnhFiQSQVQuw",
        "outputId": "da62ba3a-0e96-4526-b214-f4b479829bf2"
      },
      "execution_count": null,
      "outputs": [
        {
          "output_type": "stream",
          "name": "stdout",
          "text": [
            "2023-06-18 05:21:09,252 Reading data from /content/drive/MyDrive/Omer_NER\n",
            "2023-06-18 05:21:09,257 Train: /content/drive/MyDrive/Omer_NER/train_slots.txt\n",
            "2023-06-18 05:21:09,265 Dev: /content/drive/MyDrive/Omer_NER/valid_slots.txt\n",
            "2023-06-18 05:21:09,267 Test: /content/drive/MyDrive/Omer_NER/test_slots.txt\n"
          ]
        }
      ]
    },
    {
      "cell_type": "code",
      "source": [
        "# tag to predict\n",
        "tag_type = 'ner'\n",
        "# make tag dictionary from the corpus\n",
        "tag_dictionary = corpus.make_label_dictionary(label_type=tag_type)\n",
        "alist = [line.rstrip() for line in open('/content/drive/MyDrive/Omer_NER/slots.txt')]\n",
        "for i in alist:\n",
        "    tag_dictionary.add_item(i)"
      ],
      "metadata": {
        "colab": {
          "base_uri": "https://localhost:8080/"
        },
        "id": "bTsdi138VouJ",
        "outputId": "1483ac1e-4dfc-4864-c72e-33656fb519eb"
      },
      "execution_count": null,
      "outputs": [
        {
          "output_type": "stream",
          "name": "stdout",
          "text": [
            "2023-06-18 05:21:11,103 Computing label dictionary. Progress:\n"
          ]
        },
        {
          "output_type": "stream",
          "name": "stderr",
          "text": [
            "4042it [00:00, 34930.21it/s]"
          ]
        },
        {
          "output_type": "stream",
          "name": "stdout",
          "text": [
            "2023-06-18 05:21:11,229 Dictionary created for label 'ner' with 108 values: NUMBER (seen 2097 times), MY (seen 611 times), DEVICE (seen 304 times), TOP_UP (seen 161 times), CHANGE (seen 158 times), BILL (seen 156 times), INTERNET (seen 155 times), PAYMENT (seen 140 times), BUNDLE (seen 137 times), SIM (seen 136 times), DATE (seen 126 times), CARD (seen 115 times), UPGRADING (seen 103 times), CALL (seen 99 times), NO (seen 89 times), AMOUNT (seen 88 times), ACCOUNT (seen 86 times), ACTIVATION (seen 83 times), CANCELLATION (seen 81 times), PURCHASE (seen 80 times)\n"
          ]
        },
        {
          "output_type": "stream",
          "name": "stderr",
          "text": [
            "\n"
          ]
        }
      ]
    },
    {
      "cell_type": "code",
      "source": [
        "# 4. initialize fine-tuneable transformer embeddings WITH document context\n",
        "embeddings = TransformerWordEmbeddings(model='bert-base-uncased',\n",
        "                                       layers=\"-1\",\n",
        "                                       subtoken_pooling=\"first\",\n",
        "                                       fine_tune=True,\n",
        "                                       use_context=True\n",
        "                                       )"
      ],
      "metadata": {
        "id": "4P8PJu9c5lSl"
      },
      "execution_count": null,
      "outputs": []
    },
    {
      "cell_type": "code",
      "source": [
        "tagger = SequenceTagger(hidden_size=256,\n",
        "                        embeddings=embeddings,\n",
        "                        tag_dictionary=tag_dictionary,\n",
        "                        tag_type=tag_type,\n",
        "                        use_rnn=True,\n",
        "                        reproject_embeddings=True,\n",
        "                        tag_format=\"BIO\",\n",
        "                        use_crf=True)"
      ],
      "metadata": {
        "colab": {
          "base_uri": "https://localhost:8080/"
        },
        "id": "tko6zKmMVJR4",
        "outputId": "be13f948-5572-4588-83da-57637416a37b"
      },
      "execution_count": null,
      "outputs": [
        {
          "output_type": "stream",
          "name": "stdout",
          "text": [
            "2023-06-18 05:21:18,600 SequenceTagger predicts: Dictionary with 251 tags: O, B-NUMBER, I-NUMBER, B-MY, I-MY, B-DEVICE, I-DEVICE, B-TOP_UP, I-TOP_UP, B-CHANGE, I-CHANGE, B-BILL, I-BILL, B-INTERNET, I-INTERNET, B-PAYMENT, I-PAYMENT, B-BUNDLE, I-BUNDLE, B-SIM, I-SIM, B-DATE, I-DATE, B-CARD, I-CARD, B-UPGRADING, I-UPGRADING, B-CALL, I-CALL, B-NO, I-NO, B-AMOUNT, I-AMOUNT, B-ACCOUNT, I-ACCOUNT, B-ACTIVATION, I-ACTIVATION, B-CANCELLATION, I-CANCELLATION, B-PURCHASE, I-PURCHASE, B-MESSAGES, I-MESSAGES, B-MONEY, I-MONEY, B-CONNECTION, I-CONNECTION, B-LOST, I-LOST, B-CONTRACT\n"
          ]
        }
      ]
    },
    {
      "cell_type": "code",
      "source": [
        "from flair.trainers import ModelTrainer\n",
        "from flair.training_utils import AnnealOnPlateau\n",
        "from torch.optim.adamw import AdamW\n",
        "trainer = ModelTrainer(tagger, corpus)\n",
        "\n",
        "trainer.train('/content/drive/MyDrive/Omer_NER',\n",
        "              learning_rate=1e-4,\n",
        "              mini_batch_size=32,\n",
        "              max_epochs=150,\n",
        "              scheduler=AnnealOnPlateau,\n",
        "              optimizer=AdamW)"
      ],
      "metadata": {
        "colab": {
          "base_uri": "https://localhost:8080/"
        },
        "id": "qPqfp4YkVspA",
        "outputId": "79a13365-25c9-4a30-892e-acb9681b4352"
      },
      "execution_count": null,
      "outputs": [
        {
          "output_type": "stream",
          "name": "stdout",
          "text": [
            "2023-06-18 05:21:20,065 ----------------------------------------------------------------------------------------------------\n",
            "2023-06-18 05:21:20,072 Model: \"SequenceTagger(\n",
            "  (embeddings): TransformerWordEmbeddings(\n",
            "    (model): BertModel(\n",
            "      (embeddings): BertEmbeddings(\n",
            "        (word_embeddings): Embedding(30523, 768)\n",
            "        (position_embeddings): Embedding(512, 768)\n",
            "        (token_type_embeddings): Embedding(2, 768)\n",
            "        (LayerNorm): LayerNorm((768,), eps=1e-12, elementwise_affine=True)\n",
            "        (dropout): Dropout(p=0.1, inplace=False)\n",
            "      )\n",
            "      (encoder): BertEncoder(\n",
            "        (layer): ModuleList(\n",
            "          (0-11): 12 x BertLayer(\n",
            "            (attention): BertAttention(\n",
            "              (self): BertSelfAttention(\n",
            "                (query): Linear(in_features=768, out_features=768, bias=True)\n",
            "                (key): Linear(in_features=768, out_features=768, bias=True)\n",
            "                (value): Linear(in_features=768, out_features=768, bias=True)\n",
            "                (dropout): Dropout(p=0.1, inplace=False)\n",
            "              )\n",
            "              (output): BertSelfOutput(\n",
            "                (dense): Linear(in_features=768, out_features=768, bias=True)\n",
            "                (LayerNorm): LayerNorm((768,), eps=1e-12, elementwise_affine=True)\n",
            "                (dropout): Dropout(p=0.1, inplace=False)\n",
            "              )\n",
            "            )\n",
            "            (intermediate): BertIntermediate(\n",
            "              (dense): Linear(in_features=768, out_features=3072, bias=True)\n",
            "              (intermediate_act_fn): GELUActivation()\n",
            "            )\n",
            "            (output): BertOutput(\n",
            "              (dense): Linear(in_features=3072, out_features=768, bias=True)\n",
            "              (LayerNorm): LayerNorm((768,), eps=1e-12, elementwise_affine=True)\n",
            "              (dropout): Dropout(p=0.1, inplace=False)\n",
            "            )\n",
            "          )\n",
            "        )\n",
            "      )\n",
            "      (pooler): BertPooler(\n",
            "        (dense): Linear(in_features=768, out_features=768, bias=True)\n",
            "        (activation): Tanh()\n",
            "      )\n",
            "    )\n",
            "  )\n",
            "  (word_dropout): WordDropout(p=0.05)\n",
            "  (locked_dropout): LockedDropout(p=0.5)\n",
            "  (embedding2nn): Linear(in_features=768, out_features=768, bias=True)\n",
            "  (rnn): LSTM(768, 256, batch_first=True, bidirectional=True)\n",
            "  (linear): Linear(in_features=512, out_features=253, bias=True)\n",
            "  (loss_function): ViterbiLoss()\n",
            "  (crf): CRF()\n",
            ")\"\n",
            "2023-06-18 05:21:20,078 ----------------------------------------------------------------------------------------------------\n",
            "2023-06-18 05:21:20,083 Corpus: \"Corpus: 4042 train + 757 dev + 727 test sentences\"\n",
            "2023-06-18 05:21:20,087 ----------------------------------------------------------------------------------------------------\n",
            "2023-06-18 05:21:20,088 Parameters:\n",
            "2023-06-18 05:21:20,092  - learning_rate: \"0.000100\"\n",
            "2023-06-18 05:21:20,095  - mini_batch_size: \"32\"\n",
            "2023-06-18 05:21:20,103  - patience: \"3\"\n"
          ]
        },
        {
          "output_type": "stream",
          "name": "stderr",
          "text": [
            "/usr/local/lib/python3.10/dist-packages/flair/trainers/trainer.py:69: UserWarning: There should be no best model saved at epoch 1 except there is a model from previous trainings in your training folder. All previous best models will be deleted.\n",
            "  warnings.warn(\n"
          ]
        },
        {
          "output_type": "stream",
          "name": "stdout",
          "text": [
            "2023-06-18 05:21:20,105  - anneal_factor: \"0.5\"\n",
            "2023-06-18 05:21:20,106  - max_epochs: \"150\"\n",
            "2023-06-18 05:21:20,113  - shuffle: \"True\"\n",
            "2023-06-18 05:21:20,114  - train_with_dev: \"False\"\n",
            "2023-06-18 05:21:20,115  - batch_growth_annealing: \"False\"\n",
            "2023-06-18 05:21:20,116 ----------------------------------------------------------------------------------------------------\n",
            "2023-06-18 05:21:20,123 Model training base path: \"/content/drive/MyDrive/Omer_NER\"\n",
            "2023-06-18 05:21:20,124 ----------------------------------------------------------------------------------------------------\n",
            "2023-06-18 05:21:20,125 Device: cuda:0\n",
            "2023-06-18 05:21:20,126 ----------------------------------------------------------------------------------------------------\n",
            "2023-06-18 05:21:20,132 Embeddings storage mode: cpu\n",
            "2023-06-18 05:21:20,133 ----------------------------------------------------------------------------------------------------\n",
            "2023-06-18 05:21:33,140 epoch 1 - iter 12/127 - loss 5.83337326 - time (sec): 13.01 - samples/sec: 79.73 - lr: 0.000100\n",
            "2023-06-18 05:21:46,127 epoch 1 - iter 24/127 - loss 4.74092509 - time (sec): 25.99 - samples/sec: 112.45 - lr: 0.000100\n",
            "2023-06-18 05:21:59,986 epoch 1 - iter 36/127 - loss 4.15571870 - time (sec): 39.85 - samples/sec: 134.50 - lr: 0.000100\n",
            "2023-06-18 05:22:14,128 epoch 1 - iter 48/127 - loss 3.86667398 - time (sec): 53.99 - samples/sec: 139.92 - lr: 0.000100\n",
            "2023-06-18 05:22:28,795 epoch 1 - iter 60/127 - loss 3.51157844 - time (sec): 68.66 - samples/sec: 156.26 - lr: 0.000100\n",
            "2023-06-18 05:22:44,404 epoch 1 - iter 72/127 - loss 3.97023572 - time (sec): 84.27 - samples/sec: 187.48 - lr: 0.000100\n",
            "2023-06-18 05:23:01,711 epoch 1 - iter 84/127 - loss 3.45515963 - time (sec): 101.58 - samples/sec: 223.38 - lr: 0.000100\n",
            "2023-06-18 05:23:20,495 epoch 1 - iter 96/127 - loss 2.84554627 - time (sec): 120.36 - samples/sec: 240.78 - lr: 0.000100\n",
            "2023-06-18 05:23:38,912 epoch 1 - iter 108/127 - loss 2.48564801 - time (sec): 138.78 - samples/sec: 252.88 - lr: 0.000100\n",
            "2023-06-18 05:23:55,718 epoch 1 - iter 120/127 - loss 2.21866301 - time (sec): 155.58 - samples/sec: 265.23 - lr: 0.000100\n",
            "2023-06-18 05:24:03,033 ----------------------------------------------------------------------------------------------------\n",
            "2023-06-18 05:24:03,037 EPOCH 1 done: loss 2.1877 - lr 0.000100\n"
          ]
        },
        {
          "output_type": "stream",
          "name": "stderr",
          "text": [
            "100%|██████████| 24/24 [00:11<00:00,  2.15it/s]"
          ]
        },
        {
          "output_type": "stream",
          "name": "stdout",
          "text": [
            "2023-06-18 05:24:14,228 Evaluating as a multi-label problem: False\n",
            "2023-06-18 05:24:14,256 DEV : loss 2.1678953170776367 - f1-score (micro avg)  0.0038\n",
            "2023-06-18 05:24:14,293 BAD EPOCHS (no improvement): 0\n",
            "2023-06-18 05:24:14,299 saving best model\n"
          ]
        },
        {
          "output_type": "stream",
          "name": "stderr",
          "text": [
            "\n"
          ]
        },
        {
          "output_type": "stream",
          "name": "stdout",
          "text": [
            "2023-06-18 05:24:16,156 ----------------------------------------------------------------------------------------------------\n",
            "2023-06-18 05:24:31,983 epoch 2 - iter 12/127 - loss 2.60380987 - time (sec): 15.82 - samples/sec: 257.73 - lr: 0.000100\n",
            "2023-06-18 05:24:48,579 epoch 2 - iter 24/127 - loss 2.04114150 - time (sec): 32.42 - samples/sec: 255.07 - lr: 0.000100\n",
            "2023-06-18 05:25:05,053 epoch 2 - iter 36/127 - loss 1.70841891 - time (sec): 48.89 - samples/sec: 253.21 - lr: 0.000100\n",
            "2023-06-18 05:25:20,678 epoch 2 - iter 48/127 - loss 1.49876947 - time (sec): 64.52 - samples/sec: 256.91 - lr: 0.000100\n",
            "2023-06-18 05:25:37,506 epoch 2 - iter 60/127 - loss 1.38450689 - time (sec): 81.35 - samples/sec: 254.19 - lr: 0.000100\n",
            "2023-06-18 05:25:54,168 epoch 2 - iter 72/127 - loss 1.30755905 - time (sec): 98.01 - samples/sec: 252.09 - lr: 0.000100\n",
            "2023-06-18 05:26:10,635 epoch 2 - iter 84/127 - loss 1.25025430 - time (sec): 114.48 - samples/sec: 251.02 - lr: 0.000100\n",
            "2023-06-18 05:26:27,558 epoch 2 - iter 96/127 - loss 1.17660782 - time (sec): 131.40 - samples/sec: 251.49 - lr: 0.000100\n",
            "2023-06-18 05:26:44,161 epoch 2 - iter 108/127 - loss 1.11227212 - time (sec): 148.00 - samples/sec: 252.65 - lr: 0.000100\n",
            "2023-06-18 05:26:59,796 epoch 2 - iter 120/127 - loss 1.08013987 - time (sec): 163.64 - samples/sec: 252.00 - lr: 0.000100\n",
            "2023-06-18 05:27:07,965 ----------------------------------------------------------------------------------------------------\n",
            "2023-06-18 05:27:07,970 EPOCH 2 done: loss 1.0588 - lr 0.000100\n"
          ]
        },
        {
          "output_type": "stream",
          "name": "stderr",
          "text": [
            "100%|██████████| 24/24 [00:10<00:00,  2.25it/s]"
          ]
        },
        {
          "output_type": "stream",
          "name": "stdout",
          "text": [
            "2023-06-18 05:27:18,650 Evaluating as a multi-label problem: False\n",
            "2023-06-18 05:27:18,689 DEV : loss 0.5901839733123779 - f1-score (micro avg)  0.3976\n",
            "2023-06-18 05:27:18,751 BAD EPOCHS (no improvement): 0\n",
            "2023-06-18 05:27:18,759 saving best model\n"
          ]
        },
        {
          "output_type": "stream",
          "name": "stderr",
          "text": [
            "\n"
          ]
        },
        {
          "output_type": "stream",
          "name": "stdout",
          "text": [
            "2023-06-18 05:27:24,744 ----------------------------------------------------------------------------------------------------\n",
            "2023-06-18 05:27:40,853 epoch 3 - iter 12/127 - loss 0.65482528 - time (sec): 16.10 - samples/sec: 257.31 - lr: 0.000100\n",
            "2023-06-18 05:27:57,503 epoch 3 - iter 24/127 - loss 0.63700302 - time (sec): 32.76 - samples/sec: 250.83 - lr: 0.000100\n",
            "2023-06-18 05:28:14,303 epoch 3 - iter 36/127 - loss 0.63832180 - time (sec): 49.56 - samples/sec: 254.67 - lr: 0.000100\n",
            "2023-06-18 05:28:30,701 epoch 3 - iter 48/127 - loss 0.61518846 - time (sec): 65.95 - samples/sec: 258.65 - lr: 0.000100\n",
            "2023-06-18 05:28:46,347 epoch 3 - iter 60/127 - loss 0.62129927 - time (sec): 81.60 - samples/sec: 255.71 - lr: 0.000100\n",
            "2023-06-18 05:29:02,399 epoch 3 - iter 72/127 - loss 0.61821847 - time (sec): 97.65 - samples/sec: 255.94 - lr: 0.000100\n",
            "2023-06-18 05:29:19,017 epoch 3 - iter 84/127 - loss 0.60865553 - time (sec): 114.27 - samples/sec: 254.55 - lr: 0.000100\n",
            "2023-06-18 05:29:35,280 epoch 3 - iter 96/127 - loss 0.60324993 - time (sec): 130.53 - samples/sec: 253.41 - lr: 0.000100\n",
            "2023-06-18 05:29:51,268 epoch 3 - iter 108/127 - loss 0.60009294 - time (sec): 146.52 - samples/sec: 253.36 - lr: 0.000100\n",
            "2023-06-18 05:30:08,575 epoch 3 - iter 120/127 - loss 0.59248872 - time (sec): 163.83 - samples/sec: 252.14 - lr: 0.000100\n",
            "2023-06-18 05:30:17,760 ----------------------------------------------------------------------------------------------------\n",
            "2023-06-18 05:30:17,764 EPOCH 3 done: loss 0.5921 - lr 0.000100\n"
          ]
        },
        {
          "output_type": "stream",
          "name": "stderr",
          "text": [
            "100%|██████████| 24/24 [00:11<00:00,  2.14it/s]"
          ]
        },
        {
          "output_type": "stream",
          "name": "stdout",
          "text": [
            "2023-06-18 05:30:28,990 Evaluating as a multi-label problem: False\n",
            "2023-06-18 05:30:29,040 DEV : loss 0.4293428957462311 - f1-score (micro avg)  0.5505\n",
            "2023-06-18 05:30:29,099 BAD EPOCHS (no improvement): 0\n",
            "2023-06-18 05:30:29,108 saving best model\n"
          ]
        },
        {
          "output_type": "stream",
          "name": "stderr",
          "text": [
            "\n"
          ]
        },
        {
          "output_type": "stream",
          "name": "stdout",
          "text": [
            "2023-06-18 05:30:30,914 ----------------------------------------------------------------------------------------------------\n",
            "2023-06-18 05:30:47,047 epoch 4 - iter 12/127 - loss 0.53569324 - time (sec): 16.13 - samples/sec: 253.89 - lr: 0.000100\n",
            "2023-06-18 05:31:02,927 epoch 4 - iter 24/127 - loss 0.49611626 - time (sec): 32.01 - samples/sec: 250.03 - lr: 0.000100\n",
            "2023-06-18 05:31:19,844 epoch 4 - iter 36/127 - loss 0.45918288 - time (sec): 48.93 - samples/sec: 250.19 - lr: 0.000100\n",
            "2023-06-18 05:31:36,102 epoch 4 - iter 48/127 - loss 0.46047065 - time (sec): 65.18 - samples/sec: 250.40 - lr: 0.000100\n",
            "2023-06-18 05:31:52,711 epoch 4 - iter 60/127 - loss 0.45595649 - time (sec): 81.79 - samples/sec: 250.47 - lr: 0.000100\n",
            "2023-06-18 05:32:08,679 epoch 4 - iter 72/127 - loss 0.46376405 - time (sec): 97.76 - samples/sec: 251.04 - lr: 0.000100\n",
            "2023-06-18 05:32:24,227 epoch 4 - iter 84/127 - loss 0.46357483 - time (sec): 113.31 - samples/sec: 251.27 - lr: 0.000100\n",
            "2023-06-18 05:32:41,009 epoch 4 - iter 96/127 - loss 0.45579800 - time (sec): 130.09 - samples/sec: 251.83 - lr: 0.000100\n",
            "2023-06-18 05:32:57,356 epoch 4 - iter 108/127 - loss 0.44676430 - time (sec): 146.44 - samples/sec: 252.65 - lr: 0.000100\n",
            "2023-06-18 05:33:13,153 epoch 4 - iter 120/127 - loss 0.44255806 - time (sec): 162.23 - samples/sec: 254.22 - lr: 0.000100\n",
            "2023-06-18 05:33:21,686 ----------------------------------------------------------------------------------------------------\n",
            "2023-06-18 05:33:21,689 EPOCH 4 done: loss 0.4397 - lr 0.000100\n"
          ]
        },
        {
          "output_type": "stream",
          "name": "stderr",
          "text": [
            "100%|██████████| 24/24 [00:10<00:00,  2.31it/s]"
          ]
        },
        {
          "output_type": "stream",
          "name": "stdout",
          "text": [
            "2023-06-18 05:33:32,077 Evaluating as a multi-label problem: False\n",
            "2023-06-18 05:33:32,112 DEV : loss 0.29185226559638977 - f1-score (micro avg)  0.6911\n",
            "2023-06-18 05:33:32,150 BAD EPOCHS (no improvement): 0\n",
            "2023-06-18 05:33:32,156 saving best model\n"
          ]
        },
        {
          "output_type": "stream",
          "name": "stderr",
          "text": [
            "\n"
          ]
        },
        {
          "output_type": "stream",
          "name": "stdout",
          "text": [
            "2023-06-18 05:33:36,396 ----------------------------------------------------------------------------------------------------\n",
            "2023-06-18 05:33:52,739 epoch 5 - iter 12/127 - loss 0.40697303 - time (sec): 16.34 - samples/sec: 248.10 - lr: 0.000100\n",
            "2023-06-18 05:34:08,749 epoch 5 - iter 24/127 - loss 0.37595789 - time (sec): 32.35 - samples/sec: 254.62 - lr: 0.000100\n",
            "2023-06-18 05:34:25,605 epoch 5 - iter 36/127 - loss 0.34830335 - time (sec): 49.21 - samples/sec: 255.42 - lr: 0.000100\n",
            "2023-06-18 05:34:42,148 epoch 5 - iter 48/127 - loss 0.33936503 - time (sec): 65.75 - samples/sec: 258.98 - lr: 0.000100\n",
            "2023-06-18 05:34:58,779 epoch 5 - iter 60/127 - loss 0.33733682 - time (sec): 82.38 - samples/sec: 255.49 - lr: 0.000100\n",
            "2023-06-18 05:35:14,069 epoch 5 - iter 72/127 - loss 0.33968453 - time (sec): 97.67 - samples/sec: 256.73 - lr: 0.000100\n",
            "2023-06-18 05:35:29,775 epoch 5 - iter 84/127 - loss 0.33752530 - time (sec): 113.38 - samples/sec: 255.39 - lr: 0.000100\n",
            "2023-06-18 05:35:46,081 epoch 5 - iter 96/127 - loss 0.33583758 - time (sec): 129.68 - samples/sec: 254.55 - lr: 0.000100\n",
            "2023-06-18 05:36:02,064 epoch 5 - iter 108/127 - loss 0.33321407 - time (sec): 145.67 - samples/sec: 255.52 - lr: 0.000100\n",
            "2023-06-18 05:36:18,971 epoch 5 - iter 120/127 - loss 0.32569394 - time (sec): 162.57 - samples/sec: 254.55 - lr: 0.000100\n",
            "2023-06-18 05:36:27,273 ----------------------------------------------------------------------------------------------------\n",
            "2023-06-18 05:36:27,275 EPOCH 5 done: loss 0.3282 - lr 0.000100\n"
          ]
        },
        {
          "output_type": "stream",
          "name": "stderr",
          "text": [
            "100%|██████████| 24/24 [00:10<00:00,  2.23it/s]"
          ]
        },
        {
          "output_type": "stream",
          "name": "stdout",
          "text": [
            "2023-06-18 05:36:38,077 Evaluating as a multi-label problem: False\n",
            "2023-06-18 05:36:38,102 DEV : loss 0.2131327986717224 - f1-score (micro avg)  0.7869\n",
            "2023-06-18 05:36:38,146 BAD EPOCHS (no improvement): 0\n",
            "2023-06-18 05:36:38,152 saving best model\n"
          ]
        },
        {
          "output_type": "stream",
          "name": "stderr",
          "text": [
            "\n"
          ]
        },
        {
          "output_type": "stream",
          "name": "stdout",
          "text": [
            "2023-06-18 05:36:39,825 ----------------------------------------------------------------------------------------------------\n",
            "2023-06-18 05:36:56,515 epoch 6 - iter 12/127 - loss 0.28412948 - time (sec): 16.69 - samples/sec: 258.46 - lr: 0.000100\n",
            "2023-06-18 05:37:13,357 epoch 6 - iter 24/127 - loss 0.26201184 - time (sec): 33.53 - samples/sec: 259.11 - lr: 0.000100\n",
            "2023-06-18 05:37:29,746 epoch 6 - iter 36/127 - loss 0.26009655 - time (sec): 49.92 - samples/sec: 253.87 - lr: 0.000100\n",
            "2023-06-18 05:37:45,637 epoch 6 - iter 48/127 - loss 0.25583722 - time (sec): 65.81 - samples/sec: 254.22 - lr: 0.000100\n",
            "2023-06-18 05:38:02,031 epoch 6 - iter 60/127 - loss 0.25092206 - time (sec): 82.20 - samples/sec: 251.20 - lr: 0.000100\n",
            "2023-06-18 05:38:18,015 epoch 6 - iter 72/127 - loss 0.25537203 - time (sec): 98.19 - samples/sec: 250.70 - lr: 0.000100\n",
            "2023-06-18 05:38:35,001 epoch 6 - iter 84/127 - loss 0.25464691 - time (sec): 115.17 - samples/sec: 249.76 - lr: 0.000100\n",
            "2023-06-18 05:38:50,875 epoch 6 - iter 96/127 - loss 0.25149296 - time (sec): 131.05 - samples/sec: 250.96 - lr: 0.000100\n",
            "2023-06-18 05:39:06,893 epoch 6 - iter 108/127 - loss 0.24589068 - time (sec): 147.07 - samples/sec: 251.11 - lr: 0.000100\n",
            "2023-06-18 05:39:23,118 epoch 6 - iter 120/127 - loss 0.24330802 - time (sec): 163.29 - samples/sec: 251.32 - lr: 0.000100\n",
            "2023-06-18 05:39:31,551 ----------------------------------------------------------------------------------------------------\n",
            "2023-06-18 05:39:31,554 EPOCH 6 done: loss 0.2386 - lr 0.000100\n"
          ]
        },
        {
          "output_type": "stream",
          "name": "stderr",
          "text": [
            "100%|██████████| 24/24 [00:11<00:00,  2.16it/s]"
          ]
        },
        {
          "output_type": "stream",
          "name": "stdout",
          "text": [
            "2023-06-18 05:39:42,663 Evaluating as a multi-label problem: False\n",
            "2023-06-18 05:39:42,689 DEV : loss 0.15095172822475433 - f1-score (micro avg)  0.8445\n",
            "2023-06-18 05:39:42,731 BAD EPOCHS (no improvement): 0\n",
            "2023-06-18 05:39:42,742 saving best model\n"
          ]
        },
        {
          "output_type": "stream",
          "name": "stderr",
          "text": [
            "\n"
          ]
        },
        {
          "output_type": "stream",
          "name": "stdout",
          "text": [
            "2023-06-18 05:39:46,542 ----------------------------------------------------------------------------------------------------\n",
            "2023-06-18 05:40:03,708 epoch 7 - iter 12/127 - loss 0.19479224 - time (sec): 17.16 - samples/sec: 259.37 - lr: 0.000100\n",
            "2023-06-18 05:40:19,925 epoch 7 - iter 24/127 - loss 0.19520579 - time (sec): 33.38 - samples/sec: 258.62 - lr: 0.000100\n",
            "2023-06-18 05:40:28,303 ----------------------------------------------------------------------------------------------------\n",
            "2023-06-18 05:40:28,307 Exiting from training early.\n",
            "2023-06-18 05:40:28,309 Saving model ...\n",
            "2023-06-18 05:40:30,167 Done.\n",
            "2023-06-18 05:40:30,175 ----------------------------------------------------------------------------------------------------\n",
            "2023-06-18 05:40:33,273 SequenceTagger predicts: Dictionary with 253 tags: O, B-NUMBER, I-NUMBER, B-MY, I-MY, B-DEVICE, I-DEVICE, B-TOP_UP, I-TOP_UP, B-CHANGE, I-CHANGE, B-BILL, I-BILL, B-INTERNET, I-INTERNET, B-PAYMENT, I-PAYMENT, B-BUNDLE, I-BUNDLE, B-SIM, I-SIM, B-DATE, I-DATE, B-CARD, I-CARD, B-UPGRADING, I-UPGRADING, B-CALL, I-CALL, B-NO, I-NO, B-AMOUNT, I-AMOUNT, B-ACCOUNT, I-ACCOUNT, B-ACTIVATION, I-ACTIVATION, B-CANCELLATION, I-CANCELLATION, B-PURCHASE, I-PURCHASE, B-MESSAGES, I-MESSAGES, B-MONEY, I-MONEY, B-CONNECTION, I-CONNECTION, B-LOST, I-LOST, B-CONTRACT\n"
          ]
        },
        {
          "output_type": "stream",
          "name": "stderr",
          "text": [
            "100%|██████████| 23/23 [00:10<00:00,  2.27it/s]"
          ]
        },
        {
          "output_type": "stream",
          "name": "stdout",
          "text": [
            "2023-06-18 05:40:43,609 Evaluating as a multi-label problem: False\n",
            "2023-06-18 05:40:43,645 0.8684\t0.8944\t0.8812\t0.8531\n",
            "2023-06-18 05:40:43,647 \n",
            "Results:\n",
            "- F-score (micro) 0.8812\n",
            "- F-score (macro) 0.481\n",
            "- Accuracy 0.8531\n",
            "\n",
            "By class:\n",
            "                precision    recall  f1-score   support\n",
            "\n",
            "        NUMBER     0.9942    1.0000    0.9971       341\n",
            "            MY     0.9455    1.0000    0.9720       104\n",
            "        DEVICE     0.9804    1.0000    0.9901        50\n",
            "        CHANGE     1.0000    1.0000    1.0000        41\n",
            "          BILL     0.9697    1.0000    0.9846        32\n",
            "        TOP_UP     0.9655    1.0000    0.9825        28\n",
            "      INTERNET     0.8966    1.0000    0.9455        26\n",
            "       PAYMENT     0.9231    1.0000    0.9600        24\n",
            "     UPGRADING     1.0000    1.0000    1.0000        25\n",
            "        BUNDLE     0.6296    0.8947    0.7391        19\n",
            "          CARD     0.8696    1.0000    0.9302        20\n",
            "           SIM     0.9524    1.0000    0.9756        20\n",
            "      CONTRACT     0.9500    1.0000    0.9744        19\n",
            "       ACCOUNT     0.8500    1.0000    0.9189        17\n",
            "  CANCELLATION     0.7619    1.0000    0.8649        16\n",
            "          CALL     0.9412    1.0000    0.9697        16\n",
            "          LOST     0.6316    0.9231    0.7500        13\n",
            "          DATE     0.4000    0.7273    0.5161        11\n",
            "       BALANCE     0.7647    1.0000    0.8667        13\n",
            "        AMOUNT     0.8667    0.9286    0.8966        14\n",
            "            NO     0.7857    0.7857    0.7857        14\n",
            "          CODE     0.8667    1.0000    0.9286        13\n",
            "      MESSAGES     0.6250    0.8333    0.7143        12\n",
            "           NEW     1.0000    1.0000    1.0000        13\n",
            "    CONNECTION     0.5000    0.6667    0.5714         9\n",
            "           PAC     0.7500    1.0000    0.8571         9\n",
            "    ACTIVATION     0.4000    1.0000    0.5714         6\n",
            "        CREDIT     0.6667    0.8889    0.7619         9\n",
            "       PROBLEM     0.5385    1.0000    0.7000         7\n",
            "     UNLOCKING     0.5556    0.6250    0.5882         8\n",
            "      PURCHASE     1.0000    0.8889    0.9412         9\n",
            "      TRANSFER     0.8750    0.7778    0.8235         9\n",
            "       SERVICE     0.3750    0.5000    0.4286         6\n",
            "         DEBIT     1.0000    1.0000    1.0000         7\n",
            "           PIN     0.7143    0.7143    0.7143         7\n",
            "       NETWORK     0.6667    0.2000    0.3077        10\n",
            "        TARIFF     0.2000    0.1250    0.1538         8\n",
            " INTERNATIONAL     0.8571    1.0000    0.9231         6\n",
            "         MONEY     0.6250    1.0000    0.7692         5\n",
            "      BLOCKING     0.6667    0.6667    0.6667         6\n",
            "           YES     0.0000    0.0000    0.0000         1\n",
            "      CUSTOMER     1.0000    0.6667    0.8000         6\n",
            "      CHARGING     0.5000    0.7500    0.6000         4\n",
            "        RETURN     0.8000    1.0000    0.8889         4\n",
            "  REGISTRATION     0.7500    0.6000    0.6667         5\n",
            "         FRAUD     1.0000    0.6000    0.7500         5\n",
            "    UNBLOCKING     1.0000    1.0000    1.0000         4\n",
            "      PROVIDER     1.0000    1.0000    1.0000         3\n",
            "       MINUTES     0.2500    1.0000    0.4000         1\n",
            "          PLAN     1.0000    0.6667    0.8000         3\n",
            "          BACK     0.3333    0.5000    0.4000         2\n",
            "          LINE     1.0000    0.6667    0.8000         3\n",
            "          BANK     1.0000    0.3333    0.5000         3\n",
            "         ORDER     1.0000    1.0000    1.0000         2\n",
            "           PUK     0.0000    0.0000    0.0000         4\n",
            "       PICTURE     0.0000    0.0000    0.0000         3\n",
            "           ALL     1.0000    1.0000    1.0000         2\n",
            "          COST     1.0000    0.3333    0.5000         3\n",
            "        REWARD     1.0000    0.5000    0.6667         2\n",
            " DOCUMENTATION     0.0000    0.0000    0.0000         3\n",
            "       RENEWAL     0.0000    0.0000    0.0000         3\n",
            "        DAMAGE     0.0000    0.0000    0.0000         3\n",
            "       ADDRESS     0.0000    0.0000    0.0000         1\n",
            "        REFUND     0.0000    0.0000    0.0000         1\n",
            "          SEND     0.0000    0.0000    0.0000         2\n",
            "   APPLICATION     0.0000    0.0000    0.0000         3\n",
            "        REPAIR     0.0000    0.0000    0.0000         2\n",
            "       MONTHLY     0.0000    0.0000    0.0000         2\n",
            "          WIFI     0.0000    0.0000    0.0000         2\n",
            "       RECEIVE     0.0000    0.0000    0.0000         2\n",
            "         LEAVE     0.0000    0.0000    0.0000         2\n",
            "     GIGABYTES     0.0000    0.0000    0.0000         2\n",
            " NOTIFICATIONS     0.0000    0.0000    0.0000         2\n",
            "       OVERDUE     0.0000    0.0000    0.0000         2\n",
            "        LOCKED     0.0000    0.0000    0.0000         2\n",
            "     AUTOMATIC     0.0000    0.0000    0.0000         2\n",
            "      SETTINGS     1.0000    1.0000    1.0000         1\n",
            "        WEEKLY     0.0000    0.0000    0.0000         2\n",
            "       INVALID     0.0000    0.0000    0.0000         1\n",
            "     MEGABYTES     0.0000    0.0000    0.0000         1\n",
            "         OTHER     0.0000    0.0000    0.0000         1\n",
            "      COVERAGE     0.0000    0.0000    0.0000         1\n",
            "        MOBILE     0.0000    0.0000    0.0000         1\n",
            "         VALID     0.0000    0.0000    0.0000         1\n",
            "          LAST     0.0000    0.0000    0.0000         1\n",
            "IDENTIFICATION     0.0000    0.0000    0.0000         1\n",
            "     MAIN_MENU     0.0000    0.0000    0.0000         1\n",
            "      DOWNLOAD     0.0000    0.0000    0.0000         1\n",
            "      PERSONAL     0.0000    0.0000    0.0000         1\n",
            "   DESTINATION     0.0000    0.0000    0.0000         1\n",
            "  SUBSCRIPTION     0.0000    0.0000    0.0000         1\n",
            "       CURRENT     0.0000    0.0000    0.0000         1\n",
            "         SHOPS     0.0000    0.0000    0.0000         1\n",
            "      POSTPAID     0.0000    0.0000    0.0000         0\n",
            "\n",
            "     micro avg     0.8684    0.8944    0.8812      1136\n",
            "     macro avg     0.4850    0.5081    0.4810      1136\n",
            "  weighted avg     0.8520    0.8944    0.8661      1136\n",
            "\n",
            "2023-06-18 05:40:43,649 ----------------------------------------------------------------------------------------------------\n"
          ]
        },
        {
          "output_type": "stream",
          "name": "stderr",
          "text": [
            "\n"
          ]
        },
        {
          "output_type": "execute_result",
          "data": {
            "text/plain": [
              "{'test_score': 0.8811795316565482,\n",
              " 'dev_score_history': [0.0037579857196542656,\n",
              "  0.39756415832970854,\n",
              "  0.5504587155963302,\n",
              "  0.6911083017277707,\n",
              "  0.7868988391376452,\n",
              "  0.8445360824742267],\n",
              " 'train_loss_history': [2.1877360389245615,\n",
              "  1.0588149778054796,\n",
              "  0.5921017241792514,\n",
              "  0.439745923691718,\n",
              "  0.3281521966552171,\n",
              "  0.23862481277821984],\n",
              " 'dev_loss_history': [2.1678953170776367,\n",
              "  0.5901839733123779,\n",
              "  0.4293428957462311,\n",
              "  0.29185226559638977,\n",
              "  0.2131327986717224,\n",
              "  0.15095172822475433]}"
            ]
          },
          "metadata": {},
          "execution_count": 7
        }
      ]
    },
    {
      "cell_type": "code",
      "source": [
        "from flair.data import Sentence\n",
        "from flair.models import SequenceTagger\n",
        "# load the trained model\n",
        "model = SequenceTagger.load('/content/drive/MyDrive/Omer_NER/best-model.pt')\n",
        "# create example sentence\n"
      ],
      "metadata": {
        "colab": {
          "base_uri": "https://localhost:8080/"
        },
        "id": "A4wr-pplWx-j",
        "outputId": "e8a7fd4e-5ff8-4980-f5f0-2c4b77e1f0ac"
      },
      "execution_count": null,
      "outputs": [
        {
          "output_type": "stream",
          "name": "stdout",
          "text": [
            "2023-06-18 05:40:46,641 SequenceTagger predicts: Dictionary with 253 tags: O, B-NUMBER, I-NUMBER, B-MY, I-MY, B-DEVICE, I-DEVICE, B-TOP_UP, I-TOP_UP, B-CHANGE, I-CHANGE, B-BILL, I-BILL, B-INTERNET, I-INTERNET, B-PAYMENT, I-PAYMENT, B-BUNDLE, I-BUNDLE, B-SIM, I-SIM, B-DATE, I-DATE, B-CARD, I-CARD, B-UPGRADING, I-UPGRADING, B-CALL, I-CALL, B-NO, I-NO, B-AMOUNT, I-AMOUNT, B-ACCOUNT, I-ACCOUNT, B-ACTIVATION, I-ACTIVATION, B-CANCELLATION, I-CANCELLATION, B-PURCHASE, I-PURCHASE, B-MESSAGES, I-MESSAGES, B-MONEY, I-MONEY, B-CONNECTION, I-CONNECTION, B-LOST, I-LOST, B-CONTRACT\n"
          ]
        }
      ]
    },
    {
      "cell_type": "code",
      "source": [
        "sentence = Sentence(\"customer service\")\n",
        "# predict the tags\n",
        "model.predict(sentence)\n"
      ],
      "metadata": {
        "id": "QtsgNc6uzBkr"
      },
      "execution_count": null,
      "outputs": []
    },
    {
      "cell_type": "code",
      "source": [
        "print(sentence.to_tagged_string())"
      ],
      "metadata": {
        "colab": {
          "base_uri": "https://localhost:8080/"
        },
        "id": "Smo4vfzEzZnJ",
        "outputId": "dc8831ea-43b7-44be-ad99-9a676acaccd5"
      },
      "execution_count": null,
      "outputs": [
        {
          "output_type": "stream",
          "name": "stdout",
          "text": [
            "Sentence[2]: \"customer service\" → [\"customer\"/CONNECTION, \"service\"/SERVICE]\n"
          ]
        }
      ]
    },
    {
      "cell_type": "code",
      "source": [],
      "metadata": {
        "id": "zX30-5Tv01TP"
      },
      "execution_count": null,
      "outputs": []
    }
  ]
}